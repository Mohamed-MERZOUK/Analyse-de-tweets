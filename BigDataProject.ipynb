{
  "nbformat": 4,
  "nbformat_minor": 0,
  "metadata": {
    "colab": {
      "name": "BigDataProject.ipynb",
      "provenance": [],
      "collapsed_sections": [
        "cpuI1DeHZJhI",
        "Wtt7RQrtTxgp",
        "bvjOISsxWHm7",
        "6vUmrmLtVOIU"
      ],
      "authorship_tag": "ABX9TyNSh55R5V1fTDlSXj/9dPM9",
      "include_colab_link": true
    },
    "kernelspec": {
      "name": "python3",
      "display_name": "Python 3"
    },
    "language_info": {
      "name": "python"
    }
  },
  "cells": [
    {
      "cell_type": "markdown",
      "metadata": {
        "id": "view-in-github",
        "colab_type": "text"
      },
      "source": [
        "<a href=\"https://colab.research.google.com/github/Mohamed-MERZOUK/Analyse-de-tweets/blob/main/BigDataProject.ipynb\" target=\"_parent\"><img src=\"https://colab.research.google.com/assets/colab-badge.svg\" alt=\"Open In Colab\"/></a>"
      ]
    },
    {
      "cell_type": "code",
      "metadata": {
        "id": "A5h_cosg5zuL"
      },
      "source": [
        "!pip install ipython-autotime\n",
        "%load_ext autotime"
      ],
      "execution_count": null,
      "outputs": []
    },
    {
      "cell_type": "markdown",
      "metadata": {
        "id": "cpuI1DeHZJhI"
      },
      "source": [
        "# **Mise en place de l’environnement de travail**\n",
        "\n"
      ]
    },
    {
      "cell_type": "markdown",
      "metadata": {
        "id": "Wtt7RQrtTxgp"
      },
      "source": [
        "## Installation de PySpark"
      ]
    },
    {
      "cell_type": "code",
      "metadata": {
        "id": "_EfPRLs2Sjwl"
      },
      "source": [
        "!apt-get install openjdk-8-jdk-headless -qq > /dev/null\n",
        "!wget -q https://www-us.apache.org/dist/spark/spark-3.1.1/spark-3.1.1-bin-hadoop2.7.tgz\n",
        "!tar xf spark-3.1.1-bin-hadoop2.7.tgz\n",
        "!pip install -q findspark"
      ],
      "execution_count": null,
      "outputs": []
    },
    {
      "cell_type": "code",
      "metadata": {
        "id": "PvQAbaLUT438"
      },
      "source": [
        "import os\n",
        "os.environ[\"JAVA_HOME\"] = \"/usr/lib/jvm/java-8-openjdk-amd64\"\n",
        "os.environ[\"SPARK_HOME\"] = \"/content/spark-3.1.1-bin-hadoop2.7\""
      ],
      "execution_count": null,
      "outputs": []
    },
    {
      "cell_type": "code",
      "metadata": {
        "id": "o-H7bhGjT9im"
      },
      "source": [
        "import findspark\n",
        "findspark.init(\"spark-3.1.1-bin-hadoop2.7\")"
      ],
      "execution_count": null,
      "outputs": []
    },
    {
      "cell_type": "markdown",
      "metadata": {
        "id": "bvjOISsxWHm7"
      },
      "source": [
        "## Création de l'objet SparkContext"
      ]
    },
    {
      "cell_type": "code",
      "metadata": {
        "id": "hNu4X9mCWG3V"
      },
      "source": [
        "# L'objet sparkContext sc\n",
        "from pyspark import SparkContext, SparkConf\n",
        "conf = SparkConf().setAppName(\"ProjectApp\").setMaster(\"local[4]\")\n",
        "sc = SparkContext(conf=conf)"
      ],
      "execution_count": null,
      "outputs": []
    },
    {
      "cell_type": "markdown",
      "metadata": {
        "id": "6vUmrmLtVOIU"
      },
      "source": [
        "## Création de l'objet SparkSession"
      ]
    },
    {
      "cell_type": "code",
      "metadata": {
        "id": "64y3TPrdUFy2"
      },
      "source": [
        "# L'objet sparkSession créé pour utiliser l'API Spark SQL\n",
        "from pyspark.sql import SparkSession\n",
        "spark = SparkSession.builder.config(conf=conf).getOrCreate()"
      ],
      "execution_count": null,
      "outputs": []
    },
    {
      "cell_type": "markdown",
      "metadata": {
        "id": "pXDzPqiqZUpz"
      },
      "source": [
        "# **Données**"
      ]
    },
    {
      "cell_type": "markdown",
      "metadata": {
        "id": "2CBLtPacYWrs"
      },
      "source": [
        "## Génération de données"
      ]
    },
    {
      "cell_type": "code",
      "metadata": {
        "id": "E7EdsYabVKUa",
        "colab": {
          "base_uri": "https://localhost:8080/"
        },
        "outputId": "075a3a88-4806-40a4-e55c-cfe1bb6a02fa"
      },
      "source": [
        "from sklearn.datasets.samples_generator import make_blobs \n",
        "\n",
        "X1, y1_true = make_blobs(n_samples=1200, centers=4, n_features=2,\n",
        "                       cluster_std=1.50, random_state=40)\n",
        "\n",
        "X2, y2_true = make_blobs(n_samples=1500, centers=4, n_features=3,\n",
        "                       cluster_std=1.00, random_state=41)\n",
        "\n",
        "X3, y3_true = make_blobs(n_samples=2000, centers=4, n_features=5,\n",
        "                       cluster_std=0.50, random_state=42)"
      ],
      "execution_count": null,
      "outputs": [
        {
          "output_type": "stream",
          "text": [
            "time: 15.2 ms (started: 2021-05-30 15:52:03 +00:00)\n"
          ],
          "name": "stdout"
        }
      ]
    },
    {
      "cell_type": "markdown",
      "metadata": {
        "id": "AxIZxJu6ZbzN"
      },
      "source": [
        "## Création du RDD"
      ]
    },
    {
      "cell_type": "code",
      "metadata": {
        "id": "Yae0qyHhap8s",
        "colab": {
          "base_uri": "https://localhost:8080/"
        },
        "outputId": "c5bd3b2b-79a3-4215-8253-b8875e015ce6"
      },
      "source": [
        "def totupleliste(X,Y):\n",
        "  t = []\n",
        "  for x,y in zip(X.tolist(),Y.tolist()):\n",
        "    x.append(y)\n",
        "    t.append(tuple(x))\n",
        "  return t\n",
        "\n",
        "t1 = totupleliste(X1,y1_true)\n",
        "t2 = totupleliste(X2,y2_true)\n",
        "t3 = totupleliste(X3,y3_true)"
      ],
      "execution_count": null,
      "outputs": [
        {
          "output_type": "stream",
          "text": [
            "time: 29.8 ms (started: 2021-05-30 15:52:04 +00:00)\n"
          ],
          "name": "stdout"
        }
      ]
    },
    {
      "cell_type": "code",
      "metadata": {
        "id": "zR3lzAzQYxRn",
        "colab": {
          "base_uri": "https://localhost:8080/"
        },
        "outputId": "cd178548-c235-4ac0-fcf9-4a9dd61dca20"
      },
      "source": [
        "rdd1 = sc.parallelize(t1)\n",
        "rdd2 = sc.parallelize(t2)\n",
        "rdd3 = sc.parallelize(t3)"
      ],
      "execution_count": null,
      "outputs": [
        {
          "output_type": "stream",
          "text": [
            "time: 18.8 ms (started: 2021-05-30 15:52:05 +00:00)\n"
          ],
          "name": "stdout"
        }
      ]
    },
    {
      "cell_type": "markdown",
      "metadata": {
        "id": "6N6WaTKtnGd5"
      },
      "source": [
        "## Création du Dataframe"
      ]
    },
    {
      "cell_type": "code",
      "metadata": {
        "colab": {
          "base_uri": "https://localhost:8080/"
        },
        "id": "YzNphZ9TalxP",
        "outputId": "f058aeac-89bb-4238-b701-103038ce7a84"
      },
      "source": [
        "deptColumns = [\"x1\",\"x2\",\"class\"]\n",
        "df1 = rdd1.toDF(deptColumns)\n",
        "\n",
        "deptColumns = [\"x1\",\"x2\",\"x3\",\"class\"]\n",
        "df2 = rdd2.toDF(deptColumns)\n",
        "\n",
        "deptColumns = [\"x1\",\"x2\",\"x3\",\"x4\",\"x5\",\"class\"]\n",
        "df3 = rdd3.toDF(deptColumns)\n",
        "\n",
        "df1.printSchema()\n",
        "df1.show(truncate=False)"
      ],
      "execution_count": null,
      "outputs": [
        {
          "output_type": "stream",
          "text": [
            "root\n",
            " |-- x1: double (nullable = true)\n",
            " |-- x2: double (nullable = true)\n",
            " |-- class: long (nullable = true)\n",
            "\n",
            "+--------------------+-------------------+-----+\n",
            "|x1                  |x2                 |class|\n",
            "+--------------------+-------------------+-----+\n",
            "|0.2080319426274464  |-11.44677632321588 |0    |\n",
            "|7.3310176294246965  |-1.996983823103407 |1    |\n",
            "|4.640867191595549   |-5.355819950141177 |1    |\n",
            "|-0.6857422100702182 |-9.515901277351507 |0    |\n",
            "|0.18280697659597167 |-4.034624313988483 |2    |\n",
            "|-0.6550241303923521 |3.230069616391547  |3    |\n",
            "|0.52935446268629    |1.9017019733897742 |3    |\n",
            "|-6.21461475410652   |-9.485459117246883 |0    |\n",
            "|0.8065105255722425  |3.688581698331709  |3    |\n",
            "|5.518886530401512   |-1.7976214232019094|1    |\n",
            "|4.643418767326436   |-5.427985411090114 |1    |\n",
            "|-0.9388461464082694 |-3.217722273838516 |2    |\n",
            "|-1.7466189389261682 |2.66481075818763   |3    |\n",
            "|2.8408316670107663  |-1.0583788115599466|2    |\n",
            "|4.60881086980905    |-3.5286741031573725|1    |\n",
            "|-3.2126087203079257 |-5.028837961362077 |2    |\n",
            "|-0.43147875808282476|-8.599973119816232 |0    |\n",
            "|2.666542260522646   |1.1847327509985517 |3    |\n",
            "|1.927842008094732   |-3.7681838866348016|2    |\n",
            "|1.5537674277951257  |4.934463398750513  |3    |\n",
            "+--------------------+-------------------+-----+\n",
            "only showing top 20 rows\n",
            "\n",
            "time: 328 ms (started: 2021-05-30 15:52:05 +00:00)\n"
          ],
          "name": "stdout"
        }
      ]
    },
    {
      "cell_type": "markdown",
      "metadata": {
        "id": "F28Ofp9gs7OU"
      },
      "source": [
        "# **Analyse descriptive**\n"
      ]
    },
    {
      "cell_type": "code",
      "metadata": {
        "colab": {
          "base_uri": "https://localhost:8080/"
        },
        "id": "tcGlOD4Cf54-",
        "outputId": "81ba1d0c-65bf-4d3c-dd56-e44b4e049f24"
      },
      "source": [
        "print(\"Shape of data1 : \" + str(X1.shape))\n",
        "print(\"Shape of data2 : \" + str(X2.shape))\n",
        "print(\"Shape of data3 : \" + str(X3.shape))"
      ],
      "execution_count": null,
      "outputs": [
        {
          "output_type": "stream",
          "text": [
            "Shape of data1 : (1200, 2)\n",
            "Shape of data2 : (1500, 3)\n",
            "Shape of data3 : (2000, 5)\n",
            "time: 11.5 ms (started: 2021-05-30 15:52:05 +00:00)\n"
          ],
          "name": "stdout"
        }
      ]
    },
    {
      "cell_type": "markdown",
      "metadata": {
        "id": "Q8g-WdPGwdQc"
      },
      "source": [
        "### Visualisation en utilisant les 2 premières dimensions"
      ]
    },
    {
      "cell_type": "code",
      "metadata": {
        "colab": {
          "base_uri": "https://localhost:8080/",
          "height": 244
        },
        "id": "riG1aQ5PYet4",
        "outputId": "40fc061c-a0f3-48f9-b7bb-72501e0571ff"
      },
      "source": [
        "import matplotlib.pyplot as plt\n",
        "plt.figure(figsize=(15,3))\n",
        "\n",
        "plt.subplot(131)\n",
        "plt.scatter(X1[:, 0], X1[:, 1], s=10)\n",
        "plt.title(\"Data 1\")\n",
        "\n",
        "plt.subplot(132)\n",
        "plt.scatter(X2[:, 0], X2[:, 1], s=10)\n",
        "plt.title(\"Data 2\")\n",
        "\n",
        "plt.subplot(133)\n",
        "plt.scatter(X3[:, 0], X3[:, 1], s=10)\n",
        "plt.title(\"Data 3\")\n",
        "\n",
        "plt.savefig('analyse.png')"
      ],
      "execution_count": null,
      "outputs": [
        {
          "output_type": "display_data",
          "data": {
            "image/png": "[encoded data removed]",
            "text/plain": [
              "<Figure size 1080x216 with 3 Axes>"
            ]
          },
          "metadata": {
            "tags": [],
            "needs_background": "light"
          }
        },
        {
          "output_type": "stream",
          "text": [
            "time: 755 ms (started: 2021-05-30 15:52:05 +00:00)\n"
          ],
          "name": "stdout"
        }
      ]
    },
    {
      "cell_type": "markdown",
      "metadata": {
        "id": "GjrR4sRQwDzb"
      },
      "source": [
        "# **Clustering**"
      ]
    },
    {
      "cell_type": "markdown",
      "metadata": {
        "id": "l_7XCCzOwLwf"
      },
      "source": [
        "### En utulisant Scikit-learn"
      ]
    },
    {
      "cell_type": "code",
      "metadata": {
        "id": "vLV1dOrJwExZ",
        "colab": {
          "base_uri": "https://localhost:8080/"
        },
        "outputId": "040d3d4d-14db-48ea-cd1f-6e7618a29bd6"
      },
      "source": [
        "from sklearn.cluster import KMeans as Kmeans_sklearn_algo\n",
        "def kmeans_sklearn(df):\n",
        "  kmeans = Kmeans_sklearn_algo(n_clusters=4) \n",
        "  kmeans.fit(df)\n",
        "  return kmeans\n",
        "\n",
        "kmeans_sklearn1 = kmeans_sklearn(X1)\n",
        "y1_kmeans_sklearn = kmeans_sklearn1.predict(X1)\n",
        "\n",
        "kmeans_sklearn2 = kmeans_sklearn(X2)\n",
        "y2_kmeans_sklearn = kmeans_sklearn2.predict(X2)\n",
        "\n",
        "kmeans_sklearn3 = kmeans_sklearn(X3)\n",
        "y3_kmeans_sklearn = kmeans_sklearn3.predict(X3)"
      ],
      "execution_count": null,
      "outputs": [
        {
          "output_type": "stream",
          "text": [
            "time: 189 ms (started: 2021-05-30 15:52:06 +00:00)\n"
          ],
          "name": "stdout"
        }
      ]
    },
    {
      "cell_type": "code",
      "metadata": {
        "colab": {
          "base_uri": "https://localhost:8080/",
          "height": 262
        },
        "id": "FF7SOP-cwavE",
        "outputId": "61cd1641-2023-4cdb-a354-b776577f0f33"
      },
      "source": [
        "def plot_kmeans(df, model, pred):\n",
        "  plt.scatter(df[:, 0], df[:, 1], c=pred, s=20, cmap='viridis')\n",
        "  centers = model.cluster_centers_\n",
        "  plt.scatter(centers[:, 0], centers[:, 1], c='red', s=200, alpha=0.5)\n",
        "\n",
        "plt.figure(figsize=(15,3))\n",
        "\n",
        "plt.subplot(131)\n",
        "plot_kmeans(X1, kmeans_sklearn1, y1_kmeans_sklearn)\n",
        "plt.title(\"Data 1\")\n",
        "\n",
        "plt.subplot(132)\n",
        "plot_kmeans(X2, kmeans_sklearn2, y2_kmeans_sklearn)\n",
        "plt.title(\"Data 2\")\n",
        "\n",
        "plt.subplot(133)\n",
        "plot_kmeans(X3, kmeans_sklearn3, y3_kmeans_sklearn)\n",
        "plt.title(\"Data 3\")\n"
      ],
      "execution_count": null,
      "outputs": [
        {
          "output_type": "execute_result",
          "data": {
            "text/plain": [
              "Text(0.5, 1.0, 'Data 3')"
            ]
          },
          "metadata": {
            "tags": []
          },
          "execution_count": 223
        },
        {
          "output_type": "display_data",
          "data": {
            "image/png": "[encoded data removed]",
            "text/plain": [
              "<Figure size 1080x216 with 3 Axes>"
            ]
          },
          "metadata": {
            "tags": [],
            "needs_background": "light"
          }
        },
        {
          "output_type": "stream",
          "text": [
            "time: 820 ms (started: 2021-05-30 15:52:06 +00:00)\n"
          ],
          "name": "stdout"
        }
      ]
    },
    {
      "cell_type": "markdown",
      "metadata": {
        "id": "UmODK6FAxi1y"
      },
      "source": [
        "### En utilisant Spark"
      ]
    },
    {
      "cell_type": "code",
      "metadata": {
        "id": "lS0RCFZiwsSE",
        "colab": {
          "base_uri": "https://localhost:8080/"
        },
        "outputId": "f31825ed-ce30-483e-dd66-646b87af2dc1"
      },
      "source": [
        "from pyspark.ml.clustering import KMeans as Kmeans_spark_algo\n",
        "from pyspark.ml.feature import VectorAssembler\n",
        "\n",
        "def kmeans_spark(df):\n",
        "  vecAssembler = VectorAssembler(inputCols=[\"x1\", \"x2\"], outputCol=\"features\")\n",
        "  new_df = vecAssembler.transform(df)\n",
        "  kmeans = Kmeans_spark_algo(k=4, seed=1)\n",
        "  model = kmeans.fit(new_df.select('features'))\n",
        "  predictions = model.transform(new_df)\n",
        "  return predictions\n",
        "\n",
        "y1_kmeans_spark = kmeans_spark(df1)\n",
        "y2_kmeans_spark = kmeans_spark(df2)\n",
        "y3_kmeans_spark = kmeans_spark(df3)"
      ],
      "execution_count": null,
      "outputs": [
        {
          "output_type": "stream",
          "text": [
            "time: 4.32 s (started: 2021-05-30 19:55:31 +00:00)\n"
          ],
          "name": "stdout"
        }
      ]
    },
    {
      "cell_type": "code",
      "metadata": {
        "colab": {
          "base_uri": "https://localhost:8080/",
          "height": 245
        },
        "id": "EcZ6DQr0uRhY",
        "outputId": "c593151c-a58d-4153-ec58-23da9be9c8ca"
      },
      "source": [
        "plt.figure(figsize=(15,3))\n",
        "\n",
        "plt.subplot(131)\n",
        "y1_kmeans_spark = list(y1_kmeans_spark.select('prediction').toPandas()['prediction'])\n",
        "plt.scatter(X1[:, 0], X1[:, 1], c=y1_kmeans_spark, s=20, cmap='viridis')\n",
        "plt.title(\"Data 1\")\n",
        "\n",
        "plt.subplot(132)\n",
        "y2_kmeans_spark = list(y2_kmeans_spark.select('prediction').toPandas()['prediction'])\n",
        "plt.scatter(X2[:, 0], X2[:, 1], c=y2_kmeans_spark, s=20, cmap='viridis')\n",
        "plt.title(\"Data 2\")\n",
        "\n",
        "plt.subplot(133)\n",
        "y3_kmeans_spark = list(y3_kmeans_spark.select('prediction').toPandas()['prediction'])\n",
        "plt.scatter(X3[:, 0], X3[:, 1], c=y3_kmeans_spark, s=20, cmap='viridis')\n",
        "plt.title(\"Data 3\")\n"
      ],
      "execution_count": null,
      "outputs": [
        {
          "output_type": "display_data",
          "data": {
            "image/png": "[encoded data removed]",
            "text/plain": [
              "<Figure size 1080x216 with 3 Axes>"
            ]
          },
          "metadata": {
            "tags": [],
            "needs_background": "light"
          }
        },
        {
          "output_type": "stream",
          "text": [
            "time: 1.29 s (started: 2021-05-30 19:55:35 +00:00)\n"
          ],
          "name": "stdout"
        }
      ]
    },
    {
      "cell_type": "markdown",
      "metadata": {
        "id": "vgSF87wY32vv"
      },
      "source": [
        "### Evaluation des performances"
      ]
    },
    {
      "cell_type": "markdown",
      "metadata": {
        "id": "fD3zbG9z-bz5"
      },
      "source": [
        "**Sklearn**"
      ]
    },
    {
      "cell_type": "code",
      "metadata": {
        "colab": {
          "base_uri": "https://localhost:8080/"
        },
        "id": "Pel2qGfRz60y",
        "outputId": "ec3f9f3f-f7e3-4aa0-ce49-35ef5b2ca555"
      },
      "source": [
        "from sklearn.metrics import normalized_mutual_info_score\n",
        "print(\"NMI - Data1 - Sklearn : \" + str(normalized_mutual_info_score(y1_true, y1_kmeans_sklearn)))\n",
        "print(\"NMI - Data2 - Sklearn : \" + str(normalized_mutual_info_score(y2_true, y2_kmeans_sklearn)))\n",
        "print(\"NMI - Data3 - Sklearn : \" + str(normalized_mutual_info_score(y3_true, y3_kmeans_sklearn)))"
      ],
      "execution_count": null,
      "outputs": [
        {
          "output_type": "stream",
          "text": [
            "NMI - Data1 - Sklearn : 0.8610095321297617\n",
            "NMI - Data2 - Sklearn : 0.9767976507403721\n",
            "NMI - Data3 - Sklearn : 1.0\n",
            "time: 24 ms (started: 2021-05-30 15:52:14 +00:00)\n"
          ],
          "name": "stdout"
        }
      ]
    },
    {
      "cell_type": "markdown",
      "metadata": {
        "id": "lHJUsng0-ezC"
      },
      "source": [
        "**Spark**"
      ]
    },
    {
      "cell_type": "code",
      "metadata": {
        "colab": {
          "base_uri": "https://localhost:8080/"
        },
        "id": "nBokyVAx3YQM",
        "outputId": "1197dc20-105b-4ee8-b25f-83fa0df383aa"
      },
      "source": [
        "print(\"NMI - Data1 - Spark : \" + str(normalized_mutual_info_score(y1_true, y1_kmeans_spark)))\n",
        "print(\"NMI - Data2 - Spark : \" + str(normalized_mutual_info_score(y2_true, y2_kmeans_spark)))\n",
        "print(\"NMI - Data3 - Spark : \" + str(normalized_mutual_info_score(y3_true, y3_kmeans_spark)))"
      ],
      "execution_count": null,
      "outputs": [
        {
          "output_type": "stream",
          "text": [
            "NMI - Data1 - Spark : 0.8610095321297617\n",
            "NMI - Data2 - Spark : 0.9707339672174148\n",
            "NMI - Data3 - Spark : 1.0\n",
            "time: 21.4 ms (started: 2021-05-30 15:52:14 +00:00)\n"
          ],
          "name": "stdout"
        }
      ]
    },
    {
      "cell_type": "markdown",
      "metadata": {
        "id": "lTccANtU8_yd"
      },
      "source": [
        "### Temps d'executions"
      ]
    },
    {
      "cell_type": "markdown",
      "metadata": {
        "id": "h4VDyPzq9VRB"
      },
      "source": [
        "**Sklearn**"
      ]
    },
    {
      "cell_type": "code",
      "metadata": {
        "colab": {
          "base_uri": "https://localhost:8080/"
        },
        "id": "C5WuNsz99B23",
        "outputId": "3832f9b3-a59c-4f5a-8fb6-de9f0fad8241"
      },
      "source": [
        "kmeans_sklearn(X1)"
      ],
      "execution_count": null,
      "outputs": [
        {
          "output_type": "execute_result",
          "data": {
            "text/plain": [
              "KMeans(algorithm='auto', copy_x=True, init='k-means++', max_iter=300,\n",
              "       n_clusters=4, n_init=10, n_jobs=None, precompute_distances='auto',\n",
              "       random_state=None, tol=0.0001, verbose=0)"
            ]
          },
          "metadata": {
            "tags": []
          },
          "execution_count": 228
        },
        {
          "output_type": "stream",
          "text": [
            "time: 58.4 ms (started: 2021-05-30 15:52:14 +00:00)\n"
          ],
          "name": "stdout"
        }
      ]
    },
    {
      "cell_type": "code",
      "metadata": {
        "colab": {
          "base_uri": "https://localhost:8080/"
        },
        "id": "5uHkvvuytnC4",
        "outputId": "82e84cc1-b498-4400-978b-3dbc3cf017a0"
      },
      "source": [
        "kmeans_sklearn(X2)"
      ],
      "execution_count": null,
      "outputs": [
        {
          "output_type": "execute_result",
          "data": {
            "text/plain": [
              "KMeans(algorithm='auto', copy_x=True, init='k-means++', max_iter=300,\n",
              "       n_clusters=4, n_init=10, n_jobs=None, precompute_distances='auto',\n",
              "       random_state=None, tol=0.0001, verbose=0)"
            ]
          },
          "metadata": {
            "tags": []
          },
          "execution_count": 229
        },
        {
          "output_type": "stream",
          "text": [
            "time: 50.1 ms (started: 2021-05-30 15:52:14 +00:00)\n"
          ],
          "name": "stdout"
        }
      ]
    },
    {
      "cell_type": "code",
      "metadata": {
        "colab": {
          "base_uri": "https://localhost:8080/"
        },
        "id": "ChUNOKDNtndt",
        "outputId": "4d90eb88-c475-4f68-d733-0f30572491fd"
      },
      "source": [
        "kmeans_sklearn(X3)"
      ],
      "execution_count": null,
      "outputs": [
        {
          "output_type": "execute_result",
          "data": {
            "text/plain": [
              "KMeans(algorithm='auto', copy_x=True, init='k-means++', max_iter=300,\n",
              "       n_clusters=4, n_init=10, n_jobs=None, precompute_distances='auto',\n",
              "       random_state=None, tol=0.0001, verbose=0)"
            ]
          },
          "metadata": {
            "tags": []
          },
          "execution_count": 230
        },
        {
          "output_type": "stream",
          "text": [
            "time: 89.4 ms (started: 2021-05-30 15:52:14 +00:00)\n"
          ],
          "name": "stdout"
        }
      ]
    },
    {
      "cell_type": "markdown",
      "metadata": {
        "id": "jJovvvXu-YsA"
      },
      "source": [
        "**Spark**"
      ]
    },
    {
      "cell_type": "code",
      "metadata": {
        "colab": {
          "base_uri": "https://localhost:8080/"
        },
        "id": "zgoF-4hE9kHN",
        "outputId": "ec64b0c6-97db-40fc-bbb1-08b5672aef75"
      },
      "source": [
        "kmeans_spark(df1)"
      ],
      "execution_count": null,
      "outputs": [
        {
          "output_type": "execute_result",
          "data": {
            "text/plain": [
              "DataFrame[x1: double, x2: double, class: bigint, features: vector, prediction: int]"
            ]
          },
          "metadata": {
            "tags": []
          },
          "execution_count": 231
        },
        {
          "output_type": "stream",
          "text": [
            "time: 1.79 s (started: 2021-05-30 15:52:14 +00:00)\n"
          ],
          "name": "stdout"
        }
      ]
    },
    {
      "cell_type": "code",
      "metadata": {
        "colab": {
          "base_uri": "https://localhost:8080/"
        },
        "id": "E5SIhoIxtppb",
        "outputId": "12b400ce-75ba-437d-d5c9-5b867425d855"
      },
      "source": [
        "kmeans_spark(df2)"
      ],
      "execution_count": null,
      "outputs": [
        {
          "output_type": "execute_result",
          "data": {
            "text/plain": [
              "DataFrame[x1: double, x2: double, x3: double, class: bigint, features: vector, prediction: int]"
            ]
          },
          "metadata": {
            "tags": []
          },
          "execution_count": 232
        },
        {
          "output_type": "stream",
          "text": [
            "time: 1.72 s (started: 2021-05-30 15:52:16 +00:00)\n"
          ],
          "name": "stdout"
        }
      ]
    },
    {
      "cell_type": "code",
      "metadata": {
        "colab": {
          "base_uri": "https://localhost:8080/"
        },
        "id": "TcY9Xk1XtpvL",
        "outputId": "2022105e-a1e2-4995-f216-4108f9acec57"
      },
      "source": [
        "kmeans_spark(df3)"
      ],
      "execution_count": null,
      "outputs": [
        {
          "output_type": "execute_result",
          "data": {
            "text/plain": [
              "DataFrame[x1: double, x2: double, x3: double, x4: double, x5: double, class: bigint, features: vector, prediction: int]"
            ]
          },
          "metadata": {
            "tags": []
          },
          "execution_count": 233
        },
        {
          "output_type": "stream",
          "text": [
            "time: 1.62 s (started: 2021-05-30 15:52:17 +00:00)\n"
          ],
          "name": "stdout"
        }
      ]
    },
    {
      "cell_type": "markdown",
      "metadata": {
        "id": "QPHdLpvJ_Jyf"
      },
      "source": [
        "# **Implémentation du k-means**\n",
        "\n"
      ]
    },
    {
      "cell_type": "markdown",
      "metadata": {
        "id": "1rqqbXJfmvay"
      },
      "source": [
        "## Construction des fonctions"
      ]
    },
    {
      "cell_type": "code",
      "metadata": {
        "id": "vLN951ij_NuC",
        "colab": {
          "base_uri": "https://localhost:8080/"
        },
        "outputId": "8a14d23c-7140-456f-fcc7-1355aa6a1fe4"
      },
      "source": [
        "import numpy as np\n",
        "\n",
        "def compute_centroids(points, cluster_ids):\n",
        "  rdd = sc.parallelize(list(zip(cluster_ids, points)))\n",
        "  sum_by_cluster_id = rdd.reduceByKey(lambda a,b : list(np.array(a)+np.array(b)))\n",
        "  count_by_cluster_id = rdd.mapValues(lambda x : 1).reduceByKey(lambda a,b : a+b)\n",
        "  joined_count_sum = sum_by_cluster_id.join(count_by_cluster_id)\n",
        "  moyenne_cluster_id = joined_count_sum.map(lambda x : (x[0], list(np.array(x[1][0])/x[1][1])))\n",
        "\n",
        "  return moyenne_cluster_id"
      ],
      "execution_count": null,
      "outputs": [
        {
          "output_type": "stream",
          "text": [
            "time: 11.3 ms (started: 2021-05-30 16:54:36 +00:00)\n"
          ],
          "name": "stdout"
        }
      ]
    },
    {
      "cell_type": "code",
      "metadata": {
        "id": "ynLY0JPaDIqP",
        "colab": {
          "base_uri": "https://localhost:8080/"
        },
        "outputId": "0836824b-3abd-4b4e-830f-6efadf09e035"
      },
      "source": [
        "def squared_distances(point, moyennes):\n",
        "  sq = pow((np.array(moyennes) - point), 2)\n",
        "\n",
        "  if sq.ndim==1:  #cas unidimentionnel\n",
        "    return list(sq)\n",
        "  else:           #cas multidimentionnel\n",
        "    return list(np.sum(sq,axis=1))"
      ],
      "execution_count": null,
      "outputs": [
        {
          "output_type": "stream",
          "text": [
            "time: 4.95 ms (started: 2021-05-30 16:54:36 +00:00)\n"
          ],
          "name": "stdout"
        }
      ]
    },
    {
      "cell_type": "code",
      "metadata": {
        "id": "I9g1E1gXEEmr",
        "colab": {
          "base_uri": "https://localhost:8080/"
        },
        "outputId": "620f7a8e-2c4a-437d-ca58-49eea398a09b"
      },
      "source": [
        "def assign_clusters(points, centroids):\n",
        "  cds = centroids.collect()\n",
        "  moyennes = [m for c,m in cds]\n",
        "  pts = []\n",
        "  for p in points:\n",
        "    sq_dist = squared_distances(p, moyennes)\n",
        "    pts.append(np.argmin(sq_dist))\n",
        "  rdd_assign = sc.parallelize(pts)\n",
        "  return rdd_assign"
      ],
      "execution_count": null,
      "outputs": [
        {
          "output_type": "stream",
          "text": [
            "time: 3.76 ms (started: 2021-05-30 16:54:37 +00:00)\n"
          ],
          "name": "stdout"
        }
      ]
    },
    {
      "cell_type": "code",
      "metadata": {
        "id": "YX5t11CZFRIu",
        "colab": {
          "base_uri": "https://localhost:8080/"
        },
        "outputId": "9aefb3e8-78bf-4af8-c705-24e3a37d9983"
      },
      "source": [
        "def k_means(data, k, maxIter=400):\n",
        "  clusters = sc.parallelize(np.random.randint(size=len(data), low=0, high=k))\n",
        "  cl = clusters.collect()\n",
        "  for n in range(maxIter):\n",
        "    centroids = compute_centroids(data, clusters.collect())\n",
        "    clusters = assign_clusters(data, centroids)\n",
        "    if cl==clusters.collect():\n",
        "      break\n",
        "    else:\n",
        "      cl = list(clusters.collect())\n",
        "  return clusters"
      ],
      "execution_count": null,
      "outputs": [
        {
          "output_type": "stream",
          "text": [
            "time: 12.4 ms (started: 2021-05-30 16:59:09 +00:00)\n"
          ],
          "name": "stdout"
        }
      ]
    },
    {
      "cell_type": "code",
      "metadata": {
        "colab": {
          "base_uri": "https://localhost:8080/"
        },
        "id": "qsuTXVMVoPlC",
        "outputId": "98f301e3-87f7-4fd5-9036-75f916f6338b"
      },
      "source": [
        "rdd1 = sc.parallelize(X1[:,0])\n",
        "y1_kmeans_ours = k_means(X1,k=4)\n",
        "y2_kmeans_ours = k_means(X2,k=4)\n",
        "y3_kmeans_ours = k_means(X3,k=4)"
      ],
      "execution_count": null,
      "outputs": [
        {
          "output_type": "stream",
          "text": [
            "time: 7.28 s (started: 2021-05-30 16:59:09 +00:00)\n"
          ],
          "name": "stdout"
        }
      ]
    },
    {
      "cell_type": "code",
      "metadata": {
        "id": "ViZGg9NHoawh"
      },
      "source": [
        "plt.figure(figsize=(15,3))\n",
        "\n",
        "plt.subplot(131)\n",
        "plt.scatter(X1[:, 0], X1[:, 1], c=y1_kmeans_ours.collect(), s=20, cmap='viridis')\n",
        "plt.title(\"Data 1\")\n",
        "\n",
        "plt.subplot(132)\n",
        "plt.scatter(X2[:, 0], X2[:, 1], c=y2_kmeans_ours.collect(), s=20, cmap='viridis')\n",
        "plt.title(\"Data 2\")\n",
        "\n",
        "plt.subplot(133)\n",
        "plt.scatter(X3[:, 0], X3[:, 1], c=y3_kmeans_ours.collect(), s=20, cmap='viridis')\n",
        "plt.title(\"Data 3\")\n",
        "\n",
        "plt.savefig(\"ourKmeans.png\")"
      ],
      "execution_count": null,
      "outputs": []
    },
    {
      "cell_type": "markdown",
      "metadata": {
        "id": "IwxaqMf0m3ij"
      },
      "source": [
        "## Evaluation des performances"
      ]
    },
    {
      "cell_type": "code",
      "metadata": {
        "colab": {
          "base_uri": "https://localhost:8080/"
        },
        "id": "pJLtfNrFmKes",
        "outputId": "d8e35b89-aed5-435d-e193-3e35d42dfd62"
      },
      "source": [
        "print(\"NMI - Data1 - OurKmeans : \" + str(normalized_mutual_info_score(y1_true, y1_kmeans_ours.collect())))\n",
        "print(\"NMI - Data2 - OurKmeans : \" + str(normalized_mutual_info_score(y2_true, y2_kmeans_ours.collect())))\n",
        "print(\"NMI - Data3 - OurKmeans : \" + str(normalized_mutual_info_score(y3_true, y3_kmeans_ours.collect())))"
      ],
      "execution_count": null,
      "outputs": [
        {
          "output_type": "stream",
          "text": [
            "NMI - Data1 - OurKmeans : 0.8610095321297617\n",
            "NMI - Data2 - OurKmeans : 0.9792027173267116\n",
            "NMI - Data3 - OurKmeans : 0.8571428571428571\n",
            "time: 93 ms (started: 2021-05-30 17:00:00 +00:00)\n"
          ],
          "name": "stdout"
        }
      ]
    },
    {
      "cell_type": "markdown",
      "metadata": {
        "id": "jjO_xZvQuBrb"
      },
      "source": [
        "## Temps d'execution"
      ]
    },
    {
      "cell_type": "code",
      "metadata": {
        "id": "tWl6dU8DZOfm",
        "colab": {
          "base_uri": "https://localhost:8080/"
        },
        "outputId": "e9a6a2db-9930-4a44-b280-33a802e78f37"
      },
      "source": [
        "pred1 = k_means(X1,4)"
      ],
      "execution_count": null,
      "outputs": [
        {
          "output_type": "stream",
          "text": [
            "CPU times: user 756 ms, sys: 65.6 ms, total: 821 ms\n",
            "Wall time: 3.32 s\n",
            "time: 3.32 s (started: 2021-05-30 17:11:58 +00:00)\n"
          ],
          "name": "stdout"
        }
      ]
    },
    {
      "cell_type": "code",
      "metadata": {
        "colab": {
          "base_uri": "https://localhost:8080/"
        },
        "id": "_IDY9HXBm_w1",
        "outputId": "b72ae8f3-685e-4d17-a709-607aff17aa45"
      },
      "source": [
        "pred2 = k_means(X2,4)"
      ],
      "execution_count": null,
      "outputs": [
        {
          "output_type": "stream",
          "text": [
            "CPU times: user 769 ms, sys: 79 ms, total: 848 ms\n",
            "Wall time: 2.84 s\n",
            "time: 2.85 s (started: 2021-05-30 16:06:51 +00:00)\n"
          ],
          "name": "stdout"
        }
      ]
    },
    {
      "cell_type": "code",
      "metadata": {
        "colab": {
          "base_uri": "https://localhost:8080/"
        },
        "id": "0vgWhTMkuF22",
        "outputId": "2ae1837d-25a1-4039-c170-d22dccf09b4b"
      },
      "source": [
        "pred3 = k_means(X3,4)"
      ],
      "execution_count": null,
      "outputs": [
        {
          "output_type": "stream",
          "text": [
            "CPU times: user 562 ms, sys: 44.9 ms, total: 606 ms\n",
            "Wall time: 1.65 s\n",
            "time: 1.65 s (started: 2021-05-30 16:06:54 +00:00)\n"
          ],
          "name": "stdout"
        }
      ]
    },
    {
      "cell_type": "markdown",
      "metadata": {
        "id": "YTfvIwU7nNFy"
      },
      "source": [
        "# **Utilisation de l'implémentation pour un cas pertinent**"
      ]
    },
    {
      "cell_type": "markdown",
      "metadata": {
        "id": "FZPNotUt23d-"
      },
      "source": [
        "## Importation des données"
      ]
    },
    {
      "cell_type": "code",
      "metadata": {
        "colab": {
          "base_uri": "https://localhost:8080/"
        },
        "id": "hXe_Ba9RnTHq",
        "outputId": "a34c1b21-7f01-4887-a093-624b3d2d62ba"
      },
      "source": [
        "import pandas as pd\n",
        "dataset = pd.read_csv('data.csv')\n",
        "dataset.shape"
      ],
      "execution_count": null,
      "outputs": [
        {
          "output_type": "execute_result",
          "data": {
            "text/plain": [
              "(569, 33)"
            ]
          },
          "metadata": {
            "tags": []
          },
          "execution_count": 341
        },
        {
          "output_type": "stream",
          "text": [
            "time: 23.3 ms (started: 2021-05-30 17:24:44 +00:00)\n"
          ],
          "name": "stdout"
        }
      ]
    },
    {
      "cell_type": "markdown",
      "metadata": {
        "id": "F69zDptI28iM"
      },
      "source": [
        "## Imputation des valeurs manquantes"
      ]
    },
    {
      "cell_type": "code",
      "metadata": {
        "colab": {
          "base_uri": "https://localhost:8080/",
          "height": 1000
        },
        "id": "jl9E4VyVyS0O",
        "outputId": "348380d2-2640-466a-f2d3-328b14c2c849"
      },
      "source": [
        "missing = dataset.isnull().sum()\n",
        "missing_pourcent = dataset.isnull().sum()/dataset.shape[0]*100\n",
        "dic = {\n",
        "    'missing':missing,\n",
        "    'missing_pourcent %':missing_pourcent\n",
        "}\n",
        "frame=pd.DataFrame(dic)\n",
        "frame"
      ],
      "execution_count": null,
      "outputs": [
        {
          "output_type": "execute_result",
          "data": {
            "text/html": [
              "<div>\n",
              "<style scoped>\n",
              "    .dataframe tbody tr th:only-of-type {\n",
              "        vertical-align: middle;\n",
              "    }\n",
              "\n",
              "    .dataframe tbody tr th {\n",
              "        vertical-align: top;\n",
              "    }\n",
              "\n",
              "    .dataframe thead th {\n",
              "        text-align: right;\n",
              "    }\n",
              "</style>\n",
              "<table border=\"1\" class=\"dataframe\">\n",
              "  <thead>\n",
              "    <tr style=\"text-align: right;\">\n",
              "      <th></th>\n",
              "      <th>missing</th>\n",
              "      <th>missing_pourcent %</th>\n",
              "    </tr>\n",
              "  </thead>\n",
              "  <tbody>\n",
              "    <tr>\n",
              "      <th>id</th>\n",
              "      <td>0</td>\n",
              "      <td>0.0</td>\n",
              "    </tr>\n",
              "    <tr>\n",
              "      <th>diagnosis</th>\n",
              "      <td>0</td>\n",
              "      <td>0.0</td>\n",
              "    </tr>\n",
              "    <tr>\n",
              "      <th>radius_mean</th>\n",
              "      <td>0</td>\n",
              "      <td>0.0</td>\n",
              "    </tr>\n",
              "    <tr>\n",
              "      <th>texture_mean</th>\n",
              "      <td>0</td>\n",
              "      <td>0.0</td>\n",
              "    </tr>\n",
              "    <tr>\n",
              "      <th>perimeter_mean</th>\n",
              "      <td>0</td>\n",
              "      <td>0.0</td>\n",
              "    </tr>\n",
              "    <tr>\n",
              "      <th>area_mean</th>\n",
              "      <td>0</td>\n",
              "      <td>0.0</td>\n",
              "    </tr>\n",
              "    <tr>\n",
              "      <th>smoothness_mean</th>\n",
              "      <td>0</td>\n",
              "      <td>0.0</td>\n",
              "    </tr>\n",
              "    <tr>\n",
              "      <th>compactness_mean</th>\n",
              "      <td>0</td>\n",
              "      <td>0.0</td>\n",
              "    </tr>\n",
              "    <tr>\n",
              "      <th>concavity_mean</th>\n",
              "      <td>0</td>\n",
              "      <td>0.0</td>\n",
              "    </tr>\n",
              "    <tr>\n",
              "      <th>concave points_mean</th>\n",
              "      <td>0</td>\n",
              "      <td>0.0</td>\n",
              "    </tr>\n",
              "    <tr>\n",
              "      <th>symmetry_mean</th>\n",
              "      <td>0</td>\n",
              "      <td>0.0</td>\n",
              "    </tr>\n",
              "    <tr>\n",
              "      <th>fractal_dimension_mean</th>\n",
              "      <td>0</td>\n",
              "      <td>0.0</td>\n",
              "    </tr>\n",
              "    <tr>\n",
              "      <th>radius_se</th>\n",
              "      <td>0</td>\n",
              "      <td>0.0</td>\n",
              "    </tr>\n",
              "    <tr>\n",
              "      <th>texture_se</th>\n",
              "      <td>0</td>\n",
              "      <td>0.0</td>\n",
              "    </tr>\n",
              "    <tr>\n",
              "      <th>perimeter_se</th>\n",
              "      <td>0</td>\n",
              "      <td>0.0</td>\n",
              "    </tr>\n",
              "    <tr>\n",
              "      <th>area_se</th>\n",
              "      <td>0</td>\n",
              "      <td>0.0</td>\n",
              "    </tr>\n",
              "    <tr>\n",
              "      <th>smoothness_se</th>\n",
              "      <td>0</td>\n",
              "      <td>0.0</td>\n",
              "    </tr>\n",
              "    <tr>\n",
              "      <th>compactness_se</th>\n",
              "      <td>0</td>\n",
              "      <td>0.0</td>\n",
              "    </tr>\n",
              "    <tr>\n",
              "      <th>concavity_se</th>\n",
              "      <td>0</td>\n",
              "      <td>0.0</td>\n",
              "    </tr>\n",
              "    <tr>\n",
              "      <th>concave points_se</th>\n",
              "      <td>0</td>\n",
              "      <td>0.0</td>\n",
              "    </tr>\n",
              "    <tr>\n",
              "      <th>symmetry_se</th>\n",
              "      <td>0</td>\n",
              "      <td>0.0</td>\n",
              "    </tr>\n",
              "    <tr>\n",
              "      <th>fractal_dimension_se</th>\n",
              "      <td>0</td>\n",
              "      <td>0.0</td>\n",
              "    </tr>\n",
              "    <tr>\n",
              "      <th>radius_worst</th>\n",
              "      <td>0</td>\n",
              "      <td>0.0</td>\n",
              "    </tr>\n",
              "    <tr>\n",
              "      <th>texture_worst</th>\n",
              "      <td>0</td>\n",
              "      <td>0.0</td>\n",
              "    </tr>\n",
              "    <tr>\n",
              "      <th>perimeter_worst</th>\n",
              "      <td>0</td>\n",
              "      <td>0.0</td>\n",
              "    </tr>\n",
              "    <tr>\n",
              "      <th>area_worst</th>\n",
              "      <td>0</td>\n",
              "      <td>0.0</td>\n",
              "    </tr>\n",
              "    <tr>\n",
              "      <th>smoothness_worst</th>\n",
              "      <td>0</td>\n",
              "      <td>0.0</td>\n",
              "    </tr>\n",
              "    <tr>\n",
              "      <th>compactness_worst</th>\n",
              "      <td>0</td>\n",
              "      <td>0.0</td>\n",
              "    </tr>\n",
              "    <tr>\n",
              "      <th>concavity_worst</th>\n",
              "      <td>0</td>\n",
              "      <td>0.0</td>\n",
              "    </tr>\n",
              "    <tr>\n",
              "      <th>concave points_worst</th>\n",
              "      <td>0</td>\n",
              "      <td>0.0</td>\n",
              "    </tr>\n",
              "    <tr>\n",
              "      <th>symmetry_worst</th>\n",
              "      <td>0</td>\n",
              "      <td>0.0</td>\n",
              "    </tr>\n",
              "    <tr>\n",
              "      <th>fractal_dimension_worst</th>\n",
              "      <td>0</td>\n",
              "      <td>0.0</td>\n",
              "    </tr>\n",
              "    <tr>\n",
              "      <th>Unnamed: 32</th>\n",
              "      <td>569</td>\n",
              "      <td>100.0</td>\n",
              "    </tr>\n",
              "  </tbody>\n",
              "</table>\n",
              "</div>"
            ],
            "text/plain": [
              "                         missing  missing_pourcent %\n",
              "id                             0                 0.0\n",
              "diagnosis                      0                 0.0\n",
              "radius_mean                    0                 0.0\n",
              "texture_mean                   0                 0.0\n",
              "perimeter_mean                 0                 0.0\n",
              "area_mean                      0                 0.0\n",
              "smoothness_mean                0                 0.0\n",
              "compactness_mean               0                 0.0\n",
              "concavity_mean                 0                 0.0\n",
              "concave points_mean            0                 0.0\n",
              "symmetry_mean                  0                 0.0\n",
              "fractal_dimension_mean         0                 0.0\n",
              "radius_se                      0                 0.0\n",
              "texture_se                     0                 0.0\n",
              "perimeter_se                   0                 0.0\n",
              "area_se                        0                 0.0\n",
              "smoothness_se                  0                 0.0\n",
              "compactness_se                 0                 0.0\n",
              "concavity_se                   0                 0.0\n",
              "concave points_se              0                 0.0\n",
              "symmetry_se                    0                 0.0\n",
              "fractal_dimension_se           0                 0.0\n",
              "radius_worst                   0                 0.0\n",
              "texture_worst                  0                 0.0\n",
              "perimeter_worst                0                 0.0\n",
              "area_worst                     0                 0.0\n",
              "smoothness_worst               0                 0.0\n",
              "compactness_worst              0                 0.0\n",
              "concavity_worst                0                 0.0\n",
              "concave points_worst           0                 0.0\n",
              "symmetry_worst                 0                 0.0\n",
              "fractal_dimension_worst        0                 0.0\n",
              "Unnamed: 32                  569               100.0"
            ]
          },
          "metadata": {
            "tags": []
          },
          "execution_count": 342
        },
        {
          "output_type": "stream",
          "text": [
            "time: 28.8 ms (started: 2021-05-30 17:24:44 +00:00)\n"
          ],
          "name": "stdout"
        }
      ]
    },
    {
      "cell_type": "code",
      "metadata": {
        "colab": {
          "base_uri": "https://localhost:8080/"
        },
        "id": "kyEpvoE-yc7E",
        "outputId": "42047451-4512-465c-ba7c-5a093d309b73"
      },
      "source": [
        "missingCols = frame[frame[\"missing\"]!=0].index.to_list()\n",
        "for col in missingCols:\n",
        "  dataset[col] = dataset[col].fillna(dataset[col].mean()) "
      ],
      "execution_count": null,
      "outputs": [
        {
          "output_type": "stream",
          "text": [
            "time: 5.06 ms (started: 2021-05-30 17:24:45 +00:00)\n"
          ],
          "name": "stdout"
        }
      ]
    },
    {
      "cell_type": "code",
      "metadata": {
        "colab": {
          "base_uri": "https://localhost:8080/"
        },
        "id": "K3XWNoEzwe3I",
        "outputId": "08d71004-1734-41a6-e910-e01e2279538c"
      },
      "source": [
        "idCol = \"id\"\n",
        "dataset.drop([idCol], axis=1, inplace=True)\n",
        "dataset.drop(['Unnamed: 32'], axis=1, inplace=True)"
      ],
      "execution_count": null,
      "outputs": [
        {
          "output_type": "stream",
          "text": [
            "time: 8.15 ms (started: 2021-05-30 17:24:45 +00:00)\n"
          ],
          "name": "stdout"
        }
      ]
    },
    {
      "cell_type": "code",
      "metadata": {
        "colab": {
          "base_uri": "https://localhost:8080/"
        },
        "id": "Hph7N_B-cxF8",
        "outputId": "e4d1b34c-6d65-4915-c0d7-8bc454124962"
      },
      "source": [
        "y_class = dataset['diagnosis'].replace({\"B\":0,\"M\":1})"
      ],
      "execution_count": null,
      "outputs": [
        {
          "output_type": "stream",
          "text": [
            "time: 8.6 ms (started: 2021-05-30 17:24:50 +00:00)\n"
          ],
          "name": "stdout"
        }
      ]
    },
    {
      "cell_type": "code",
      "metadata": {
        "colab": {
          "base_uri": "https://localhost:8080/"
        },
        "id": "uNWQ-sbOcru0",
        "outputId": "c0f4867f-1ac2-4e61-e9f2-8471c18e100c"
      },
      "source": [
        "dataset.drop([\"diagnosis\"], axis=1, inplace=True)"
      ],
      "execution_count": null,
      "outputs": [
        {
          "output_type": "stream",
          "text": [
            "time: 4.55 ms (started: 2021-05-30 17:24:51 +00:00)\n"
          ],
          "name": "stdout"
        }
      ]
    },
    {
      "cell_type": "code",
      "metadata": {
        "colab": {
          "base_uri": "https://localhost:8080/"
        },
        "id": "yGKPWa6DdPLW",
        "outputId": "76f4baa0-2785-45d8-86cd-e651039840ea"
      },
      "source": [
        "data = dataset.values.tolist()"
      ],
      "execution_count": null,
      "outputs": [
        {
          "output_type": "stream",
          "text": [
            "time: 4.82 ms (started: 2021-05-30 16:06:56 +00:00)\n"
          ],
          "name": "stdout"
        }
      ]
    },
    {
      "cell_type": "markdown",
      "metadata": {
        "id": "zMnizr7s3MS-"
      },
      "source": [
        "## Application des différents k-means et comparaison"
      ]
    },
    {
      "cell_type": "code",
      "metadata": {
        "colab": {
          "base_uri": "https://localhost:8080/"
        },
        "id": "OnROQcPjzjUt",
        "outputId": "64252bfb-aefa-4f1d-bd52-29bed51b59bc"
      },
      "source": [
        "kmeans_sklearn = Kmeans_sklearn_algo(n_clusters=2) \n",
        "kmeans_sklearn.fit(data)\n",
        "\n",
        "y_kmeans_sklearn = kmeans_sklearn.predict(data)\n",
        "print(\"NMI - Data - Sklearn : \" + str(normalized_mutual_info_score(np.array(y_class.tolist()), y_kmeans_sklearn)))"
      ],
      "execution_count": null,
      "outputs": [
        {
          "output_type": "stream",
          "text": [
            "CPU times: user 54.3 ms, sys: 48.4 ms, total: 103 ms\n",
            "Wall time: 56.8 ms\n",
            "NMI - Data - Sklearn : 0.46479332792160793\n",
            "time: 70.6 ms (started: 2021-05-30 17:11:44 +00:00)\n"
          ],
          "name": "stdout"
        }
      ]
    },
    {
      "cell_type": "code",
      "metadata": {
        "colab": {
          "base_uri": "https://localhost:8080/"
        },
        "id": "1UYARh_H3a9f",
        "outputId": "98c9f43a-c120-4da5-f4f3-db0da3851cb1"
      },
      "source": [
        "t = totupleliste(np.array(data),y_class)\n",
        "rdd = sc.parallelize(t)\n",
        "df = rdd.toDF(deptColumns)\n",
        "\n",
        "y_kmeans_spark = kmeans_spark(df)\n",
        "y_kmeans_spark = list(y_kmeans_spark.select('prediction').toPandas()['prediction'])\n",
        "print(\"NMI - Data - Spark : \" + str(normalized_mutual_info_score(y_class, y_kmeans_spark)))"
      ],
      "execution_count": null,
      "outputs": [
        {
          "output_type": "stream",
          "text": [
            "NMI - Data - Spark : 0.2902697371070435\n",
            "time: 2.79 s (started: 2021-05-30 17:33:31 +00:00)\n"
          ],
          "name": "stdout"
        }
      ]
    },
    {
      "cell_type": "code",
      "metadata": {
        "colab": {
          "base_uri": "https://localhost:8080/"
        },
        "id": "0mBrWTaR5Ufx",
        "outputId": "fc884585-42fa-4991-ce31-68217f016d19"
      },
      "source": [
        "y_kmeans_ours = k_means(data,k=2)\n",
        "print(\"NMI - Data - Ours : \" + str(normalized_mutual_info_score(np.array(y_class.tolist()), y_kmeans_ours.collect())))"
      ],
      "execution_count": null,
      "outputs": [
        {
          "output_type": "stream",
          "text": [
            "NMI - Data - Ours : 0.46479332792160793\n",
            "time: 2.15 s (started: 2021-05-30 17:29:06 +00:00)\n"
          ],
          "name": "stdout"
        }
      ]
    },
    {
      "cell_type": "code",
      "metadata": {
        "id": "Y6KvcDSOkO25"
      },
      "source": [
        ""
      ],
      "execution_count": null,
      "outputs": []
    }
  ]
}