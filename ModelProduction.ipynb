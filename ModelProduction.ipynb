{
  "nbformat": 4,
  "nbformat_minor": 0,
  "metadata": {
    "colab": {
      "name": "TER globale.ipynb",
      "provenance": [],
      "collapsed_sections": [
        "kmTJwAjv7JpJ",
        "sEs965_z6pKw",
        "tnVpWw056-A-",
        "z2SwA9f5MpT1",
        "J6X4dBSU7qE6",
        "Iv62gUc37wSi",
        "SUc6kn_58EsQ",
        "hg5f7EPU8KUf",
        "Tn7RtVIE8i79"
      ],
      "toc_visible": true
    },
    "kernelspec": {
      "name": "python3",
      "display_name": "Python 3"
    },
    "language_info": {
      "name": "python"
    }
  },
  "cells": [
    {
      "cell_type": "markdown",
      "metadata": {
        "id": "kmTJwAjv7JpJ"
      },
      "source": [
        "## Installation et import des librairies"
      ]
    },
    {
      "cell_type": "code",
      "metadata": {
        "id": "YPcer_t8nAZy"
      },
      "source": [
        "!pip install twarc\n",
        "!pip install wget\n",
        "\n",
        "# Install LDA Libraries\n",
        "!pip install textblob\n",
        "!pip install tweepy\n",
        "!pip install pycountry\n",
        "!pip install  wordcloud \n",
        "!pip install langdetect \n",
        "!pip install pyLDAvis\n",
        "\n",
        "#temp\n",
        "\n",
        "#!pip install networkx==1.11"
      ],
      "execution_count": null,
      "outputs": []
    },
    {
      "cell_type": "code",
      "metadata": {
        "id": "2n1u_DPGFCNt"
      },
      "source": [
        "import sys\n",
        "import os\n",
        "import requests\n",
        "import re\n",
        "import tweepy\n",
        "from geopy.geocoders import Nominatim\n",
        "import json\n",
        "geolocator = Nominatim(user_agent=\"https://colab.research.google.com/drive/15lPys0g207RL6O9F3n1_U2yhQzBToznj?usp=sharing\")\n",
        "\n",
        "import matplotlib.pyplot as plt\n",
        "from wordcloud import WordCloud\n",
        "import seaborn as sns\n",
        "import plotly.express as px\n",
        "\n",
        "\n",
        "from textblob import TextBlob\n",
        "import pycountry\n",
        "import re\n",
        "import string\n",
        "import folium\n",
        "\n",
        "from wordcloud import WordCloud, STOPWORDS\n",
        "from PIL import Image\n",
        "from langdetect import detect\n",
        "\n",
        "import nltk\n",
        "from nltk.sentiment.vader import SentimentIntensityAnalyzer\n",
        "from nltk.stem import SnowballStemmer\n",
        "from nltk.sentiment.vader import SentimentIntensityAnalyzer\n",
        "from nltk.corpus import stopwords\n",
        "from nltk.stem import WordNetLemmatizer\n",
        "from nltk.probability import FreqDist\n",
        "\n",
        "import gensim\n",
        "from gensim import corpora, models\n",
        "import pyLDAvis\n",
        "import pyLDAvis.gensim_models as gensimvis\n",
        "import pickle\n",
        "\n",
        "import pandas as pd\n",
        "import requests\n",
        "import gzip\n",
        "import shutil\n",
        "import wget\n",
        "import csv\n",
        "import linecache\n",
        "from shutil import copyfile\n",
        "import ipywidgets as widgets\n",
        "import numpy as np\n",
        "from datetime import datetime  \n",
        "from datetime import timedelta  \n",
        "\n",
        "# Load the Drive helper and mount\n",
        "from google.colab import drive\n",
        "drive.mount('/content/drive')"
      ],
      "execution_count": null,
      "outputs": []
    },
    {
      "cell_type": "code",
      "metadata": {
        "id": "VnN8dmQ1PY_b"
      },
      "source": [
        "nltk.download('stopwords')\n",
        "nltk.download('punkt')\n",
        "nltk.download('wordnet')"
      ],
      "execution_count": null,
      "outputs": []
    },
    {
      "cell_type": "code",
      "metadata": {
        "id": "OvAwMx6vCjKs"
      },
      "source": [
        "!twarc configure --consumer_key=\"sCEQKMT4PE6MC3NiorTZpPBMM\"y --consumer_secret=\"s90Ew2cJb32oFyF4EIMdxfotjBQckbm6OkE6hKpMpbKKwCRlAR\" --access_token=\"1358769056766164996-qtIxIlGMiLeOFi2K6MuKxh5MgnI3sc\" --access_token_secret=\"cSSZsEzzbBAAQxGmprgCAWR73OC2U4lJl5Cr9vlbMe9mH\""
      ],
      "execution_count": null,
      "outputs": []
    },
    {
      "cell_type": "markdown",
      "metadata": {
        "id": "sEs965_z6pKw"
      },
      "source": [
        "## Extraction des données"
      ]
    },
    {
      "cell_type": "code",
      "metadata": {
        "id": "lJb8NXDyXaG3"
      },
      "source": [
        "tweetsDf = pd.DataFrame()\n",
        "  \n",
        "#Add 1 day  \n",
        "date = datetime.strptime(\"2020-03-20\", \"%Y-%m-%d\") + timedelta(days=1)\n",
        "\n",
        "for i in range(374):\n",
        "  date = date + timedelta(days=1)\n",
        "\n",
        "  #Downloads the dataset (compressed in a GZ format)\n",
        "  #!wget dataset_URL -O clean-dataset.tsv.gz\n",
        "  dateStr = str(date.year) + ('-0' + str(date.month) if date.month < 10 else '-' + str(date.month)) + ('-0' + str(date.day) if date.day < 10 else '-' + str(date.day))\n",
        "\n",
        "  \n",
        "  url = \"https://github.com/thepanacealab/covid19_twitter/blob/master/dailies/\" + dateStr + \"/\" + dateStr + \"_clean-dataset.tsv.gz?raw=true\"\n",
        "  print(url)\n",
        "  wget.download(url, out='clean-dataset.tsv.gz')\n",
        "\n",
        "  #Unzips the dataset and gets the TSV dataset\n",
        "  with gzip.open('clean-dataset.tsv.gz', 'rb') as f_in:\n",
        "      with open('clean-dataset.tsv', 'wb') as f_out:\n",
        "          shutil.copyfileobj(f_in, f_out)\n",
        "\n",
        "  #Deletes the compressed GZ file\n",
        "  os.unlink(\"clean-dataset.tsv.gz\")\n",
        "\n",
        "  #Gets all possible languages from the dataset\n",
        "  df = pd.read_csv('clean-dataset.tsv',sep=\"\\t\")\n",
        "  #df = df.sort_values(by='favorite_count', ascending=False)\n",
        "  tweetsDf = pd.concat([tweetsDf, df.sample(2000)])\n"
      ],
      "execution_count": null,
      "outputs": []
    },
    {
      "cell_type": "code",
      "metadata": {
        "id": "gBB5jbRWXeIZ"
      },
      "source": [
        "print(tweetsDf.head())"
      ],
      "execution_count": null,
      "outputs": []
    },
    {
      "cell_type": "code",
      "metadata": {
        "id": "kOXCw2n4-w2C"
      },
      "source": [
        "!pip install pandas==1.1.5"
      ],
      "execution_count": null,
      "outputs": []
    },
    {
      "cell_type": "code",
      "metadata": {
        "id": "hPw9IgkoMcI8"
      },
      "source": [
        "tweetsDf[[\"tweet_id\"]].to_csv(\"tweets.csv\", index=False, header=False)"
      ],
      "execution_count": null,
      "outputs": []
    },
    {
      "cell_type": "code",
      "metadata": {
        "id": "gG2qv_U5OsNY",
        "colab": {
          "base_uri": "https://localhost:8080/"
        },
        "outputId": "359a45fb-b21c-4d16-de1b-110deba95354"
      },
      "source": [
        "pd.read_csv(\"tweets.csv\").shape"
      ],
      "execution_count": null,
      "outputs": [
        {
          "output_type": "execute_result",
          "data": {
            "text/plain": [
              "(747999, 1)"
            ]
          },
          "metadata": {
            "tags": []
          },
          "execution_count": 12
        }
      ]
    },
    {
      "cell_type": "code",
      "metadata": {
        "id": "DWJsPtlmMOX2"
      },
      "source": [
        "! twarc hydrate tweets.csv > \"/content/drive/My Drive/Data/covid-tweets.jsonl\""
      ],
      "execution_count": null,
      "outputs": []
    },
    {
      "cell_type": "code",
      "metadata": {
        "id": "leNkek3wQXCf"
      },
      "source": [
        "tweets = pd.read_json(\"/content/drive/My Drive/Data/covid-tweets.jsonl\", lines=True, chunksize=20000)"
      ],
      "execution_count": null,
      "outputs": []
    },
    {
      "cell_type": "code",
      "metadata": {
        "id": "fY6i_SCD1j0R"
      },
      "source": [
        "f = open(\"/content/drive/My Drive/Data/covid-tweets-en.jsonl\", 'w')\n",
        "f.close()"
      ],
      "execution_count": null,
      "outputs": []
    },
    {
      "cell_type": "code",
      "metadata": {
        "id": "i8i61KWIa20A"
      },
      "source": [
        "for chunk in tweets:\n",
        "  out = chunk[chunk.lang==\"en\"].to_json(orient='records', lines=True)\n",
        "  with open(\"/content/drive/My Drive/Data/covid-tweets-en.jsonl\", 'a') as f:\n",
        "    f.write(out)\n",
        "    f.write('\\n')"
      ],
      "execution_count": null,
      "outputs": []
    },
    {
      "cell_type": "code",
      "metadata": {
        "id": "KLrVHh1nGl-J"
      },
      "source": [
        "tweetsDf = pd.read_json(\"/content/drive/My Drive/Data/covid-tweets-en.jsonl\", orient='records', lines=True, chunksize=20000)"
      ],
      "execution_count": null,
      "outputs": []
    },
    {
      "cell_type": "code",
      "metadata": {
        "id": "5TxgDWefHiq5"
      },
      "source": [
        "lines=0\n",
        "df = pd.DataFrame()\n",
        "for chunk in tweetsDf:\n",
        "  chunk.drop([\"truncated\", \"display_text_range\", \"in_reply_to_status_id\", \"in_reply_to_status_id_str\",\n",
        "              \"in_reply_to_user_id\", \"in_reply_to_user_id_str\", \"in_reply_to_screen_name\", \"is_quote_status\", \"quoted_status_id\",\n",
        "              'quoted_status_id_str', 'quoted_status_permalink', 'quoted_status', 'possibly_sensitive', 'extended_entities', 'withheld_in_countries'],axis=1, inplace=True)\n",
        "  df = pd.concat([df, chunk], axis=0)\n"
      ],
      "execution_count": null,
      "outputs": []
    },
    {
      "cell_type": "code",
      "metadata": {
        "colab": {
          "base_uri": "https://localhost:8080/"
        },
        "id": "CbVcoDnJILWz",
        "outputId": "4dafd785-3bc8-4518-c8cf-0db732ce7b9e"
      },
      "source": [
        "df.shape"
      ],
      "execution_count": null,
      "outputs": [
        {
          "output_type": "execute_result",
          "data": {
            "text/plain": [
              "(348329, 18)"
            ]
          },
          "metadata": {
            "tags": []
          },
          "execution_count": 3
        }
      ]
    },
    {
      "cell_type": "code",
      "metadata": {
        "id": "IopyIiFqbX7g"
      },
      "source": [
        "df.head()"
      ],
      "execution_count": null,
      "outputs": []
    },
    {
      "cell_type": "code",
      "metadata": {
        "id": "qzIVxvznN9uN"
      },
      "source": [
        "df.to_json(\"/content/drive/My Drive/Data/covid-tweets-final.jsonl\", orient=\"records\", lines=True)"
      ],
      "execution_count": null,
      "outputs": []
    },
    {
      "cell_type": "markdown",
      "metadata": {
        "id": "tnVpWw056-A-"
      },
      "source": [
        "## Lecture des tweets à partir du fichier"
      ]
    },
    {
      "cell_type": "code",
      "metadata": {
        "id": "yfY7iRFAwEVu"
      },
      "source": [
        "tweetsDf = pd.read_json(\"/content/drive/My Drive/Data/covid-tweets-final.jsonl\", orient='records', lines=True, chunksize=20000)"
      ],
      "execution_count": null,
      "outputs": []
    },
    {
      "cell_type": "code",
      "metadata": {
        "id": "cmGW_QWn2G8t"
      },
      "source": [
        "df = pd.DataFrame()\n",
        "for chunk in tweetsDf:\n",
        "  df = pd.concat([df, chunk], axis=0)"
      ],
      "execution_count": null,
      "outputs": []
    },
    {
      "cell_type": "code",
      "metadata": {
        "id": "RIbp2FZElm1E"
      },
      "source": [
        "tweetsDf = df.copy()"
      ],
      "execution_count": null,
      "outputs": []
    },
    {
      "cell_type": "markdown",
      "metadata": {
        "id": "z2SwA9f5MpT1"
      },
      "source": [
        "## Preprocessing"
      ]
    },
    {
      "cell_type": "code",
      "metadata": {
        "id": "imRqvI1lDe2O"
      },
      "source": [
        "def remove_urls(text):\n",
        "  result = re.sub(r'''(?i)\\b((?:https?://|www\\d{0,3}[.]|[a-z0-9.\\-]+[.][a-z]{2,4}/)(?:[^\\s()<>]+|\\(([^\\s()<>]+|(\\([^\\s()<>]+\\)))*\\))+(?:\\(([^\\s()<>]+|(\\([^\\s()<>]+\\)))*\\)|[^\\s`!()\\[\\]{};:'\".,<>?«»“”‘’]))''',' ',text)\n",
        "  return result\n",
        "\n",
        "stop_words = stopwords.words('english')\n",
        "#add punctuation char's to stopwords list\n",
        "stop_words += list(string.punctuation) # <-- contains !\"#$%&'()*+,-./:;<=>?@[\\]^_`{|}~\n",
        "#add integers\n",
        "stop_words += ['0', '1', '2', '3', '4', '5', '6', '7', '8', '9']\n",
        "\n",
        "def tokenize_lowercase(text):\n",
        "    tokens = nltk.word_tokenize(text)\n",
        "    stopwords_removed = [token.lower() for token in tokens if token.lower() not in stop_words]\n",
        "    return stopwords_removed\n",
        "  \n",
        "\n",
        "def remove_nums(text_object):\n",
        "    no_nums = list(filter(lambda x: x.isalpha(), text_object))\n",
        "    return no_nums\n",
        "\n",
        "\n",
        "lemmatizer = WordNetLemmatizer()\n",
        "def lemmatize_text(df_text):\n",
        "    lemmatized =[]\n",
        "    for w in df_text:\n",
        "        if(len(w)>3):\n",
        "          lemmatized.append(lemmatizer.lemmatize(w))\n",
        "\n",
        "    return lemmatized\n",
        "\n",
        "\n",
        "def list_to_sentence(list_words):\n",
        "  return \" \".join(list_words)\n",
        "\n",
        "\n",
        "def preprocess(text):\n",
        "  return lemmatize_text(remove_nums(tokenize_lowercase(remove_urls(text))))"
      ],
      "execution_count": null,
      "outputs": []
    },
    {
      "cell_type": "code",
      "metadata": {
        "id": "nuHA5EJWM0qm"
      },
      "source": [
        "tweetsDf['full_text'] = tweetsDf['full_text'].map(remove_urls)\n",
        "tweetsDf['full_text'] = tweetsDf['full_text'].apply(tokenize_lowercase)\n",
        "tweetsDf['full_text'] = tweetsDf['full_text'].apply(remove_nums)\n",
        "tweetsDf['full_text'] = tweetsDf['full_text'].apply(lemmatize_text)"
      ],
      "execution_count": null,
      "outputs": []
    },
    {
      "cell_type": "code",
      "metadata": {
        "colab": {
          "base_uri": "https://localhost:8080/"
        },
        "id": "613dqDTNRHyF",
        "outputId": "bd54a3f5-b207-49f6-9a71-90cab31bfbed"
      },
      "source": [
        "#tweetsDf.style.set_properties(subset=['full_text'], **{'width': '1000px'})\n",
        "tweetsDf['full_text'].head()"
      ],
      "execution_count": null,
      "outputs": [
        {
          "output_type": "execute_result",
          "data": {
            "text/plain": [
              "0    [coronavirus, curfew, get, good, response, pun...\n",
              "1    [frontliners, must, tested, covid, priority, p...\n",
              "2    [united, state, department, health, human, ser...\n",
              "3       [yellowknife, community, foundation, response]\n",
              "4    [wealthy, calling, doctor, ventilator, manufac...\n",
              "Name: full_text, dtype: object"
            ]
          },
          "metadata": {
            "tags": []
          },
          "execution_count": 12
        }
      ]
    },
    {
      "cell_type": "markdown",
      "metadata": {
        "id": "WVICox1uOGjR"
      },
      "source": [
        "## LDA"
      ]
    },
    {
      "cell_type": "markdown",
      "metadata": {
        "id": "J6X4dBSU7qE6"
      },
      "source": [
        "### Dictionaire de données"
      ]
    },
    {
      "cell_type": "code",
      "metadata": {
        "id": "wCC2E6WTOB1G"
      },
      "source": [
        "dictionary = gensim.corpora.Dictionary(tweetsDf['full_text'])"
      ],
      "execution_count": null,
      "outputs": []
    },
    {
      "cell_type": "code",
      "metadata": {
        "colab": {
          "base_uri": "https://localhost:8080/"
        },
        "id": "_m-yzorqXeaR",
        "outputId": "32d0b645-bfc4-4668-adeb-4e55f8a7e152"
      },
      "source": [
        "count = 0\n",
        "for k, v in dictionary.iteritems():\n",
        "    print(k, v)\n",
        "    count += 1\n",
        "    if count > 10:\n",
        "        break"
      ],
      "execution_count": null,
      "outputs": [
        {
          "output_type": "stream",
          "text": [
            "0 coronavirus\n",
            "1 curfew\n",
            "2 get\n",
            "3 good\n",
            "4 haryana\n",
            "5 picture\n",
            "6 punjab\n",
            "7 response\n",
            "8 story\n",
            "9 tribune\n",
            "10 covid\n"
          ],
          "name": "stdout"
        }
      ]
    },
    {
      "cell_type": "code",
      "metadata": {
        "id": "NIP5zDHeYU6C"
      },
      "source": [
        "dictionary.filter_extremes(no_above=0.8, no_below=15, keep_n=100000)"
      ],
      "execution_count": null,
      "outputs": []
    },
    {
      "cell_type": "markdown",
      "metadata": {
        "id": "Iv62gUc37wSi"
      },
      "source": [
        "### Bag of words"
      ]
    },
    {
      "cell_type": "code",
      "metadata": {
        "id": "WpzZbL3RYp6s"
      },
      "source": [
        "bow_corpus = [dictionary.doc2bow(doc) for doc in tweetsDf['full_text']]"
      ],
      "execution_count": null,
      "outputs": []
    },
    {
      "cell_type": "markdown",
      "metadata": {
        "id": "SUc6kn_58EsQ"
      },
      "source": [
        "### TF-IDF"
      ]
    },
    {
      "cell_type": "code",
      "metadata": {
        "colab": {
          "base_uri": "https://localhost:8080/"
        },
        "id": "Xbj7sjmNaEzc",
        "outputId": "05c89119-0a4a-4c98-f3e4-f8b74e9ddd51"
      },
      "source": [
        "tfidf = models.TfidfModel(bow_corpus)\n",
        "corpus_tfidf = tfidf[bow_corpus]\n",
        "\n",
        "for doc in corpus_tfidf[1:]:\n",
        "    pprint(doc)\n",
        "    break"
      ],
      "execution_count": null,
      "outputs": [
        {
          "output_type": "stream",
          "text": [
            "[(10, 0.22995012331945805),\n",
            " (11, 0.5703723179516612),\n",
            " (12, 0.25413644758462967),\n",
            " (13, 0.304232896059552),\n",
            " (14, 0.1892233219970177),\n",
            " (15, 0.41075506795152283),\n",
            " (16, 0.41075506795152283),\n",
            " (17, 0.302341617017556)]\n"
          ],
          "name": "stdout"
        }
      ]
    },
    {
      "cell_type": "markdown",
      "metadata": {
        "id": "hg5f7EPU8KUf"
      },
      "source": [
        "### Entrainnement du modèle"
      ]
    },
    {
      "cell_type": "code",
      "metadata": {
        "id": "rO7avrycYu8z"
      },
      "source": [
        "lda_model = gensim.models.LdaMulticore(bow_corpus, num_topics=10, id2word=dictionary, passes=2, workers=2)"
      ],
      "execution_count": null,
      "outputs": []
    },
    {
      "cell_type": "code",
      "metadata": {
        "id": "QmmyglcYZCHp",
        "colab": {
          "base_uri": "https://localhost:8080/"
        },
        "outputId": "be221d9b-b038-41ab-fbfb-38f95638ef12"
      },
      "source": [
        "for idx, topic in lda_model.print_topics(-1):\n",
        "    print('Topic: {} Words: {}'.format(idx, topic))"
      ],
      "execution_count": null,
      "outputs": [
        {
          "output_type": "stream",
          "text": [
            "Topic: 0 Words: 0.022*\"coronavirus\" + 0.020*\"year\" + 0.009*\"pandemic\" + 0.008*\"china\" + 0.008*\"covid\" + 0.007*\"watch\" + 0.006*\"game\" + 0.006*\"video\" + 0.006*\"news\" + 0.006*\"chinese\"\n",
            "Topic: 1 Words: 0.034*\"coronavirus\" + 0.030*\"trump\" + 0.020*\"biden\" + 0.019*\"variant\" + 0.016*\"vaccine\" + 0.015*\"american\" + 0.015*\"president\" + 0.014*\"dos\" + 0.012*\"shot\" + 0.011*\"relief\"\n",
            "Topic: 2 Words: 0.044*\"death\" + 0.038*\"test\" + 0.035*\"case\" + 0.029*\"positive\" + 0.028*\"coronavirus\" + 0.022*\"covid\" + 0.019*\"testing\" + 0.017*\"total\" + 0.016*\"number\" + 0.013*\"hospital\"\n",
            "Topic: 3 Words: 0.157*\"vaccine\" + 0.024*\"vaccination\" + 0.013*\"patient\" + 0.012*\"first\" + 0.012*\"worker\" + 0.011*\"study\" + 0.010*\"astrazeneca\" + 0.009*\"coronavirus\" + 0.009*\"health\" + 0.009*\"covid\"\n",
            "Topic: 4 Words: 0.020*\"people\" + 0.015*\"country\" + 0.014*\"government\" + 0.009*\"world\" + 0.009*\"coronavirus\" + 0.009*\"lockdown\" + 0.007*\"pandemic\" + 0.007*\"restriction\" + 0.007*\"travel\" + 0.006*\"well\"\n",
            "Topic: 5 Words: 0.022*\"pandemic\" + 0.011*\"business\" + 0.010*\"health\" + 0.010*\"vaccination\" + 0.009*\"coronavirus\" + 0.009*\"school\" + 0.008*\"student\" + 0.007*\"impact\" + 0.007*\"support\" + 0.006*\"government\"\n",
            "Topic: 6 Words: 0.043*\"mask\" + 0.025*\"vaccinated\" + 0.017*\"school\" + 0.014*\"face\" + 0.013*\"coronavirus\" + 0.013*\"social\" + 0.012*\"wear\" + 0.011*\"people\" + 0.011*\"hand\" + 0.010*\"spread\"\n",
            "Topic: 7 Words: 0.054*\"case\" + 0.042*\"coronavirus\" + 0.022*\"death\" + 0.021*\"state\" + 0.016*\"news\" + 0.016*\"update\" + 0.014*\"report\" + 0.014*\"health\" + 0.011*\"county\" + 0.010*\"march\"\n",
            "Topic: 8 Words: 0.023*\"people\" + 0.018*\"like\" + 0.016*\"know\" + 0.013*\"would\" + 0.011*\"virus\" + 0.011*\"year\" + 0.010*\"time\" + 0.010*\"think\" + 0.010*\"going\" + 0.009*\"make\"\n",
            "Topic: 9 Words: 0.019*\"please\" + 0.014*\"help\" + 0.011*\"pandemic\" + 0.011*\"need\" + 0.011*\"health\" + 0.010*\"life\" + 0.009*\"safe\" + 0.009*\"people\" + 0.008*\"take\" + 0.008*\"stay\"\n"
          ],
          "name": "stdout"
        }
      ]
    },
    {
      "cell_type": "code",
      "metadata": {
        "id": "fSlaaeVbacxq"
      },
      "source": [
        "lda_model_tfidf = gensim.models.LdaMulticore(corpus_tfidf, num_topics=5, id2word=dictionary, passes=2, workers=4)\n",
        "for idx, topic in lda_model_tfidf.print_topics(-1):\n",
        "    print('Topic: {} Word: {}'.format(idx, topic))"
      ],
      "execution_count": null,
      "outputs": []
    },
    {
      "cell_type": "markdown",
      "metadata": {
        "id": "Tn7RtVIE8i79"
      },
      "source": [
        "### Prediction du topic d'un nouveau tweet"
      ]
    },
    {
      "cell_type": "code",
      "metadata": {
        "colab": {
          "base_uri": "https://localhost:8080/"
        },
        "id": "w6_XpEefbAxk",
        "outputId": "1a395be0-8856-4d77-9cbb-f9dd0e63099e"
      },
      "source": [
        "unseen_document = 'I’d suggest that neighboring States control their frontiers & ask all Texans who want to cross State lines, have a Covid test! Otherwise all the efforts of good people in neighboring states, wearing masks & being careful, can be thrown in the air by these irresponsible governors!'\n",
        "bow_vector = dictionary.doc2bow(preprocess(unseen_document))\n",
        "for index, score in sorted(lda_model_tfidf[bow_vector], key=lambda tup: -1*tup[1]):\n",
        "    print(\"{} - Score: {}\\t Topic: {}\".format(index, score, lda_model_tfidf.print_topic(index, 5)))"
      ],
      "execution_count": null,
      "outputs": [
        {
          "output_type": "stream",
          "text": [
            "1 - Score: 0.6430994272232056\t Topic: 0.008*\"mask\" + 0.007*\"people\" + 0.005*\"vaccinated\" + 0.005*\"like\" + 0.004*\"know\"\n",
            "3 - Score: 0.13851813971996307\t Topic: 0.026*\"case\" + 0.018*\"death\" + 0.012*\"coronavirus\" + 0.008*\"update\" + 0.008*\"vaccine\"\n",
            "2 - Score: 0.1333116739988327\t Topic: 0.010*\"vaccine\" + 0.008*\"vaccination\" + 0.006*\"trump\" + 0.006*\"coronavirus\" + 0.005*\"biden\"\n",
            "4 - Score: 0.07689768075942993\t Topic: 0.007*\"good\" + 0.005*\"vaccine\" + 0.005*\"coronavirus\" + 0.005*\"fuck\" + 0.004*\"year\"\n"
          ],
          "name": "stdout"
        }
      ]
    },
    {
      "cell_type": "code",
      "metadata": {
        "colab": {
          "base_uri": "https://localhost:8080/"
        },
        "id": "Q4vD5BTSTMHB",
        "outputId": "5370e58d-b8db-48e4-c8b2-fe9ac98ab98c"
      },
      "source": [
        "for index, score in sorted(lda_model[bow_vector], key=lambda tup: -1*tup[1]):\n",
        "    print(\"Score: {}\\t Topic: {}\".format(score, lda_model.print_topic(index, 5)))"
      ],
      "execution_count": null,
      "outputs": [
        {
          "output_type": "stream",
          "text": [
            "Score: 0.3353331387042999\t Topic: 0.043*\"mask\" + 0.025*\"vaccinated\" + 0.017*\"school\" + 0.014*\"face\" + 0.013*\"coronavirus\"\n",
            "Score: 0.2856392562389374\t Topic: 0.054*\"case\" + 0.042*\"coronavirus\" + 0.022*\"death\" + 0.021*\"state\" + 0.016*\"news\"\n",
            "Score: 0.15011870861053467\t Topic: 0.023*\"people\" + 0.018*\"like\" + 0.016*\"know\" + 0.013*\"would\" + 0.011*\"virus\"\n",
            "Score: 0.09828728437423706\t Topic: 0.022*\"pandemic\" + 0.011*\"business\" + 0.010*\"health\" + 0.010*\"vaccination\" + 0.009*\"coronavirus\"\n",
            "Score: 0.05786719173192978\t Topic: 0.044*\"death\" + 0.038*\"test\" + 0.035*\"case\" + 0.029*\"positive\" + 0.028*\"coronavirus\"\n",
            "Score: 0.05675055831670761\t Topic: 0.022*\"coronavirus\" + 0.020*\"year\" + 0.009*\"pandemic\" + 0.008*\"china\" + 0.008*\"covid\"\n"
          ],
          "name": "stdout"
        }
      ]
    },
    {
      "cell_type": "markdown",
      "metadata": {
        "id": "KNQdGEH18tT0"
      },
      "source": [
        "### Visualisation des topics"
      ]
    },
    {
      "cell_type": "code",
      "metadata": {
        "colab": {
          "base_uri": "https://localhost:8080/",
          "height": 861
        },
        "id": "wfw1t5w9eYJ3",
        "outputId": "b74455bd-e10c-4e3b-bbef-cadf83e212e3"
      },
      "source": [
        "pyLDAvis.enable_notebook()\n",
        "\n",
        "vis = gensimvis.prepare(lda_model_tfidf, bow_corpus, dictionary=lda_model_tfidf.id2word)\n",
        "vis"
      ],
      "execution_count": null,
      "outputs": [
        {
          "output_type": "execute_result",
          "data": {
            "text/html": [
              "\n",
              "<link rel=\"stylesheet\" type=\"text/css\" href=\"https://cdn.jsdelivr.net/gh/bmabey/pyLDAvis@3.3.1/pyLDAvis/js/ldavis.v1.0.0.css\">\n",
              "\n",
              "\n",
              "<div id=\"ldavis_el14621401064952707366857900164\"></div>\n",
              "<script type=\"text/javascript\">\n",
              "\n",
              "var ldavis_el14621401064952707366857900164_data = {\"mdsDat\": {\"x\": [0.08535344463769423, 0.001017092767283321, 0.07125138314795755, -0.2544588136937207, 0.09683689314078568], \"y\": [0.11666092288888825, -0.1686687013116805, 0.06540540078463246, 0.0374291538366551, -0.05082677619849568], \"topics\": [1, 2, 3, 4, 5], \"cluster\": [1, 1, 1, 1, 1], \"Freq\": [25.79099224362401, 24.813276176211343, 20.06704628658045, 17.68980339959675, 11.638881893987445]}, \"tinfo\": {\"Term\": [\"case\", \"death\", \"total\", \"variant\", \"reported\", \"vaccination\", \"vaccinated\", \"update\", \"mask\", \"confirmed\", \"good\", \"pfizer\", \"record\", \"report\", \"latest\", \"daily\", \"county\", \"positive\", \"fuck\", \"number\", \"wear\", \"dose\", \"active\", \"rate\", \"trump\", \"coronavirus\", \"biden\", \"recovered\", \"infection\", \"relief\", \"vaccinated\", \"maskup\", \"wash\", \"weird\", \"covidisairborne\", \"repeated\", \"caput\", \"therapeutic\", \"sinovac\", \"denier\", \"operationbreathefreshcleanair\", \"legacy\", \"enviroklenzairpurifiers\", \"bulletin\", \"presidency\", \"longcovid\", \"ctvnews\", \"kayleighmcenany\", \"brisbane\", \"austria\", \"christ\", \"deadliest\", \"bat\", \"jesus\", \"resort\", \"auckland\", \"arkansas\", \"wear\", \"redfield\", \"washing\", \"wearing\", \"wearamask\", \"travelling\", \"surpassed\", \"praying\", \"distance\", \"thats\", \"honestly\", \"tired\", \"mask\", \"lord\", \"loved\", \"nightmare\", \"okay\", \"bullshit\", \"stay\", \"else\", \"one\", \"damn\", \"hand\", \"distancing\", \"well\", \"going\", \"absolutely\", \"safe\", \"think\", \"really\", \"everyone\", \"thing\", \"keep\", \"sick\", \"never\", \"like\", \"know\", \"people\", \"getting\", \"still\", \"right\", \"sure\", \"make\", \"soon\", \"home\", \"would\", \"want\", \"please\", \"even\", \"stop\", \"take\", \"virus\", \"need\", \"time\", \"year\", \"coronavirus\", \"covid\", \"vaccine\", \"variant\", \"receives\", \"wale\", \"falling\", \"capitol\", \"dakota\", \"eligibility\", \"classroom\", \"adverse\", \"explore\", \"mutant\", \"immunization\", \"chapter\", \"ghana\", \"interior\", \"eligible\", \"macron\", \"superspreader\", \"idaho\", \"mississippi\", \"expanded\", \"antigen\", \"merkel\", \"invest\", \"improving\", \"disproportionately\", \"inauguration\", \"eastern\", \"fiverr\", \"southafrica\", \"exam\", \"tracker\", \"webinar\", \"registration\", \"apple\", \"irish\", \"exciting\", \"detect\", \"appointment\", \"thread\", \"kindly\", \"assistance\", \"session\", \"virtual\", \"color\", \"join\", \"digital\", \"pharmacy\", \"passport\", \"clinic\", \"discus\", \"rapid\", \"impacted\", \"podcast\", \"education\", \"grant\", \"program\", \"rollout\", \"link\", \"online\", \"impact\", \"student\", \"interesting\", \"resource\", \"project\", \"information\", \"challenge\", \"access\", \"business\", \"available\", \"register\", \"community\", \"support\", \"learn\", \"astrazeneca\", \"vaccine\", \"pandemic\", \"school\", \"health\", \"help\", \"testing\", \"site\", \"service\", \"check\", \"read\", \"coronavirus\", \"visit\", \"test\", \"free\", \"important\", \"need\", \"please\", \"work\", \"today\", \"worker\", \"year\", \"news\", \"time\", \"covid\", \"covidvaccine\", \"detected\", \"authorization\", \"batch\", \"dining\", \"farmer\", \"queensland\", \"lifting\", \"senategop\", \"sinopharm\", \"genocide\", \"provincial\", \"sigh\", \"warp\", \"mitigation\", \"roughly\", \"administering\", \"secondary\", \"needle\", \"recipient\", \"gym\", \"surpass\", \"ramaphosa\", \"catholic\", \"buhari\", \"novavax\", \"competition\", \"scheduling\", \"coronavirusvaccine\", \"portugal\", \"summary\", \"accountable\", \"posted\", \"cruise\", \"trillion\", \"hancock\", \"moderna\", \"speakerpelosi\", \"voted\", \"nigerian\", \"bill\", \"gate\", \"joebiden\", \"senate\", \"senatemajldr\", \"republican\", \"vaccination\", \"mcconnell\", \"biden\", \"relief\", \"pelosi\", \"matt\", \"democrat\", \"onpoli\", \"trump\", \"johnson\", \"package\", \"fauci\", \"white\", \"vote\", \"american\", \"house\", \"lie\", \"president\", \"stimulus\", \"vaccine\", \"shot\", \"administration\", \"america\", \"china\", \"say\", \"coronavirus\", \"people\", \"government\", \"realdonaldtrump\", \"plan\", \"pandemic\", \"million\", \"covid\", \"need\", \"country\", \"would\", \"pfizer\", \"tally\", \"surpasses\", \"administered\", \"biontech\", \"yikes\", \"coronavirusupdate\", \"fitness\", \"quebec\", \"cumulative\", \"pub\", \"srilanka\", \"drericding\", \"fatality\", \"punjab\", \"shocked\", \"lanka\", \"kidding\", \"nears\", \"welp\", \"nigga\", \"gujarat\", \"escaped\", \"hesitancy\", \"allergic\", \"confirmed\", \"native\", \"top\", \"maine\", \"probable\", \"total\", \"reported\", \"active\", \"maharashtra\", \"hospitalization\", \"brazil\", \"heartbreaking\", \"toll\", \"record\", \"highest\", \"recovered\", \"case\", \"stats\", \"dose\", \"lakh\", \"coronavirusupdates\", \"death\", \"daily\", \"average\", \"awesome\", \"update\", \"ministry\", \"confirms\", \"report\", \"rate\", \"county\", \"latest\", \"number\", \"infection\", \"positive\", \"india\", \"rise\", \"coronavirus\", \"test\", \"dos\", \"state\", \"today\", \"news\", \"last\", \"first\", \"million\", \"vaccine\", \"health\", \"covid\", \"week\", \"thanksgiving\", \"anniversary\", \"lmao\", \"bubble\", \"biotech\", \"hopkins\", \"clot\", \"kong\", \"hong\", \"bowl\", \"ford\", \"amen\", \"palestinian\", \"indigenous\", \"nope\", \"kamala\", \"ccpvirus\", \"tournament\", \"revolution\", \"mondaythoughts\", \"doug\", \"requiring\", \"ten\", \"inquiry\", \"returned\", \"jamaica\", \"halloween\", \"bioweapon\", \"disappear\", \"celliottability\", \"booking\", \"slot\", \"recommends\", \"saudi\", \"fuck\", \"match\", \"chinavirus\", \"sooner\", \"secure\", \"fucked\", \"lowest\", \"good\", \"shit\", \"john\", \"true\", \"vitamin\", \"ontario\", \"conspiracy\", \"love\", \"indeed\", \"fordnation\", \"cool\", \"joke\", \"happy\", \"theory\", \"fucking\", \"fake\", \"finally\", \"year\", \"news\", \"market\", \"wait\", \"coronavirus\", \"like\", \"vaccine\", \"holiday\", \"pandemic\", \"vaccination\", \"china\", \"world\", \"game\", \"time\", \"look\", \"covid\", \"hope\", \"people\", \"virus\", \"well\", \"know\", \"even\", \"read\"], \"Freq\": [18158.0, 13630.0, 4559.0, 4933.0, 4000.0, 7696.0, 4640.0, 6580.0, 7606.0, 3024.0, 6058.0, 2917.0, 3461.0, 6327.0, 4743.0, 3968.0, 4272.0, 6802.0, 2228.0, 5656.0, 2991.0, 2655.0, 2247.0, 4173.0, 7802.0, 20790.0, 4810.0, 2134.0, 4331.0, 3605.0, 4637.432667216074, 649.2813758350447, 800.5354621616111, 434.11483210588096, 388.2102768844891, 352.46852019529484, 350.85166980772595, 340.30448904417085, 351.92024468979713, 303.1395272241023, 314.0436545672823, 299.0070128791153, 306.38370296195603, 332.10928485996664, 281.5992720138137, 297.8416668427151, 277.2434891146233, 273.25049509613035, 260.5530644307857, 257.8617968600731, 258.7429033676409, 250.58761728459743, 245.03014769211524, 694.2699251644885, 242.4463321345207, 249.56678455446254, 238.15476307310985, 2956.7262892426065, 243.23429640604675, 272.07109665274515, 1813.7700095130685, 1193.28407455105, 400.3514020974874, 296.8407545576469, 423.66287827610705, 1045.3268476200267, 292.70672172912117, 485.2178771164089, 530.6285133955856, 6720.802788872319, 646.8582878994674, 939.5760508055055, 344.9916359359108, 756.0526965355914, 747.4319309054216, 3085.4574556132893, 1164.1854002364532, 1109.0840079095333, 1375.6744342050404, 1762.6923411935427, 1167.9499010878894, 3679.8528578878327, 3539.672634479659, 1006.043935844627, 2810.096989034658, 3115.002718510311, 2721.130325354217, 2347.579462815075, 2685.84365046046, 2713.6519740853123, 1383.4132440063413, 2222.0652166895775, 4413.535924093919, 3881.208098933512, 6420.130694450525, 2614.8389483999276, 3417.0462866746275, 2827.319371960205, 1732.226105161811, 2876.063414187889, 1819.160368705269, 2850.6945472364214, 3007.565324013478, 2606.2254920803507, 2974.2970483237377, 2515.6581923280924, 2197.6420304015846, 2737.485474020117, 2795.111872838769, 2905.967965732367, 3024.0473046603715, 2882.678649118608, 3771.9234048693597, 3068.986181562194, 3063.151292748299, 4930.259233009213, 687.4216830435302, 615.845118870234, 446.8260476479827, 452.46167899998414, 444.5583051294118, 546.5941397046267, 416.024872669976, 395.3440038124182, 325.5774192739926, 322.65884970748624, 286.87581702481634, 305.90139033548314, 442.4178854186511, 259.7526171350452, 1436.692735166122, 255.6240599515699, 255.15458495427666, 250.8703532292411, 325.0137769025059, 241.48984164962187, 236.94504634882063, 234.0463601379486, 232.18782351628002, 226.1594030354778, 224.5027456149132, 226.01873386566643, 222.1474965224797, 236.18467513485012, 210.3402746245732, 556.3479780001843, 501.2994593882414, 827.5788873989566, 457.1573203811393, 343.58193398822556, 280.94988372828607, 264.5972474960903, 291.7655873078058, 1977.0675692235893, 1901.3971137421454, 326.8096178125107, 483.0531254322591, 537.0795949941875, 868.5713344964755, 359.3750134699555, 1753.7854586016385, 939.0336879140649, 590.6870036460847, 910.0970913245695, 1027.943041183104, 975.1495872838979, 901.8997013085404, 621.0565884762633, 512.0131462489401, 1236.117763337304, 729.4750544941096, 1241.6386506419713, 1417.1568306479544, 1497.128528894684, 1523.3460332688435, 2111.412891012313, 2061.9773718880506, 1183.8256770406924, 959.0095519128182, 1011.5977838300851, 1892.6094133919669, 1147.125509103553, 1249.5995203429084, 2563.780972148913, 1749.4775797973616, 1106.3050542703377, 2174.025404575372, 2167.905391899686, 1594.9132376558011, 1612.7543770518835, 8458.960883086442, 4584.118685047079, 2759.8093658604844, 3781.7518430697455, 2770.4097943542197, 2238.228982770607, 1322.3746819169944, 1545.5416027874996, 1844.3457989444923, 2183.685694530224, 3916.5363319761905, 1387.4128162994014, 2316.8347464840726, 1594.3382793521541, 1476.8041242808515, 1910.513446590429, 1776.3745353279414, 1725.594574513118, 1778.6717933632199, 1606.283644763241, 1658.890893389259, 1663.4259822449685, 1631.2486215391368, 1621.2389986063408, 1627.1001836212506, 709.8297358102542, 421.8736487017228, 398.5743498520816, 367.04431738326696, 369.3894102315188, 299.76527605859377, 285.75777783251783, 295.5646025617308, 276.1115139057888, 278.00916717176324, 289.4566838028357, 278.51181580024263, 265.9845888488501, 257.4362179823582, 252.75107859693287, 276.49257046733356, 247.93259244376745, 240.79021996390549, 262.68702480961, 243.02651674831407, 256.3541246818067, 235.63258966620685, 232.6891084542953, 248.83448037370874, 230.99360800711293, 214.72954765213927, 217.15982703740363, 204.94176673973377, 218.8510621502222, 427.1097170966189, 300.7090563805027, 891.0655951827069, 318.35025903375765, 923.182241289332, 362.82516077082744, 1437.7444893230836, 405.47197624464525, 729.6843265976257, 513.8733064212977, 2412.9450664098094, 630.1381109108685, 1146.2054812988597, 1064.2311215381185, 374.0062241669472, 1708.7272290195224, 5406.112096998091, 411.84598778770163, 3462.933415480348, 2623.943507820941, 429.66379130365374, 367.43156168339584, 1286.1927939171555, 504.2525143504878, 4455.485773259952, 1745.3174699471626, 942.4995200971265, 1370.186879611861, 1457.1367418954703, 1449.59130533075, 2767.119848740205, 1701.1366159556246, 963.9194285208863, 2189.255713337944, 1025.757725476332, 6885.2970530966595, 1579.5519182371347, 1063.0028654416915, 1446.4888653198714, 1735.2338190102248, 2003.370599458845, 3790.928576737845, 2974.1006255312377, 1852.5983588640772, 1430.6309529065263, 1474.4045776040618, 2089.033572317308, 1524.2566842458689, 1776.0913167059002, 1590.3154594666557, 1489.5002567440536, 1463.5694268173343, 2915.0965353901356, 720.4158264390277, 452.2081137656479, 1172.3447791910867, 434.16634029376706, 425.9409229896176, 747.7092790517852, 398.3700746409593, 381.5925224381553, 337.3269134102627, 330.0299615589222, 404.78996592576704, 319.33340263037326, 986.2866292034076, 330.67771255377676, 432.9497109111602, 282.06272409417204, 303.2452972814157, 255.70448029499187, 255.3232509254797, 250.900947872474, 251.15497133178502, 260.149467166289, 258.0416903011986, 248.5078138691097, 2989.4918333866285, 236.96333910865772, 293.42027360023593, 317.4048367561741, 227.5744096275349, 4487.673404127541, 3937.2567141035343, 2199.2058217766657, 806.2357191881767, 1555.0119320746219, 1503.512285692191, 487.1512913229267, 1952.530719203294, 3233.5585616481317, 1656.1218128244054, 2000.0692236759464, 15758.483095933505, 1014.3163438342988, 2427.2568210744216, 554.8249414666159, 507.5913710617979, 10711.4203071269, 3253.4601610810387, 985.5522736851772, 600.4839900903509, 4726.670819757813, 942.8179371350102, 690.1593905324252, 4402.731631111537, 3071.664803654473, 3076.2257163115446, 3271.3219468398456, 3727.722206753531, 2987.0780632870906, 4260.6338383339325, 2868.487837981335, 1845.1678012157774, 7361.224340962645, 3547.3136514787, 2066.6156734047054, 3256.537110702425, 3026.6027719448375, 3436.6753666576606, 2511.415658130219, 2913.9698645585117, 2525.079189880188, 4654.130899222572, 2849.7507569336835, 2914.5387076407105, 2225.8407552006715, 548.6303687722196, 444.949866674273, 475.44476601337936, 420.6664129284342, 329.39665322852153, 335.7193659287142, 309.9933422717569, 299.2628725625375, 286.75133935511997, 277.1480820948868, 380.43401570051014, 267.4637322521327, 298.32279326874715, 251.63279229889477, 257.505999824535, 233.11580863478804, 352.64186175283186, 221.4391039358837, 217.85730194166564, 217.46252438797237, 224.86083460780108, 213.96021217243853, 206.95231244657413, 245.34757127105632, 205.35371306630827, 204.70564604833305, 199.2993422490379, 197.27414152875573, 259.40597278418403, 183.09693508486228, 359.70555763544655, 287.70867782645627, 277.46362538934807, 213.38329570738844, 1870.8537770406936, 363.9678543890318, 231.8367944021369, 341.7960598544929, 300.653014527867, 282.83371511355006, 426.0485352959321, 2817.726729110747, 1240.3603649119484, 558.0380375062923, 977.3040180041846, 401.4325810556205, 887.9096549384246, 562.493228217269, 1255.8893505597753, 372.6077568562807, 432.8983613970314, 407.726536202917, 567.6685192027084, 711.0041536279124, 458.90977705308705, 752.3379093820653, 608.5008993335065, 624.6747231625941, 1488.07755389585, 1480.0983782739822, 688.821441444051, 720.2723087410682, 1950.3712447419246, 1262.791627835705, 2029.1340473555188, 563.3326793049636, 1265.316160023724, 1085.3352265861874, 816.0972601739435, 878.501149958872, 600.8773138729765, 928.0989622950866, 752.0584175594093, 906.0026621441607, 690.417369484589, 930.1544536849784, 727.8338726618299, 661.8705969073561, 656.0398288398269, 627.5868551306031, 619.4468416280779], \"Total\": [18158.0, 13630.0, 4559.0, 4933.0, 4000.0, 7696.0, 4640.0, 6580.0, 7606.0, 3024.0, 6058.0, 2917.0, 3461.0, 6327.0, 4743.0, 3968.0, 4272.0, 6802.0, 2228.0, 5656.0, 2991.0, 2655.0, 2247.0, 4173.0, 7802.0, 20790.0, 4810.0, 2134.0, 4331.0, 3605.0, 4640.355268777562, 652.2290900101698, 804.1953178246478, 437.3367611107199, 391.1105699589222, 355.19076650176476, 353.65844953330145, 343.1116983080702, 354.87449524555245, 305.89567478803156, 317.0147193843443, 301.86391540590193, 309.32114428576807, 335.31567931387156, 284.3505203971792, 300.76181173922856, 280.02856625780953, 276.0769722420383, 263.39433707716256, 260.6996977822963, 261.6002935379496, 253.3648490980756, 247.82475692641717, 702.2801306065768, 245.24479391016794, 252.4682487559969, 240.9291220038342, 2991.3903909183396, 246.09652283103964, 275.34527073809863, 1858.4912309455924, 1219.332445385615, 405.267699628971, 300.70187236055904, 430.7404531677673, 1075.9764163107002, 296.588322705902, 498.57325357540435, 547.2885846337682, 7606.834075274636, 672.8738671237403, 999.1347149495418, 352.24931336555926, 805.6115650276445, 798.1440624972162, 3668.9289455731746, 1331.240287545703, 1262.2065947471926, 1633.514149622511, 2185.54374955403, 1398.3687601672602, 5309.839410444173, 5114.459526749379, 1198.5496175256783, 3970.6330483583843, 4636.155885141167, 3970.684668609782, 3391.5355525237296, 3997.1783349444036, 4051.895573553329, 1811.93076142907, 3260.68019824111, 7780.573706946306, 6641.642266301393, 13448.821035539331, 4202.538838443811, 6102.033944575718, 4743.903194460176, 2451.5589975774615, 5228.914675910735, 2672.1583747530194, 5197.979896654732, 5711.61573879032, 4661.987701899947, 5742.30163954316, 4605.806799903119, 3720.2974769958832, 5714.517132406198, 6541.296060976605, 7272.723959452038, 8110.867387686851, 8274.844250931501, 20790.983899287967, 10286.857866659306, 25090.674175509488, 4933.545831656495, 690.3375511244742, 618.868276429888, 449.70838727019566, 455.4433719373052, 447.545646159583, 550.3020747303347, 418.99430235887985, 398.1945527193049, 328.3896335891235, 325.5753591635668, 289.69704289247505, 309.12686934458236, 447.132153011496, 262.57964474067586, 1452.3917236154218, 258.45120159599634, 258.00701110157956, 253.7209620969453, 328.7861609187241, 244.30493874329088, 239.78488211832348, 236.8709916148628, 235.04525712696514, 229.0000358399542, 227.3578034059677, 228.90534228044345, 224.99643939046422, 239.28625343287865, 213.1842573811581, 564.3367836522248, 508.1193636177385, 844.4741382503645, 463.71606955015056, 348.852855124271, 284.8362646918438, 268.3420843335596, 296.5172665991598, 2096.3961930721084, 2036.6449016085166, 333.10509907923057, 501.3434683892165, 560.0092557434175, 924.5034968672232, 369.4889917443686, 1966.859393429228, 1017.8067353414964, 624.9063609970376, 994.3061653469694, 1141.7782276553667, 1082.9248650555533, 1003.167654842758, 666.1504510991833, 540.6348736886134, 1425.3625994635536, 798.0773654400685, 1474.4307149282465, 1719.5426427540542, 1844.6050160964644, 1885.4046602747476, 2779.248153077312, 2754.7074749026565, 1435.8791283289838, 1131.8944276183252, 1209.3726136302023, 2606.112036453481, 1411.0718762680617, 1580.0333160020855, 3953.9202589666465, 2484.0204059146026, 1370.6355843675676, 3335.081353158379, 3324.2936690598963, 2247.892962990965, 2296.9064701481475, 25090.674175509488, 11129.805866923121, 5524.537059025721, 9119.561185296647, 5781.550082400157, 4191.363969273414, 1796.678084534534, 2335.427948265533, 3255.0064260291083, 4506.200361660373, 20790.983899287967, 2023.2041599996226, 7877.740911678962, 2942.951152160347, 2518.9344772409895, 7272.723959452038, 5742.30163954316, 5305.083170058107, 6626.370333130925, 3580.430689174654, 8274.844250931501, 9054.859291527986, 8110.867387686851, 10286.857866659306, 1630.068166606882, 713.0302403731839, 424.71797015826024, 401.44484267749897, 369.93924505539604, 372.74125085905524, 302.7360850646609, 288.63566317931765, 298.594676679823, 278.9609851741524, 280.8790428004113, 292.4557991823867, 281.4506131982276, 268.8727077508262, 260.37190744644056, 255.64868453150817, 279.705887679496, 250.83368621598737, 243.61769574016031, 265.78424629667063, 245.90194540936625, 259.39354313919233, 238.44680783023227, 235.53731478053672, 251.95953702808438, 233.96612679292622, 217.64840650781267, 220.11461525692505, 207.7805371697354, 221.94410481243887, 433.5284861731347, 305.0595930401152, 920.5308814824657, 323.9742096683785, 965.1099584970099, 371.2181084298765, 1544.9810992494483, 417.95740214576415, 772.8296961776882, 539.6089232913504, 2914.9103312935413, 685.1895988248342, 1326.735388042035, 1227.315963889364, 391.51336575656427, 2114.7653605852715, 7696.798333193037, 436.5472799743203, 4810.297230546059, 3605.711402456731, 461.778636697867, 386.7713667345509, 1693.4632794624947, 565.0143646895375, 7802.658325683299, 2590.8498828471807, 1225.574478498493, 1988.297130536804, 2156.4636792874103, 2147.9443872967945, 4948.101937946109, 2691.596380067244, 1299.2297119286332, 3924.3746196344473, 1566.2640653192282, 25090.674175509488, 2989.025510282508, 1673.2325594180038, 2708.07070416377, 3883.1480405183765, 5707.889453640227, 20790.983899287967, 13448.821035539331, 5331.030118354918, 3200.8551346247623, 3718.7512202869607, 11129.805866923121, 5175.35449889702, 10286.857866659306, 7272.723959452038, 6202.701676386387, 5711.61573879032, 2917.9280821775696, 723.5399463598977, 455.0235332956142, 1179.7127924207246, 436.93633886193, 428.67430702318586, 752.6238820744991, 401.19595634499177, 384.3501954215996, 340.06350017927315, 332.8094443324002, 408.36658131633413, 322.2046333175512, 995.3139829274261, 333.7437963721038, 437.0320506347054, 284.876307493764, 306.39233934054727, 258.4686520892842, 258.11863899912555, 253.6620644651409, 253.9435889554487, 263.04553339828976, 260.921598782608, 251.31465089503365, 3024.6240098638054, 239.77967266765387, 296.9249467145497, 321.2613045423366, 230.45238765965692, 4559.532482910776, 4000.3328831010276, 2247.1642462483137, 817.5554636823899, 1594.4039056606136, 1563.0442201400338, 497.06121446756526, 2055.401886896758, 3461.228353440822, 1756.8624297092858, 2134.8870267432003, 18158.235864098657, 1067.6032108379643, 2655.6472346982787, 574.792552375881, 524.198204390216, 13630.635207206135, 3968.527992096405, 1084.1914884946323, 632.1633524775085, 6580.837628424303, 1059.0582925003564, 742.9629713555447, 6327.362138303538, 4173.177093254913, 4272.11186609205, 4743.3396724737695, 5656.473702242539, 4331.837221997412, 6802.075605430852, 4295.95684572603, 2446.427996728277, 20790.983899287967, 7877.740911678962, 3425.5009443044405, 7301.658262490356, 6626.370333130925, 9054.859291527986, 5049.413010633807, 7153.853916267622, 5175.35449889702, 25090.674175509488, 9119.561185296647, 10286.857866659306, 5831.964069279098, 551.6046474524597, 447.8917960688015, 479.0370351927528, 424.0579017574488, 332.3495916121646, 338.8554140565186, 312.98751808606823, 302.2196413676534, 289.67710144976274, 280.1024054898513, 384.49764280433396, 270.5068564401209, 301.74546656438946, 254.69844399380708, 260.6962184133549, 236.03262862572083, 357.24505473278475, 224.38317516622553, 220.77103308370934, 220.38446202826256, 227.9105629353433, 216.9408325887874, 209.8983499025536, 248.8540803428399, 208.29320162961793, 207.64722006905512, 202.20915244746163, 200.33808404979007, 263.4484719047347, 186.02099878279188, 365.83350241517405, 293.66845047574935, 283.18248454906455, 216.96493779989262, 2228.2241697863865, 388.2065897152051, 237.67539481398217, 372.7169827738178, 327.65334827211905, 304.2591266147232, 509.8286234850456, 6058.818183667841, 2104.7009152250284, 768.8947972933058, 1661.8756265605994, 492.89430776670633, 1489.4529283257352, 807.6666190708819, 2641.7423303266737, 453.3822376814825, 597.5934056588437, 544.5773378411134, 992.3098997983982, 1493.3765307246738, 680.6699223393178, 1735.1164036007426, 1165.9827668856935, 1346.2492577027338, 8274.844250931501, 9054.859291527986, 1795.4041385035011, 2032.8669693687839, 20790.983899287967, 7780.573706946306, 25090.674175509488, 1205.0326544849133, 11129.805866923121, 7696.798333193037, 3883.1480405183765, 5749.111787169888, 1691.6059081453536, 8110.867387686851, 3914.746501741766, 10286.857866659306, 3148.482007123561, 13448.821035539331, 6541.296060976605, 5309.839410444173, 6641.642266301393, 4605.806799903119, 4506.200361660373], \"Category\": [\"Default\", \"Default\", \"Default\", \"Default\", \"Default\", \"Default\", \"Default\", \"Default\", \"Default\", \"Default\", \"Default\", \"Default\", \"Default\", \"Default\", \"Default\", \"Default\", \"Default\", \"Default\", \"Default\", \"Default\", \"Default\", \"Default\", \"Default\", \"Default\", \"Default\", \"Default\", \"Default\", \"Default\", \"Default\", \"Default\", \"Topic1\", \"Topic1\", \"Topic1\", \"Topic1\", \"Topic1\", \"Topic1\", \"Topic1\", \"Topic1\", \"Topic1\", \"Topic1\", \"Topic1\", \"Topic1\", \"Topic1\", \"Topic1\", \"Topic1\", \"Topic1\", \"Topic1\", \"Topic1\", \"Topic1\", \"Topic1\", \"Topic1\", \"Topic1\", \"Topic1\", \"Topic1\", \"Topic1\", \"Topic1\", \"Topic1\", \"Topic1\", \"Topic1\", \"Topic1\", \"Topic1\", \"Topic1\", \"Topic1\", \"Topic1\", \"Topic1\", \"Topic1\", \"Topic1\", \"Topic1\", \"Topic1\", \"Topic1\", \"Topic1\", \"Topic1\", \"Topic1\", \"Topic1\", \"Topic1\", \"Topic1\", \"Topic1\", \"Topic1\", \"Topic1\", \"Topic1\", \"Topic1\", \"Topic1\", \"Topic1\", \"Topic1\", \"Topic1\", \"Topic1\", \"Topic1\", \"Topic1\", \"Topic1\", \"Topic1\", \"Topic1\", \"Topic1\", \"Topic1\", \"Topic1\", \"Topic1\", \"Topic1\", \"Topic1\", \"Topic1\", \"Topic1\", \"Topic1\", \"Topic1\", \"Topic1\", \"Topic1\", \"Topic1\", \"Topic1\", \"Topic1\", \"Topic1\", \"Topic1\", \"Topic1\", \"Topic1\", \"Topic1\", \"Topic1\", \"Topic1\", \"Topic1\", \"Topic1\", \"Topic2\", \"Topic2\", \"Topic2\", \"Topic2\", \"Topic2\", \"Topic2\", \"Topic2\", \"Topic2\", \"Topic2\", \"Topic2\", \"Topic2\", \"Topic2\", \"Topic2\", \"Topic2\", \"Topic2\", \"Topic2\", \"Topic2\", \"Topic2\", \"Topic2\", \"Topic2\", \"Topic2\", \"Topic2\", \"Topic2\", \"Topic2\", \"Topic2\", \"Topic2\", \"Topic2\", \"Topic2\", \"Topic2\", \"Topic2\", \"Topic2\", \"Topic2\", \"Topic2\", \"Topic2\", \"Topic2\", \"Topic2\", \"Topic2\", \"Topic2\", \"Topic2\", \"Topic2\", \"Topic2\", \"Topic2\", \"Topic2\", \"Topic2\", \"Topic2\", \"Topic2\", \"Topic2\", \"Topic2\", \"Topic2\", \"Topic2\", \"Topic2\", \"Topic2\", \"Topic2\", \"Topic2\", \"Topic2\", \"Topic2\", \"Topic2\", \"Topic2\", \"Topic2\", \"Topic2\", \"Topic2\", \"Topic2\", \"Topic2\", \"Topic2\", \"Topic2\", \"Topic2\", \"Topic2\", \"Topic2\", \"Topic2\", \"Topic2\", \"Topic2\", \"Topic2\", \"Topic2\", \"Topic2\", \"Topic2\", \"Topic2\", \"Topic2\", \"Topic2\", \"Topic2\", \"Topic2\", \"Topic2\", \"Topic2\", \"Topic2\", \"Topic2\", \"Topic2\", \"Topic2\", \"Topic2\", \"Topic2\", \"Topic2\", \"Topic2\", \"Topic2\", \"Topic2\", \"Topic2\", \"Topic2\", \"Topic2\", \"Topic2\", \"Topic2\", \"Topic2\", \"Topic2\", \"Topic3\", \"Topic3\", \"Topic3\", \"Topic3\", \"Topic3\", \"Topic3\", \"Topic3\", \"Topic3\", \"Topic3\", \"Topic3\", \"Topic3\", \"Topic3\", \"Topic3\", \"Topic3\", \"Topic3\", \"Topic3\", \"Topic3\", \"Topic3\", \"Topic3\", \"Topic3\", \"Topic3\", \"Topic3\", \"Topic3\", \"Topic3\", \"Topic3\", \"Topic3\", \"Topic3\", \"Topic3\", \"Topic3\", \"Topic3\", \"Topic3\", \"Topic3\", \"Topic3\", \"Topic3\", \"Topic3\", \"Topic3\", \"Topic3\", \"Topic3\", \"Topic3\", \"Topic3\", \"Topic3\", \"Topic3\", \"Topic3\", \"Topic3\", \"Topic3\", \"Topic3\", \"Topic3\", \"Topic3\", \"Topic3\", \"Topic3\", \"Topic3\", \"Topic3\", \"Topic3\", \"Topic3\", \"Topic3\", \"Topic3\", \"Topic3\", \"Topic3\", \"Topic3\", \"Topic3\", \"Topic3\", \"Topic3\", \"Topic3\", \"Topic3\", \"Topic3\", \"Topic3\", \"Topic3\", \"Topic3\", \"Topic3\", \"Topic3\", \"Topic3\", \"Topic3\", \"Topic3\", \"Topic3\", \"Topic3\", \"Topic3\", \"Topic3\", \"Topic3\", \"Topic3\", \"Topic3\", \"Topic3\", \"Topic3\", \"Topic4\", \"Topic4\", \"Topic4\", \"Topic4\", \"Topic4\", \"Topic4\", \"Topic4\", \"Topic4\", \"Topic4\", \"Topic4\", \"Topic4\", \"Topic4\", \"Topic4\", \"Topic4\", \"Topic4\", \"Topic4\", \"Topic4\", \"Topic4\", \"Topic4\", \"Topic4\", \"Topic4\", \"Topic4\", \"Topic4\", \"Topic4\", \"Topic4\", \"Topic4\", \"Topic4\", \"Topic4\", \"Topic4\", \"Topic4\", \"Topic4\", \"Topic4\", \"Topic4\", \"Topic4\", \"Topic4\", \"Topic4\", \"Topic4\", \"Topic4\", \"Topic4\", \"Topic4\", \"Topic4\", \"Topic4\", \"Topic4\", \"Topic4\", \"Topic4\", \"Topic4\", \"Topic4\", \"Topic4\", \"Topic4\", \"Topic4\", \"Topic4\", \"Topic4\", \"Topic4\", \"Topic4\", \"Topic4\", \"Topic4\", \"Topic4\", \"Topic4\", \"Topic4\", \"Topic4\", \"Topic4\", \"Topic4\", \"Topic4\", \"Topic4\", \"Topic4\", \"Topic4\", \"Topic4\", \"Topic4\", \"Topic4\", \"Topic4\", \"Topic4\", \"Topic4\", \"Topic4\", \"Topic4\", \"Topic4\", \"Topic5\", \"Topic5\", \"Topic5\", \"Topic5\", \"Topic5\", \"Topic5\", \"Topic5\", \"Topic5\", \"Topic5\", \"Topic5\", \"Topic5\", \"Topic5\", \"Topic5\", \"Topic5\", \"Topic5\", \"Topic5\", \"Topic5\", \"Topic5\", \"Topic5\", \"Topic5\", \"Topic5\", \"Topic5\", \"Topic5\", \"Topic5\", \"Topic5\", \"Topic5\", \"Topic5\", \"Topic5\", \"Topic5\", \"Topic5\", \"Topic5\", \"Topic5\", \"Topic5\", \"Topic5\", \"Topic5\", \"Topic5\", \"Topic5\", \"Topic5\", \"Topic5\", \"Topic5\", \"Topic5\", \"Topic5\", \"Topic5\", \"Topic5\", \"Topic5\", \"Topic5\", \"Topic5\", \"Topic5\", \"Topic5\", \"Topic5\", \"Topic5\", \"Topic5\", \"Topic5\", \"Topic5\", \"Topic5\", \"Topic5\", \"Topic5\", \"Topic5\", \"Topic5\", \"Topic5\", \"Topic5\", \"Topic5\", \"Topic5\", \"Topic5\", \"Topic5\", \"Topic5\", \"Topic5\", \"Topic5\", \"Topic5\", \"Topic5\", \"Topic5\", \"Topic5\", \"Topic5\", \"Topic5\", \"Topic5\", \"Topic5\", \"Topic5\", \"Topic5\", \"Topic5\", \"Topic5\", \"Topic5\"], \"logprob\": [30.0, 29.0, 28.0, 27.0, 26.0, 25.0, 24.0, 23.0, 22.0, 21.0, 20.0, 19.0, 18.0, 17.0, 16.0, 15.0, 14.0, 13.0, 12.0, 11.0, 10.0, 9.0, 8.0, 7.0, 6.0, 5.0, 4.0, 3.0, 2.0, 1.0, -5.2507, -7.2167, -7.0073, -7.6193, -7.731, -7.8276, -7.8322, -7.8627, -7.8292, -7.9784, -7.943, -7.9921, -7.9677, -7.8871, -8.0521, -7.996, -8.0677, -8.0822, -8.1298, -8.1401, -8.1367, -8.1688, -8.1912, -7.1497, -8.2018, -8.1728, -8.2197, -5.7007, -8.1985, -8.0865, -6.1894, -6.6081, -7.7002, -7.9994, -7.6436, -6.7405, -8.0134, -7.508, -7.4185, -4.8796, -7.2204, -6.8471, -7.8491, -7.0645, -7.0759, -5.6581, -6.6328, -6.6813, -6.4659, -6.218, -6.6296, -5.4819, -5.5208, -6.7788, -5.7516, -5.6486, -5.7838, -5.9314, -5.7968, -5.7865, -6.4603, -5.9864, -5.3001, -5.4287, -4.9254, -5.8236, -5.556, -5.7455, -6.2354, -5.7284, -6.1864, -5.7373, -5.6837, -5.8269, -5.6948, -5.8623, -5.9974, -5.7778, -5.7569, -5.718, -5.6782, -5.7261, -5.4572, -5.6635, -5.6654, -5.1508, -7.121, -7.2309, -7.5518, -7.5392, -7.5568, -7.3502, -7.6232, -7.6742, -7.8683, -7.8773, -7.9949, -7.9307, -7.5617, -8.0942, -6.3838, -8.1102, -8.1121, -8.129, -7.8701, -8.1671, -8.1861, -8.1984, -8.2064, -8.2327, -8.24, -8.2333, -8.2506, -8.1893, -8.3052, -7.3325, -7.4367, -6.9354, -7.5289, -7.8145, -8.0157, -8.0757, -7.978, -6.0646, -6.1036, -7.8645, -7.4738, -7.3678, -6.8871, -7.7696, -6.1844, -6.8091, -7.2726, -6.8404, -6.7186, -6.7713, -6.8494, -7.2225, -7.4156, -6.5342, -7.0616, -6.5297, -6.3975, -6.3426, -6.3253, -5.9988, -6.0225, -6.5774, -6.788, -6.7346, -6.1082, -6.6089, -6.5233, -5.8047, -6.1869, -6.6451, -5.9696, -5.9724, -6.2793, -6.2682, -4.6109, -5.2236, -5.731, -5.416, -5.7272, -5.9405, -6.4667, -6.3108, -6.134, -5.9652, -5.381, -6.4187, -5.906, -6.2797, -6.3563, -6.0988, -6.1716, -6.2006, -6.1703, -6.2722, -6.24, -6.2373, -6.2568, -6.263, -6.0471, -6.8766, -7.3969, -7.4537, -7.5361, -7.5298, -7.7386, -7.7865, -7.7527, -7.8208, -7.814, -7.7736, -7.8122, -7.8582, -7.8909, -7.9092, -7.8194, -7.9285, -7.9577, -7.8707, -7.9485, -7.8951, -7.9794, -7.9919, -7.9248, -7.9992, -8.0722, -8.061, -8.1189, -8.0532, -7.3846, -7.7355, -6.6492, -7.6785, -6.6138, -7.5477, -6.1708, -7.4366, -6.849, -7.1996, -5.653, -6.9957, -6.3974, -6.4716, -7.5174, -5.9981, -4.8463, -7.421, -5.2918, -5.5692, -7.3786, -7.5351, -6.2822, -7.2185, -5.0397, -5.9769, -6.5931, -6.2189, -6.1574, -6.1626, -5.5161, -6.0026, -6.5706, -5.7503, -6.5084, -4.6045, -6.0767, -6.4728, -6.1647, -5.9827, -5.839, -5.2013, -5.4439, -5.9173, -6.1758, -6.1456, -5.7972, -6.1124, -5.9595, -6.0699, -6.1354, -6.153, -5.3379, -6.7357, -7.2014, -6.2488, -7.2421, -7.2612, -6.6985, -7.3282, -7.3712, -7.4945, -7.5164, -7.3122, -7.5493, -6.4216, -7.5144, -7.2449, -7.6734, -7.601, -7.7715, -7.773, -7.7905, -7.7895, -7.7543, -7.7624, -7.8001, -5.3127, -7.8476, -7.6339, -7.5554, -7.8881, -4.9064, -5.0373, -5.6197, -6.6232, -5.9663, -6.0, -7.127, -5.7387, -5.2342, -5.9033, -5.7146, -3.6504, -6.3936, -5.521, -6.9969, -7.0859, -4.0365, -5.2281, -6.4223, -6.9178, -4.8546, -6.4667, -6.7786, -4.9256, -5.2856, -5.2841, -5.2226, -5.092, -5.3135, -4.9584, -5.354, -5.7952, -4.4116, -5.1416, -5.6819, -5.2271, -5.3003, -5.1733, -5.4869, -5.3383, -5.4815, -4.87, -5.3605, -5.3381, -5.6076, -6.5895, -6.7989, -6.7326, -6.8551, -7.0996, -7.0806, -7.1603, -7.1956, -7.2383, -7.2723, -6.9556, -7.3079, -7.1987, -7.3689, -7.3459, -7.4454, -7.0314, -7.4967, -7.5131, -7.5149, -7.4814, -7.5311, -7.5644, -7.3942, -7.5722, -7.5753, -7.6021, -7.6123, -7.3385, -7.6869, -7.0116, -7.2349, -7.2712, -7.5338, -5.3627, -6.9998, -7.4509, -7.0627, -7.1909, -7.252, -6.8423, -4.9532, -5.7737, -6.5725, -6.0121, -6.9019, -6.108, -6.5645, -5.7613, -6.9764, -6.8264, -6.8863, -6.5554, -6.3302, -6.768, -6.2737, -6.4859, -6.4597, -5.5917, -5.597, -6.3619, -6.3173, -5.3211, -5.7558, -5.2815, -6.563, -5.7538, -5.9073, -6.1924, -6.1187, -6.4985, -6.0638, -6.2741, -6.0879, -6.3596, -6.0615, -6.3068, -6.4018, -6.4107, -6.455, -6.4681], \"loglift\": [30.0, 29.0, 28.0, 27.0, 26.0, 25.0, 24.0, 23.0, 22.0, 21.0, 20.0, 19.0, 18.0, 17.0, 16.0, 15.0, 14.0, 13.0, 12.0, 11.0, 10.0, 9.0, 8.0, 7.0, 6.0, 5.0, 4.0, 3.0, 2.0, 1.0, 1.3545, 1.3506, 1.3506, 1.3478, 1.3477, 1.3475, 1.3472, 1.3469, 1.3468, 1.3461, 1.3457, 1.3456, 1.3456, 1.3455, 1.3454, 1.3454, 1.3451, 1.3449, 1.3443, 1.3442, 1.3442, 1.3441, 1.3438, 1.3437, 1.3437, 1.3436, 1.3436, 1.3435, 1.3434, 1.3432, 1.3308, 1.3336, 1.3429, 1.3422, 1.3386, 1.3262, 1.342, 1.328, 1.3242, 1.2313, 1.3157, 1.2937, 1.3343, 1.2917, 1.2895, 1.1819, 1.2211, 1.2258, 1.1834, 1.1401, 1.1751, 0.9885, 0.9871, 1.1801, 1.0094, 0.9575, 0.9773, 0.9872, 0.9576, 0.9543, 1.0853, 0.9716, 0.7882, 0.8179, 0.6157, 0.8807, 0.7753, 0.8376, 1.0078, 0.7574, 0.9706, 0.7544, 0.7138, 0.7736, 0.6973, 0.7504, 0.8287, 0.6192, 0.5049, 0.4378, 0.3685, 0.3006, -0.3518, 0.1456, -0.7479, 1.3931, 1.3896, 1.3889, 1.3874, 1.3872, 1.3871, 1.387, 1.3867, 1.3866, 1.3852, 1.3848, 1.384, 1.3833, 1.3832, 1.383, 1.3829, 1.3828, 1.3827, 1.3825, 1.3823, 1.3822, 1.3819, 1.3818, 1.3816, 1.3813, 1.3812, 1.3811, 1.381, 1.3807, 1.3804, 1.3795, 1.3803, 1.3736, 1.3795, 1.3786, 1.3801, 1.3797, 1.3776, 1.3352, 1.3251, 1.3747, 1.3566, 1.352, 1.3314, 1.366, 1.2791, 1.3132, 1.3375, 1.3053, 1.2888, 1.289, 1.2874, 1.3237, 1.3394, 1.2513, 1.3039, 1.222, 1.2004, 1.1851, 1.1806, 1.119, 1.1041, 1.2008, 1.228, 1.2152, 1.0739, 1.1867, 1.1592, 0.9606, 1.0432, 1.1795, 0.9659, 0.9663, 1.0506, 1.0402, 0.3065, 0.5068, 0.6998, 0.5136, 0.6581, 0.7665, 1.0873, 0.981, 0.8257, 0.6694, -0.2755, 1.0165, 0.17, 0.7808, 0.8598, 0.057, 0.2205, 0.2707, 0.0786, 0.5922, -0.2133, -0.3006, -0.2101, -0.4539, 1.6043, 1.6016, 1.5994, 1.5989, 1.5982, 1.5971, 1.5962, 1.5961, 1.5959, 1.5958, 1.5958, 1.5958, 1.5956, 1.5953, 1.5948, 1.5947, 1.5945, 1.5945, 1.5944, 1.5944, 1.5943, 1.5943, 1.5942, 1.5939, 1.5936, 1.5933, 1.5926, 1.5926, 1.5923, 1.5921, 1.5912, 1.5917, 1.5736, 1.5886, 1.5617, 1.5832, 1.5342, 1.5758, 1.5486, 1.5572, 1.4171, 1.5223, 1.4598, 1.4635, 1.5603, 1.3929, 1.2528, 1.5478, 1.2774, 1.2883, 1.534, 1.5548, 1.331, 1.4923, 1.0458, 1.211, 1.3435, 1.2338, 1.2141, 1.2129, 1.0249, 1.1473, 1.3076, 1.0224, 1.1828, 0.313, 0.9683, 1.1524, 0.979, 0.8006, 0.5591, -0.0958, 0.0971, 0.5491, 0.8008, 0.681, -0.0668, 0.3837, -0.1504, 0.0859, 0.1795, 0.2445, 1.7312, 1.7279, 1.726, 1.7259, 1.7258, 1.7258, 1.7256, 1.7251, 1.725, 1.7241, 1.7238, 1.7234, 1.7232, 1.7231, 1.723, 1.7228, 1.7223, 1.7219, 1.7214, 1.7213, 1.7212, 1.7211, 1.7211, 1.7211, 1.721, 1.7205, 1.7204, 1.7203, 1.7201, 1.7196, 1.7163, 1.7163, 1.7106, 1.7182, 1.7072, 1.6934, 1.712, 1.6808, 1.6641, 1.6731, 1.6669, 1.5904, 1.681, 1.6423, 1.6968, 1.7, 1.4912, 1.5335, 1.6368, 1.6808, 1.4012, 1.6159, 1.6585, 1.3695, 1.4257, 1.4038, 1.3606, 1.3152, 1.3605, 1.2644, 1.3283, 1.4501, 0.6939, 0.9343, 1.2268, 0.9247, 0.9486, 0.7634, 1.0338, 0.834, 1.0145, 0.0474, 0.569, 0.471, 0.769, 2.1454, 2.1442, 2.1433, 2.1428, 2.1419, 2.1415, 2.1412, 2.141, 2.1407, 2.1402, 2.1402, 2.1395, 2.1394, 2.1387, 2.1385, 2.1384, 2.1378, 2.1376, 2.1375, 2.1375, 2.1373, 2.137, 2.1367, 2.1366, 2.1366, 2.1366, 2.1363, 2.1354, 2.1354, 2.135, 2.1339, 2.1303, 2.1304, 2.1342, 1.976, 2.0863, 2.1259, 2.0642, 2.0648, 2.0778, 1.9713, 1.3852, 1.622, 1.8303, 1.6199, 1.9456, 1.6335, 1.789, 1.4072, 1.9546, 1.8284, 1.8614, 1.5923, 1.4087, 1.7566, 1.3152, 1.5005, 1.383, 0.4351, 0.3396, 1.1928, 1.1132, -0.2157, 0.3325, -0.3641, 1.3904, -0.0235, 0.1919, 0.591, 0.2722, 1.1158, -0.017, 0.5011, -0.2788, 0.6334, -0.5205, -0.045, 0.0686, -0.1641, 0.1576, 0.1664]}, \"token.table\": {\"Topic\": [1, 2, 3, 4, 5, 1, 2, 3, 4, 5, 1, 2, 3, 4, 5, 1, 2, 3, 4, 5, 1, 2, 3, 4, 5, 1, 2, 3, 4, 5, 1, 2, 3, 4, 5, 1, 2, 3, 4, 5, 1, 2, 3, 4, 5, 1, 2, 3, 4, 5, 1, 2, 3, 4, 5, 1, 2, 3, 4, 5, 1, 2, 3, 4, 5, 1, 2, 3, 4, 5, 1, 2, 3, 4, 5, 1, 2, 3, 4, 5, 1, 2, 3, 4, 5, 1, 2, 3, 4, 5, 1, 2, 3, 4, 5, 1, 2, 3, 4, 5, 1, 2, 3, 4, 5, 1, 2, 3, 4, 5, 1, 2, 3, 4, 5, 1, 2, 3, 4, 5, 1, 2, 3, 4, 5, 1, 2, 3, 4, 5, 1, 2, 3, 4, 5, 1, 2, 3, 4, 5, 1, 2, 3, 4, 5, 1, 2, 3, 4, 5, 1, 2, 3, 4, 5, 1, 2, 3, 4, 5, 1, 2, 3, 4, 5, 1, 2, 3, 4, 5, 1, 2, 3, 4, 5, 1, 2, 3, 4, 5, 1, 2, 3, 4, 5, 1, 2, 3, 4, 5, 1, 2, 3, 4, 5, 1, 2, 3, 4, 5, 1, 2, 3, 4, 5, 1, 2, 3, 4, 5, 1, 2, 3, 4, 5, 1, 2, 3, 4, 5, 1, 2, 3, 4, 5, 1, 2, 3, 4, 5, 1, 2, 3, 4, 5, 1, 2, 3, 4, 5, 1, 2, 3, 4, 5, 1, 2, 3, 4, 5, 1, 2, 3, 4, 5, 1, 2, 3, 4, 5, 1, 2, 3, 4, 5, 1, 2, 3, 4, 5, 1, 2, 3, 4, 5, 1, 2, 3, 4, 5, 1, 2, 3, 4, 5, 1, 2, 3, 4, 5, 1, 2, 3, 4, 5, 1, 2, 3, 4, 5, 1, 2, 3, 4, 5, 1, 2, 3, 4, 5, 1, 2, 3, 4, 5, 1, 2, 3, 4, 5, 1, 2, 3, 4, 5, 1, 2, 3, 4, 5, 1, 2, 3, 4, 5, 1, 2, 3, 4, 5, 1, 2, 3, 4, 5, 1, 2, 3, 4, 5, 1, 2, 3, 4, 5, 1, 2, 3, 4, 5, 1, 2, 3, 4, 5, 1, 2, 3, 4, 5, 1, 2, 3, 4, 5, 1, 2, 3, 4, 5, 1, 2, 3, 4, 5, 1, 2, 3, 4, 5, 1, 2, 3, 4, 5, 1, 2, 3, 4, 5, 1, 2, 3, 4, 5, 1, 2, 3, 4, 5, 1, 2, 3, 4, 5, 1, 2, 3, 4, 5, 1, 2, 3, 4, 5, 1, 2, 3, 4, 5, 1, 2, 3, 4, 5, 1, 2, 3, 4, 5, 1, 2, 3, 4, 5, 1, 2, 3, 4, 5, 1, 2, 3, 4, 5, 1, 2, 3, 4, 5, 1, 2, 3, 4, 5, 1, 2, 3, 4, 5, 1, 2, 3, 4, 5, 1, 2, 3, 4, 5, 1, 2, 3, 4, 5, 1, 2, 3, 4, 5, 1, 2, 3, 4, 5, 1, 2, 3, 4, 5, 1, 2, 3, 4, 5, 1, 2, 3, 4, 5, 1, 2, 3, 4, 5, 1, 2, 3, 4, 5, 1, 2, 3, 4, 5, 1, 2, 3, 4, 5, 1, 2, 3, 4, 5, 1, 2, 3, 4, 5, 1, 2, 3, 4, 5, 1, 2, 3, 4, 5, 1, 2, 3, 4, 5, 1, 2, 3, 4, 5, 1, 2, 3, 4, 5, 1, 2, 3, 4, 5, 1, 2, 3, 4, 5, 1, 2, 3, 4, 5, 1, 2, 3, 4, 5, 1, 2, 3, 4, 5, 1, 2, 3, 4, 5, 1, 2, 3, 4, 5, 1, 2, 3, 4, 5, 1, 2, 3, 4, 5, 1, 2, 3, 4, 5, 1, 2, 3, 4, 5, 1, 2, 3, 4, 5, 1, 2, 3, 4, 5, 1, 2, 3, 4, 5, 1, 2, 3, 4, 5, 1, 2, 3, 4, 5, 1, 2, 3, 4, 5, 1, 2, 3, 4, 5, 1, 2, 3, 4, 5, 1, 2, 3, 4, 5, 1, 2, 3, 4, 5, 1, 2, 3, 4, 5, 1, 2, 3, 4, 5, 1, 2, 3, 4, 5, 1, 2, 3, 4, 5, 1, 2, 3, 4, 5, 1, 2, 3, 4, 5, 1, 2, 3, 4, 5, 1, 2, 3, 4, 5, 1, 2, 3, 4, 5, 1, 2, 3, 4, 5, 1, 2, 3, 4, 5, 1, 2, 3, 4, 5, 1, 2, 3, 4, 5, 1, 2, 3, 4, 5, 1, 2, 3, 4, 5, 1, 2, 3, 4, 5, 1, 2, 3, 4, 5, 1, 2, 3, 4, 5, 1, 2, 3, 4, 5, 1, 2, 3, 4, 5, 1, 2, 3, 4, 5, 1, 2, 3, 4, 5, 1, 2, 3, 4, 5, 1, 2, 3, 4, 5, 1, 2, 3, 4, 5, 1, 2, 3, 4, 5, 1, 2, 3, 4, 5, 1, 2, 3, 4, 5, 1, 2, 3, 4, 5, 1, 2, 3, 4, 5, 1, 2, 3, 4, 5, 1, 2, 3, 4, 5, 1, 2, 3, 4, 5, 1, 2, 3, 4, 5, 1, 2, 3, 4, 5, 1, 2, 3, 4, 5, 1, 2, 3, 4, 5, 1, 2, 3, 4, 5, 1, 2, 3, 4, 5, 1, 2, 3, 4, 5, 1, 2, 3, 4, 5, 1, 2, 3, 4, 5, 1, 2, 3, 4, 5, 1, 2, 3, 4, 5, 1, 2, 3, 4, 5, 1, 2, 3, 4, 5, 1, 2, 3, 4, 5, 1, 2, 3, 4, 5, 1, 2, 3, 4, 5, 1, 2, 3, 4, 5, 1, 2, 3, 4, 5, 1, 2, 3, 4, 5, 1, 2, 3, 4, 5, 1, 2, 3, 4, 5, 1, 2, 3, 4, 5, 1, 2, 3, 4, 5, 1, 2, 3, 4, 5, 1, 2, 3, 4, 5, 1, 2, 3, 4, 5, 1, 2, 3, 4, 5, 1, 2, 3, 4, 5, 1, 2, 3, 4, 5, 1, 2, 3, 4, 5, 1, 2, 3, 4, 5, 1, 2, 3, 4, 5, 1, 2, 3, 4, 5, 1, 2, 3, 4, 5, 1, 2, 3, 4, 5, 1, 2, 3, 4, 5, 1, 2, 3, 4, 5, 1, 2, 3, 4, 5, 1, 2, 3, 4, 5, 1, 2, 3, 4, 5, 1, 2, 3, 4, 5, 1, 2, 3, 4, 5, 1, 2, 3, 4, 5, 1, 2, 3, 4, 5, 1, 2, 3, 4, 5, 1, 2, 3, 4, 5, 1, 2, 3, 4, 5, 1, 2, 3, 4, 5, 1, 2, 3, 4, 5, 1, 2, 3, 4, 5, 1, 2, 3, 4, 5, 1, 2, 3, 4, 5, 1, 2, 3, 4, 5, 1, 2, 3, 4, 5, 1, 2, 3, 4, 5, 1, 2, 3, 4, 5, 1, 2, 3, 4, 5, 1, 2, 3, 4, 5, 1, 2, 3, 4, 5, 1, 2, 3, 4, 5, 1, 2, 3, 4, 5, 1, 2, 3, 4, 5, 1, 2, 3, 4, 5, 1, 2, 3, 4, 5, 1, 2, 3, 4, 5, 1, 2, 3, 4, 5, 1, 2, 3, 4, 5, 1, 2, 3, 4, 5, 1, 2, 3, 4, 5, 1, 2, 3, 4, 5, 1, 2, 3, 4, 5, 1, 2, 3, 4, 5, 1, 2, 3, 4, 5, 1, 2, 3, 4, 5, 1, 2, 3, 4, 5, 1, 2, 3, 4, 5, 1, 2, 3, 4, 5, 1, 2, 3, 4, 5, 1, 2, 3, 4, 5, 1, 2, 3, 4, 5, 1, 2, 3, 4, 5, 1, 2, 3, 4, 5, 1, 2, 3, 4, 5, 1, 2, 3, 4, 5, 1, 2, 3, 4, 5, 1, 2, 3, 4, 5, 1, 2, 3, 4, 5, 1, 2, 3, 4, 5, 1, 2, 3, 4, 5, 1, 2, 3, 4, 5, 1, 2, 3, 4, 5, 1, 2, 3, 4, 5, 1, 2, 3, 4, 5, 1, 2, 3, 4, 5, 1, 2, 3, 4, 5, 1, 2, 3, 4, 5, 1, 2, 3, 4, 5, 1, 2, 3, 4, 5, 1, 2, 3, 4, 5, 1, 2, 3, 4, 5, 1, 2, 3, 4, 5, 1, 2, 3, 4, 5, 1, 2, 3, 4, 5, 1, 2, 3, 4, 5, 1, 2, 3, 4, 5, 1, 2, 3, 4, 5, 1, 2, 3, 4, 5, 1, 2, 3, 4, 5, 1, 2, 3, 4, 5, 1, 2, 3, 4, 5, 1, 2, 3, 4, 5, 1, 2, 3, 4, 5, 1, 2, 3, 4, 5, 1, 2, 3, 4, 5, 1, 2, 3, 4, 5, 1, 2, 3, 4, 5, 1, 2, 3, 4, 5, 1, 2, 3, 4, 5, 1, 2, 3, 4, 5, 1, 2, 3, 4, 5, 1, 2, 3, 4, 5, 1, 2, 3, 4, 5, 1, 2, 3, 4, 5, 1, 2, 3, 4, 5, 1, 2, 3, 4, 5, 1, 2, 3, 4, 5, 1, 2, 3, 4, 5, 1, 2, 3, 4, 5, 1, 2, 3, 4, 5, 1, 2, 3, 4, 5, 1, 2, 3, 4, 5, 1, 2, 3, 4, 5, 1, 2, 3, 4, 5, 1, 2, 3, 4, 5, 1, 2, 3, 4, 5, 1, 2, 3, 4, 5, 1, 2, 3, 4, 5, 1, 2, 3, 4, 5, 1, 2, 3, 4, 5, 1, 2, 3, 4, 5, 1, 2, 3, 4, 5, 1, 2, 3, 4, 5, 1, 2, 3, 4, 5, 1, 2, 3, 4, 5, 1, 2, 3, 4, 5, 1, 2, 3, 4, 5, 1, 2, 3, 4, 5, 1, 2, 3, 4, 5, 1, 2, 3, 4, 5, 1, 2, 3, 4, 5, 1, 2, 3, 4, 5, 1, 2, 3, 4, 5, 1, 2, 3, 4, 5, 1, 2, 3, 4, 5, 1, 2, 3, 4, 5, 1, 2, 3, 4, 5, 1, 2, 3, 4, 5, 1, 2, 3, 4, 5, 1, 2, 3, 4, 5, 1, 2, 3, 4, 5, 1, 2, 3, 4, 5, 1, 2, 3, 4, 5, 1, 2, 3, 4, 5, 1, 2, 3, 4, 5, 1, 2, 3, 4, 5, 1, 2, 3, 4, 5, 1, 2, 3, 4, 5, 1, 2, 3, 4, 5, 1, 2, 3, 4, 5, 1, 2, 3, 4, 5, 1, 2, 3, 4, 5, 1, 2, 3, 4, 5, 1, 2, 3, 4, 5, 1, 2, 3, 4, 5, 1, 2, 3, 4, 5, 1, 2, 3, 4, 5, 1, 2, 3, 4, 5, 1, 2, 3, 4, 5, 1, 2, 3, 4, 5, 1, 2, 3, 4, 5, 1, 2, 3, 4, 5, 1, 2, 3, 4, 5, 1, 2, 3, 4, 5, 1, 2, 3, 4, 5, 1, 2, 3, 4, 5, 1, 2, 3, 4, 5, 1, 2, 3, 4, 5, 1, 2, 3, 4, 5, 1, 2, 3, 4, 5, 1, 2, 3, 4, 5, 1, 2, 3, 4, 5, 1, 2, 3, 4, 5, 1, 2, 3, 4, 5, 1, 2, 3, 4, 5, 1, 2, 3, 4, 5, 1, 2, 3, 4, 5, 1, 2, 3, 4, 5, 1, 2, 3, 4, 5, 1, 2, 3, 4, 5, 1, 2, 3, 4, 5, 1, 2, 3, 4, 5, 1, 2, 3, 4, 5, 1, 2, 3, 4, 5, 1, 2, 3, 4, 5, 1, 2, 3, 4, 5, 1, 2, 3, 4, 5, 1, 2, 3, 4, 5, 1, 2, 3, 4, 5, 1, 2, 3, 4, 5, 1, 2, 3, 4, 5, 1, 2, 3, 4, 5, 1, 2, 3, 4, 5, 1, 2, 3, 4, 5, 1, 2, 3, 4, 5, 1, 2, 3, 4, 5, 1, 2, 3, 4, 5, 1, 2, 3, 4, 5], \"Freq\": [0.839347812797952, 0.015018151720042878, 0.09177759384470648, 0.006674734097796835, 0.04672313868457784, 0.030379106259261084, 0.791122558834924, 0.13987046840201456, 0.015189553129630542, 0.023417227741513752, 0.003278048036563467, 0.003278048036563467, 0.9866924590056037, 0.003278048036563467, 0.006556096073126934, 0.009345111304195911, 0.010235121904595522, 0.0008900106003996106, 0.9785666551393718, 0.0004450053001998053, 0.0042383197267363655, 0.0008476639453472731, 0.0008476639453472731, 0.993462143947004, 0.0008476639453472731, 0.0035751839487406884, 0.0035751839487406884, 0.9867507698524299, 0.0035751839487406884, 0.0035751839487406884, 0.14104435075186875, 0.10159974418566817, 0.6352972239374427, 0.04721399876863403, 0.07470569425416777, 0.0025113352083068786, 0.9919774072812171, 0.0025113352083068786, 0.0025113352083068786, 0.0025113352083068786, 0.003979075618705847, 0.003979075618705847, 0.003979075618705847, 0.9907898290577559, 0.003979075618705847, 0.0036967639680562363, 0.0036967639680562363, 0.0036967639680562363, 0.0036967639680562363, 0.9870359794710152, 0.27399580035305005, 0.052805120553215845, 0.5339594707688818, 0.08603911250978526, 0.05317438713051106, 0.2184676091068384, 0.06325657877006514, 0.5592043241430359, 0.09842157783074033, 0.060427211029551044, 0.0022326821093333624, 0.0022326821093333624, 0.0022326821093333624, 0.0022326821093333624, 0.9935435386533463, 0.004170404702605659, 0.9883859145175413, 0.004170404702605659, 0.004170404702605659, 0.004170404702605659, 0.008599614295635669, 0.9860891058995568, 0.0028665380985452233, 0.0028665380985452233, 0.0028665380985452233, 0.039591752872995746, 0.9430469328905132, 0.0019080362830359396, 0.014787281193528533, 0.0004770090707589849, 0.9878423912415719, 0.004150598282527613, 0.004150598282527613, 0.004150598282527613, 0.004150598282527613, 0.015957124216065828, 0.9634113745449744, 0.0019946405270082285, 0.0059839215810246855, 0.0139624836890576, 0.00043536818455455057, 0.7022488816864901, 0.2969211018662035, 0.00043536818455455057, 0.00043536818455455057, 0.9902235280350742, 0.003960894112140297, 0.003960894112140297, 0.003960894112140297, 0.003960894112140297, 0.9896444153742335, 0.0038358310673419905, 0.0038358310673419905, 0.0038358310673419905, 0.0038358310673419905, 0.0023545036241988436, 0.0023545036241988436, 0.9936005294119119, 0.0023545036241988436, 0.0023545036241988436, 0.09983814923963467, 0.7041004960488751, 0.08454036830775517, 0.07568375829456177, 0.03582901323519148, 0.0009223462927092984, 0.037816198001081235, 0.046117314635464916, 0.9094334446113682, 0.006456424048965089, 0.0015818696165807533, 0.0474560884974226, 0.0015818696165807533, 0.949121769948452, 0.0015818696165807533, 0.9886017968444699, 0.004035109374875387, 0.004035109374875387, 0.004035109374875387, 0.004035109374875387, 0.0024910022341558657, 0.0024910022341558657, 0.9939098914281904, 0.0024910022341558657, 0.0024910022341558657, 0.12618762852022225, 0.09417297482645912, 0.7199139333863751, 0.015175777400290321, 0.044280008030984086, 0.026758970649154126, 0.11938617674237995, 0.8278127714924218, 0.0037737009889832742, 0.021956078481357232, 0.0022886629265138686, 0.0022886629265138686, 0.0022886629265138686, 0.9932797101070189, 0.0022886629265138686, 0.00300887988202179, 0.00300887988202179, 0.00300887988202179, 0.00300887988202179, 0.989921481185169, 0.004991562162247043, 0.004991562162247043, 0.004991562162247043, 0.004991562162247043, 0.9833377459626675, 0.0027334839302528622, 0.0027334839302528622, 0.010933935721011449, 0.0027334839302528622, 0.9840542148910305, 0.003570122856500181, 0.003570122856500181, 0.003570122856500181, 0.003570122856500181, 0.9889240312505502, 0.009596657475663833, 0.017273983456194898, 0.0006397771650442555, 0.9622248562265603, 0.010876211805752344, 0.9909096865797038, 0.0037965888374701293, 0.0037965888374701293, 0.0037965888374701293, 0.0037965888374701293, 0.002358168532777339, 0.002358168532777339, 0.002358168532777339, 0.002358168532777339, 0.9927889522992597, 0.003968891242598751, 0.003968891242598751, 0.9882539194070892, 0.003968891242598751, 0.003968891242598751, 0.9901117677507472, 0.0029822643606950217, 0.0029822643606950217, 0.0029822643606950217, 0.0029822643606950217, 0.9359212642173924, 0.0012529066455386779, 0.04259882594831505, 0.0012529066455386779, 0.01879359968308017, 0.11330526936754268, 0.6484703362910256, 0.10951156615211156, 0.03515498312966168, 0.09357801264730088, 0.0021956626479079744, 0.9924395168544045, 0.0021956626479079744, 0.0021956626479079744, 0.0021956626479079744, 0.9924830029176184, 0.0028275869028991977, 0.0028275869028991977, 0.0028275869028991977, 0.0028275869028991977, 0.05529171487330698, 0.03629207181425229, 0.01822864305086117, 0.8678155806509676, 0.022359000237612187, 0.0042456117873796596, 0.0042456117873796596, 0.9892275464594606, 0.0042456117873796596, 0.0042456117873796596, 0.0027991990001036927, 0.0027991990001036927, 0.005598398000207385, 0.0027991990001036927, 0.9881172470366035, 0.005375737183131964, 0.005375737183131964, 0.005375737183131964, 0.005375737183131964, 0.9837599045131493, 0.04606427290713853, 0.8128572465305829, 0.07866360450295963, 0.00708681121648285, 0.05527712748856623, 0.0032349177608540537, 0.9898848348213405, 0.0032349177608540537, 0.0032349177608540537, 0.0032349177608540537, 0.0869429927194464, 0.5665119384263575, 0.21228836738211115, 0.06021493488696641, 0.07373257333097928, 0.13365444597644457, 0.06695598449687012, 0.44680243500796024, 0.14241022856449684, 0.2101387821132539, 0.004207419117921967, 0.004207419117921967, 0.0126222573537659, 0.004207419117921967, 0.9761212353578963, 0.9900600511460345, 0.003822625680100519, 0.003822625680100519, 0.003822625680100519, 0.003822625680100519, 0.0023866672992213464, 0.9928535964760801, 0.0023866672992213464, 0.0023866672992213464, 0.0023866672992213464, 0.02014401697537212, 0.9003499761166321, 0.012261575550226509, 0.047294648550873675, 0.01926819015035594, 0.003195015590765542, 0.003195015590765542, 0.003195015590765542, 0.003195015590765542, 0.990454833137318, 0.0027064405769681257, 0.9716121671315572, 0.005412881153936251, 0.01894508403877688, 0.0027064405769681257, 0.1532196507038949, 0.6518581617030675, 0.057869652809885944, 0.09624952617602792, 0.04077861545152585, 0.004594566144751922, 0.004594566144751922, 0.9878317211216633, 0.004594566144751922, 0.004594566144751922, 0.004959294097739914, 0.004298054884707925, 0.001653098032579971, 0.9882220038763068, 0.0006612392130319884, 0.0013459620984549044, 0.0013459620984549044, 0.0013459620984549044, 0.928713847933884, 0.06729810492274522, 0.05076351929359827, 0.001238134616917031, 0.24638878876648918, 0.004952538467668124, 0.6958316547073714, 0.2405535282083676, 0.0018362864748730351, 0.0018362864748730351, 0.0073451458994921405, 0.7492048817481983, 0.18142479539552625, 0.18839897231290464, 0.18233865306056204, 0.3540476985436025, 0.09379065509577841, 0.0013286849166194998, 0.0013286849166194998, 0.0013286849166194998, 0.9938563176313858, 0.0013286849166194998, 0.011446052179784972, 0.005723026089892486, 0.011446052179784972, 0.9690990845551276, 0.0019076753632974953, 0.004812770308621844, 0.004812770308621844, 0.986617913267478, 0.004812770308621844, 0.004812770308621844, 0.28197390286533086, 0.15074076568272404, 0.24021790467086507, 0.25698479197675095, 0.0701307305582727, 0.02621654196111979, 0.2378214877901581, 0.01006527950292992, 0.7200185988607543, 0.005851906687749953, 0.29834182991357583, 0.15757970227758436, 0.1726474714651387, 0.28337127214013474, 0.08807354118660791, 0.9920468271689796, 0.0025568217195076795, 0.0025568217195076795, 0.0025568217195076795, 0.0025568217195076795, 0.0006134712771439371, 0.0006134712771439371, 0.9981177679131857, 0.0006134712771439371, 0.0006134712771439371, 0.006173330902009791, 0.0030866654510048955, 0.9815596134195568, 0.006173330902009791, 0.0030866654510048955, 0.9891847953289834, 0.003571064243064922, 0.003571064243064922, 0.003571064243064922, 0.003571064243064922, 0.0029406272636517137, 0.0029406272636517137, 0.0029406272636517137, 0.9909913878506275, 0.0029406272636517137, 0.03275773794689212, 0.07912253627172405, 0.009071373585293203, 0.8196993964710775, 0.05896392830440582, 0.002234408956004962, 0.9943119854222081, 0.002234408956004962, 0.002234408956004962, 0.002234408956004962, 0.8423557275692898, 0.0012243542551879213, 0.03060885637969803, 0.12488413402916797, 0.0006121771275939607, 0.9906662305110833, 0.003946877412394754, 0.003946877412394754, 0.003946877412394754, 0.003946877412394754, 0.10520419468359658, 0.0074831435549001755, 0.0818743941889078, 0.7858034374170174, 0.019588228717238695, 0.1854188418538745, 0.021848717033736805, 0.7593905433887982, 0.012991129047086748, 0.020667705302183464, 0.9905337831597714, 0.0032690883932665724, 0.0032690883932665724, 0.0032690883932665724, 0.0032690883932665724, 0.0033724848858526254, 0.9847655866689666, 0.0033724848858526254, 0.006744969771705251, 0.0033724848858526254, 0.0014024650616173342, 0.0014024650616173342, 0.9957501937483073, 0.0014024650616173342, 0.0014024650616173342, 0.0009825047971061796, 0.9225720044827027, 0.011790057565274155, 0.022597610333442132, 0.042247706275565726, 0.002703146566269973, 0.002703146566269973, 0.9920547898210802, 0.002703146566269973, 0.002703146566269973, 0.0037958086937076975, 0.0037958086937076975, 0.0037958086937076975, 0.0037958086937076975, 0.9831144516702937, 0.015698226671642553, 0.9003394708736171, 0.05078838040825532, 0.004617125491659575, 0.02770275294995745, 0.004398353542387153, 0.9896295470371095, 0.004398353542387153, 0.004398353542387153, 0.004398353542387153, 0.9712108780070553, 0.021375933200155284, 0.001858776800013503, 0.004646942000033757, 0.001858776800013503, 0.8352589340313169, 0.12157022156277729, 0.028604758014771126, 0.005005832652584947, 0.010011665305169894, 0.0002919281051907733, 0.06218068640563471, 0.33425768044343546, 0.6034153934293284, 0.0002919281051907733, 0.0003765560376145422, 0.0003765560376145422, 0.0003765560376145422, 0.9139015032904939, 0.08510166450088653, 0.0043876860603590945, 0.0043876860603590945, 0.0043876860603590945, 0.0043876860603590945, 0.9872293635807963, 0.003103617690731475, 0.003103617690731475, 0.003103617690731475, 0.9900540433433406, 0.003103617690731475, 0.004444514778585345, 0.9866822808459466, 0.004444514778585345, 0.004444514778585345, 0.004444514778585345, 0.027361458771738473, 0.867147770304327, 0.055424493409418955, 0.01683782078260829, 0.03297406569927457, 0.0018171837721855427, 0.9939995233854919, 0.0018171837721855427, 0.0018171837721855427, 0.0018171837721855427, 0.0006885194839245652, 0.9894024983996003, 0.0013770389678491304, 0.003442597419622826, 0.005508155871396522, 0.8743725763783561, 0.01277004621858424, 0.08112735244747635, 0.006009433514627877, 0.02554009243716848, 0.989263119100905, 0.0032328860101336764, 0.0032328860101336764, 0.0032328860101336764, 0.0032328860101336764, 0.003801623190787476, 0.003801623190787476, 0.003801623190787476, 0.9884220296047439, 0.003801623190787476, 0.5462669428628493, 0.07490544327809341, 0.1906289252120754, 0.05189101722743283, 0.1363496184888193, 0.6923117754884781, 0.1208891941866593, 0.10260838921209131, 0.012678622804942316, 0.071648961432581, 0.0017719915287610505, 0.9852272899911441, 0.008859957643805252, 0.0017719915287610505, 0.0017719915287610505, 0.007453173083033529, 0.9875454335019427, 0.0037265865415167646, 0.0037265865415167646, 0.0037265865415167646, 0.004093245126946751, 0.986472075594167, 0.004093245126946751, 0.004093245126946751, 0.004093245126946751, 0.0030451631163582525, 0.9927231759327904, 0.0030451631163582525, 0.0030451631163582525, 0.0030451631163582525, 0.19725849003268153, 0.015437620959079423, 0.2478595809541085, 0.017152912176754916, 0.5223061757821872, 0.0022236632188920593, 0.9939774588447504, 0.0022236632188920593, 0.0022236632188920593, 0.0022236632188920593, 0.002682826217101821, 0.002682826217101821, 0.9899628741105719, 0.002682826217101821, 0.002682826217101821, 0.005023540396060705, 0.001004708079212141, 0.001004708079212141, 0.990642166103171, 0.001004708079212141, 0.20117717510964134, 0.01760300282209362, 0.6890318247505216, 0.025147146888705167, 0.06689141072395574, 0.30900666991629067, 0.06833801353917968, 0.14930370349320776, 0.008913653939893, 0.4642528093694271, 0.15054822374146312, 0.1924836621095587, 0.18367722005225862, 0.4073328913487683, 0.06611820782703069, 0.002492547554841484, 0.002492547554841484, 0.002492547554841484, 0.9920339268269106, 0.002492547554841484, 0.004179095061474171, 0.9862664345079043, 0.004179095061474171, 0.004179095061474171, 0.004179095061474171, 0.005201592356751521, 0.0026007961783757606, 0.0026007961783757606, 0.0026007961783757606, 0.988302547782789, 0.010040271434028008, 0.0016733785723380013, 0.2627204358570662, 0.0016733785723380013, 0.7245729218223546, 0.16412097076278065, 0.5416331830142285, 0.1165496748895109, 0.08426915268979214, 0.09310382192339937, 0.15707575779215854, 0.00044878787940616727, 0.0022439393970308365, 0.00044878787940616727, 0.8396821223689389, 0.04930008235708301, 0.0032866721571388675, 0.016433360785694337, 0.0032866721571388675, 0.9301282204702994, 0.4795067341150252, 0.0005763302092728668, 0.08183888971674709, 0.004610641674182935, 0.43340031737319584, 0.17852857958571886, 0.30148866088979015, 0.15133548468193386, 0.013596547451892496, 0.3552836964603213, 0.0014594500583708448, 0.02772955110904605, 0.9194535367736322, 0.0014594500583708448, 0.04962130198460872, 0.003560251380914118, 0.003560251380914118, 0.9897498838941248, 0.003560251380914118, 0.003560251380914118, 0.6222429108991477, 0.11350281778160362, 0.1491955277758186, 0.054490870591168195, 0.06067760699016545, 0.004472950528226895, 0.9885220667381439, 0.0022364752641134476, 0.0022364752641134476, 0.0022364752641134476, 0.6921552475848674, 0.0656960912961908, 0.13178323075485893, 0.024831558317310216, 0.08563954758253445, 0.32762164828625634, 0.0909418278114495, 0.0793884195595412, 0.03697090640610651, 0.4651072064839649, 0.17913986205253324, 0.2734931087671136, 0.34758760668412997, 0.0840362913084135, 0.11573748155645341, 0.0012530113536656801, 0.9134452768222808, 0.07016863580527809, 0.0050120454146627205, 0.008771079475659761, 0.003937882441188298, 0.003937882441188298, 0.003937882441188298, 0.9884084927382628, 0.003937882441188298, 0.004066661605036292, 0.004066661605036292, 0.988198770023819, 0.004066661605036292, 0.004066661605036292, 0.004945374568343645, 0.004945374568343645, 0.004945374568343645, 0.004945374568343645, 0.9841295391003855, 0.002693834102624067, 0.0161630046157444, 0.9778617792525364, 0.002693834102624067, 0.002693834102624067, 0.806664245618395, 0.03202864276420173, 0.11164269763521746, 0.011438800987214904, 0.038434371317042075, 0.29329508733303633, 0.10780938141693801, 0.11986260418404909, 0.002678493948246907, 0.4761022993008877, 0.10680338452801522, 0.41471293663752934, 0.1139309204564762, 0.3125150368632889, 0.05208583947721481, 0.0020118246423052044, 0.0020118246423052044, 0.0020118246423052044, 0.9797586008026345, 0.016094597138441635, 0.29870881950105876, 0.47911026636822973, 0.12609075241243303, 0.01522083156693293, 0.0807741857017918, 0.003832568881479106, 0.003832568881479106, 0.003832568881479106, 0.9888027714216094, 0.003832568881479106, 0.039274560621925116, 0.0056919653075253795, 0.009676341022793144, 0.9425894549262028, 0.0028459826537626898, 0.4539296076037152, 0.000829853030354141, 0.064728536367623, 0.013277648485666257, 0.4672072560893814, 0.5484823059502058, 0.21104352494822018, 0.07118149884306424, 0.12678002091237658, 0.042708899305838544, 0.9727758088143179, 0.0020057233171429235, 0.014040063220000464, 0.0020057233171429235, 0.008022893268571694, 0.003452119601429473, 0.003452119601429473, 0.003452119601429473, 0.003452119601429473, 0.9907583256102588, 0.46943256993559707, 0.13435045810741378, 0.12450444344705958, 0.052406207063175586, 0.2191532295369161, 0.0029511111775632048, 0.0029511111775632048, 0.0029511111775632048, 0.0029511111775632048, 0.9915733556612368, 0.015052647522245008, 0.0006271936467602087, 0.005644742820841878, 0.9752861207121245, 0.003763161880561252, 0.19059321219148903, 0.13597878296702726, 0.6319669667402005, 0.015232595906142399, 0.026006871059267512, 0.003941337726828837, 0.9892757694340382, 0.003941337726828837, 0.003941337726828837, 0.003941337726828837, 0.0034518819730278137, 0.9906901262589826, 0.0034518819730278137, 0.0034518819730278137, 0.0034518819730278137, 0.0284249536740818, 0.7595579393162871, 0.04353695436156833, 0.01799047700891253, 0.1500405782543305, 0.00900697431053253, 0.9322218411401167, 0.030023247701775096, 0.004503487155266265, 0.024018598161420077, 0.2838501781051271, 0.5863590392465352, 0.07304675912075997, 0.019452669548463253, 0.037714359328653246, 0.004366811543640499, 0.9868994088627528, 0.004366811543640499, 0.004366811543640499, 0.004366811543640499, 0.004368618006192489, 0.9873076693995024, 0.004368618006192489, 0.004368618006192489, 0.004368618006192489, 0.1521894645737644, 0.0022056444141125273, 0.00882257765645011, 0.01543951089878769, 0.8227053664639726, 0.017225498918505493, 0.1606161385644431, 0.10847408778410216, 0.667604471598294, 0.0460898484576228, 0.003926211657674338, 0.003926211657674338, 0.003926211657674338, 0.003926211657674338, 0.9894053377339334, 0.1170404089575236, 0.08472155835781293, 0.06810043519224745, 0.6895457624381124, 0.0406294121824934, 0.08633550547818755, 0.7263693860898179, 0.03952247584112586, 0.10206775314310172, 0.04566188956401919, 0.004018419141941838, 0.004018419141941838, 0.004018419141941838, 0.004018419141941838, 0.9845126897757505, 0.04805418411527391, 0.8245819419200624, 0.021589560979325958, 0.018107373724595966, 0.08775111881919584, 0.0038083683180682257, 0.9901757626977388, 0.0038083683180682257, 0.0038083683180682257, 0.0038083683180682257, 0.004254499802392638, 0.987043954155092, 0.004254499802392638, 0.004254499802392638, 0.004254499802392638, 0.0035107889126473114, 0.9865316844538945, 0.0035107889126473114, 0.007021577825294623, 0.0035107889126473114, 0.004815860282971475, 0.004815860282971475, 0.004815860282971475, 0.004815860282971475, 0.9872513580091524, 0.9882096470543386, 0.0014239332090120152, 0.0028478664180240304, 0.0014239332090120152, 0.007119666045060076, 0.0007537298009935323, 0.021104434427818904, 0.8637743519385881, 0.017335785422851243, 0.09723114432816567, 0.06372783399301407, 0.14046134839276572, 0.06112669791166656, 0.009103976284716295, 0.7257169666959562, 0.037825425799006225, 0.15786325665095455, 0.6735241634618966, 0.1289152267027355, 0.0015438949305716825, 0.012710618808603491, 0.8917770156116209, 0.04728350196800499, 0.002542123761720698, 0.04524980295862843, 0.3154256548922775, 0.0010077496961414616, 0.10682146779099493, 0.005038748480707308, 0.5724018274083502, 0.0042367023823037175, 0.0042367023823037175, 0.0042367023823037175, 0.0042367023823037175, 0.987151655076766, 0.9888546581156333, 0.0036221782348558, 0.0036221782348558, 0.0036221782348558, 0.0036221782348558, 0.6698099570270871, 0.15893795590473253, 0.10538277511074658, 0.022211826135754547, 0.043930056135159, 0.0032637891735554313, 0.0032637891735554313, 0.0032637891735554313, 0.9889281195872957, 0.0032637891735554313, 0.0030020555157042055, 0.9816721536352752, 0.0030020555157042055, 0.012008222062816822, 0.0030020555157042055, 0.5843434265786279, 0.12677587353238978, 0.14815612773856476, 0.04185711738955387, 0.09877075182570985, 0.003308851785657072, 0.003308851785657072, 0.003308851785657072, 0.003308851785657072, 0.9893466839114646, 0.0017397581020605465, 0.012178306714423826, 0.019137339122666013, 0.9655657466436034, 0.0017397581020605465, 0.003510295428909581, 0.003510295428909581, 0.003510295428909581, 0.989903310952502, 0.003510295428909581, 0.24260245644794995, 0.10337835287006521, 0.08753492714285215, 0.49728552501289985, 0.06931498755655713, 0.005903013895987193, 0.2599434333482932, 0.013281781265971184, 0.6895985162062181, 0.03141246680364613, 0.19262483006480252, 0.7095533578599538, 0.038258049389314125, 0.009342081827623217, 0.04982443641399049, 0.9905125612577742, 0.0033127510409959003, 0.0033127510409959003, 0.0033127510409959003, 0.0033127510409959003, 0.15008893208771643, 0.0030787473248762346, 0.7419781052951725, 0.009236241974628703, 0.09544116707116326, 0.003464575336897092, 0.003464575336897092, 0.9908685463525683, 0.003464575336897092, 0.003464575336897092, 0.5673103509140064, 0.07685808560185224, 0.1616847352627594, 0.03200278146297861, 0.16232736139655415, 0.0276481954429061, 0.811555854471185, 0.02331122360872475, 0.0742706426603556, 0.062343970116356895, 0.00208752126982755, 0.00208752126982755, 0.00208752126982755, 0.00208752126982755, 0.9915726031680862, 0.9908172792175386, 0.0033248901987165723, 0.0033248901987165723, 0.0033248901987165723, 0.0033248901987165723, 0.41969511928013453, 0.16987051389001184, 0.14509240885643118, 0.07356798195537355, 0.19209417510569762, 0.9615472254341806, 0.0014861626359106346, 0.005944650543642538, 0.013375463723195712, 0.01932011426683825, 0.3456052429939675, 0.075707610732523, 0.09122767093269021, 0.01211321771720368, 0.47544379540024445, 0.9408140723520669, 0.014012124481839295, 0.04103550741110079, 0.0010008660344170924, 0.00400346413766837, 0.12357093560057426, 0.0019614434222313378, 0.03726742502239541, 0.0019614434222313378, 0.8355748978705498, 0.0038692023632498794, 0.9905158049919691, 0.0038692023632498794, 0.0038692023632498794, 0.0038692023632498794, 0.009785268835421666, 0.0012231586044277082, 0.0012231586044277082, 0.9858658351687328, 0.0012231586044277082, 0.0031127309323000572, 0.0031127309323000572, 0.0031127309323000572, 0.9867357055391182, 0.0062254618646001144, 0.5500185369727951, 0.17403229090585662, 0.15739403891815384, 0.026582954325180295, 0.09198849662166707, 0.018380262856866333, 0.5046217620703303, 0.06405243116786752, 0.02951981610345199, 0.38375760934487585, 0.8835476012085022, 0.030630351299149088, 0.05731688054261374, 0.018404502926527348, 0.010122476609590042, 0.9950491475163743, 0.0015332036171284659, 0.0015332036171284659, 0.0015332036171284659, 0.0015332036171284659, 0.030911376359693953, 0.0025759480299744958, 0.0025759480299744958, 0.02575948029974496, 0.9376450829107166, 0.0025855068032642667, 0.04395361565549253, 0.9488809967979859, 0.0025855068032642667, 0.0025855068032642667, 0.006872107873805728, 0.04352334986743627, 0.9437694813359866, 0.002290702624601909, 0.002290702624601909, 0.004221707323393726, 0.9878795136741317, 0.004221707323393726, 0.004221707323393726, 0.004221707323393726, 0.060092501888765464, 0.10839837157426825, 0.29447258160282497, 0.4878892838235781, 0.04907876360047083, 0.003776940351938799, 0.0009442350879846998, 0.07081763159885249, 0.890413687969572, 0.033992463167449194, 0.0030414905457264666, 0.9884844273611016, 0.0030414905457264666, 0.0030414905457264666, 0.006082981091452933, 0.003840660115015302, 0.003840660115015302, 0.9870496495589326, 0.003840660115015302, 0.003840660115015302, 0.0006472571091554452, 0.0006472571091554452, 0.9307557229655303, 0.0006472571091554452, 0.06796199646132176, 0.004537524972480855, 0.004537524972480855, 0.004537524972480855, 0.004537524972480855, 0.9846429190283454, 0.0030714855158851468, 0.9920898216309024, 0.0030714855158851468, 0.0030714855158851468, 0.0030714855158851468, 0.0041704953087747685, 0.0041704953087747685, 0.0041704953087747685, 0.98840738817962, 0.0041704953087747685, 0.003868941134318156, 0.003868941134318156, 0.003868941134318156, 0.9904489303854479, 0.003868941134318156, 0.3995751820366013, 0.26276261970817105, 0.21862509960020513, 0.03506251597361781, 0.0840125382740411, 0.004104792129166954, 0.004104792129166954, 0.989254903129236, 0.004104792129166954, 0.004104792129166954, 0.6814529070341215, 0.03680213719356192, 0.20363849247104263, 0.019014437550006993, 0.05919010398631209, 0.13252552705294474, 0.18365829290753924, 0.14080837249375378, 0.37957519706747583, 0.16344815003196517, 0.005559581894423591, 0.0018531939648078638, 0.952541697911242, 0.0018531939648078638, 0.038917073260965135, 0.00394225286350385, 0.00394225286350385, 0.00394225286350385, 0.9895054687394664, 0.00394225286350385, 0.9794199361347341, 0.014194491828039625, 0.002838898365607925, 0.002838898365607925, 0.002838898365607925, 0.003835882262068026, 0.003835882262068026, 0.003835882262068026, 0.003835882262068026, 0.9896576236135506, 0.004274122983986732, 0.004274122983986732, 0.9873224093009352, 0.004274122983986732, 0.004274122983986732, 0.17608143384545932, 0.07654945868984327, 0.06134564010479356, 0.6590678568030847, 0.026871865406134354, 0.9384175113896955, 0.0024825860089674485, 0.052134306188316416, 0.0024825860089674485, 0.004965172017934897, 0.8786200330557785, 0.013468476611314908, 0.07605727968742537, 0.002376789990232043, 0.02931374321286186, 0.06523798449828591, 0.8077841495194263, 0.051978231551479834, 0.02280677506850646, 0.05144784143360759, 0.0017698665069329294, 0.0035397330138658588, 0.8920127194941964, 0.1026522574021099, 0.0017698665069329294, 0.027526885355207094, 0.29473908953502226, 0.08056649372255735, 0.0006713874476879779, 0.5961920535469244, 0.9904902857816855, 0.003154427661725113, 0.003154427661725113, 0.003154427661725113, 0.003154427661725113, 0.004895663303425568, 0.20806569039558664, 0.7686191386378143, 0.00571160718732983, 0.013055102142468182, 0.003314051446690451, 0.003314051446690451, 0.003314051446690451, 0.003314051446690451, 0.9875873311137544, 0.1744864217058328, 0.41186702219337673, 0.18769419924999214, 0.11231103353876984, 0.11365876594123507, 0.0010057264400558591, 0.9152110604508319, 0.08246956808458046, 0.0010057264400558591, 0.0010057264400558591, 0.019489857877267997, 0.023820937405549775, 0.9311820985805821, 0.0043310795282817775, 0.021655397641408888, 0.47736526369372884, 0.09398593353720767, 0.22113462526871489, 0.13830208574304292, 0.06915104287152146, 0.00034270892627817184, 0.00034270892627817184, 0.00034270892627817184, 0.9989965201008708, 0.00034270892627817184, 0.00320047950353554, 0.9457416932947521, 0.00640095900707108, 0.044806713049497564, 0.00160023975176777, 0.14521003638375424, 0.34205030792617663, 0.3963696178326921, 0.040336121217709506, 0.07556300041450914, 0.5179107937347232, 0.30928364817514065, 0.07401213427614571, 0.042317526186125665, 0.05624922204987074, 0.005549031603403176, 0.9470347269808087, 0.007398708804537568, 0.003699354402268784, 0.03699354402268784, 0.004505638934834889, 0.004505638934834889, 0.9867349267288407, 0.004505638934834889, 0.004505638934834889, 0.09952844385608942, 0.16539069326159614, 0.060128705372438064, 0.6264264391001433, 0.0488086312558666, 0.0010863296605427876, 0.005431648302713938, 0.9679197275436238, 0.007604307623799513, 0.0173812745686846, 0.9843514740299026, 0.0023215836651648645, 0.0023215836651648645, 0.004643167330329729, 0.009286334660659458, 0.9917337221894442, 0.0035167862488987385, 0.0035167862488987385, 0.0035167862488987385, 0.0035167862488987385, 0.21328239047626038, 0.0784838426125307, 0.5577958814247718, 0.0891861847869667, 0.06115624099677717, 0.004339291122801677, 0.004339291122801677, 0.004339291122801677, 0.9893583759987823, 0.004339291122801677, 0.0074605065457655755, 0.8423590118037131, 0.10987291458309302, 0.004069367206781223, 0.03662430486103101, 0.028113750565213643, 0.8367975168234179, 0.06036187621354694, 0.03638250073145295, 0.03803625076470081, 0.003419320125624732, 0.003419320125624732, 0.9881835163055476, 0.003419320125624732, 0.003419320125624732, 0.0030047224230849343, 0.0030047224230849343, 0.0030047224230849343, 0.9915583996180283, 0.0030047224230849343, 0.0029963103760138853, 0.0029963103760138853, 0.0029963103760138853, 0.9917787344605961, 0.0029963103760138853, 0.002601793915840435, 0.002601793915840435, 0.002601793915840435, 0.9938852758510461, 0.002601793915840435, 0.0033032071475272316, 0.0033032071475272316, 0.9909621442581695, 0.0033032071475272316, 0.0033032071475272316, 0.004193807453744456, 0.004193807453744456, 0.9897385590836916, 0.004193807453744456, 0.004193807453744456, 0.0019936846950208845, 0.899151797454419, 0.014952635212656634, 0.05482632911307433, 0.02990527042531327, 0.12580343183819231, 0.0646989078024989, 0.048404368059647325, 0.7361297954417653, 0.024921060783184762, 0.16066751184877007, 0.4846655329802677, 0.09808707215076846, 0.11939105162242859, 0.1373662843016418, 0.3730253166049557, 0.009684911905153791, 0.44706803020242175, 0.09216287135549575, 0.07810412826736927, 0.685272245744127, 0.07933140661866961, 0.11584903823678737, 0.019392121617897017, 0.09973091117775608, 0.0014485667169214888, 0.9951653345250627, 0.0014485667169214888, 0.0014485667169214888, 0.0014485667169214888, 0.003762450235232496, 0.003762450235232496, 0.9895244118661464, 0.003762450235232496, 0.003762450235232496, 0.003531291850879777, 0.003531291850879777, 0.010593875552639331, 0.003531291850879777, 0.9781678426936982, 0.016468141994542503, 0.00866744315502237, 0.03178062490174869, 0.9343503721114115, 0.008956357926856449, 0.04075157088416041, 0.001405226582212428, 0.02014158101171147, 0.9368177214749521, 0.0009368177214749521, 0.987417445824029, 0.004063446279111231, 0.004063446279111231, 0.004063446279111231, 0.004063446279111231, 0.0021887655874513476, 0.8069249132403967, 0.004377531174902695, 0.1707237158212051, 0.015321359112159432, 0.0021564920123861497, 0.9855168496604705, 0.006469476037158449, 0.0021564920123861497, 0.004312984024772299, 0.009706822341952534, 0.24072919408042284, 0.7277343378652414, 0.006101431186370164, 0.0158082535283227, 0.991016752678595, 0.002815388501927827, 0.002815388501927827, 0.002815388501927827, 0.002815388501927827, 0.025919173964645385, 0.16073048732953873, 0.06637837234848208, 0.6958666034532538, 0.051048129210856455, 0.0059995007168991855, 0.004749604734211855, 0.0027497711619121267, 0.9841680967680039, 0.0024997919653746603, 0.15226275500885117, 0.006147254084208277, 0.8081274792239957, 0.02553474773440361, 0.008038716879349286, 0.004609551775324407, 0.004609551775324407, 0.004609551775324407, 0.004609551775324407, 0.9864440799194232, 0.9867691629313179, 0.004077558524509578, 0.004077558524509578, 0.004077558524509578, 0.004077558524509578, 0.06095974882143938, 0.8472521611559474, 0.030921611721019975, 0.037989408685824545, 0.02297034013561484, 0.004800924812602268, 0.004800924812602268, 0.004800924812602268, 0.004800924812602268, 0.9841895865834651, 0.004529579746183603, 0.004529579746183603, 0.004529579746183603, 0.004529579746183603, 0.9874483846680254, 0.5959227842805283, 0.0841079557580229, 0.1743290210824184, 0.041948579438211925, 0.10371206574673501, 0.07357665961995304, 0.09156206530483044, 0.04496351421219352, 0.7541607611045186, 0.03556205214964397, 0.0005815499861046655, 0.824056330310311, 0.0005815499861046655, 0.0005815499861046655, 0.17446499583139966, 0.0039116180152953305, 0.0039116180152953305, 0.9896393578697186, 0.0039116180152953305, 0.0039116180152953305, 0.707695716470643, 0.1926644922064206, 0.05893266820431689, 0.01813312867825135, 0.02266641084781419, 0.004609039645485497, 0.004609039645485497, 0.004609039645485497, 0.004609039645485497, 0.9817254444884108, 0.1459383554579445, 0.18903659728586086, 0.3509177982980346, 0.2167175818745226, 0.09723383827029915, 0.004543087694711989, 0.004543087694711989, 0.9858500297525016, 0.004543087694711989, 0.004543087694711989, 0.28617782505722156, 0.49958937201640197, 0.05719936288303733, 0.1314137261173579, 0.025522500526924882, 0.003986705354794021, 0.003986705354794021, 0.9887029279889171, 0.003986705354794021, 0.003986705354794021, 0.0030520060462482777, 0.0030520060462482777, 0.0030520060462482777, 0.07630015115620695, 0.9186538199207316, 0.014666149980611354, 0.1042926220843474, 0.8669324210761378, 0.010592219430441533, 0.0032591444401358564, 0.0033490215268381345, 0.0033490215268381345, 0.9913103719440879, 0.0033490215268381345, 0.0033490215268381345, 0.028096103382686546, 0.0076625736498236036, 0.9552675150113425, 0.002554191216607868, 0.005108382433215736, 0.10233670457592137, 0.6619771768802277, 0.12203330880392296, 0.060374373829309255, 0.05352338105435218, 0.007142739086856632, 0.9589127224105028, 0.030356641119140687, 0.001785684771714158, 0.001785684771714158, 0.32593704646470156, 0.0023756344494511774, 0.07744568305210839, 0.004751268898902355, 0.589157343463892, 0.002288161700149203, 0.002288161700149203, 0.002288161700149203, 0.9907740161646048, 0.002288161700149203, 0.0003345571981771025, 0.27701336009064087, 0.528600373119822, 0.19404317494271944, 0.0003345571981771025, 0.7632741986836339, 0.008278462024768264, 0.1296959050547028, 0.027594873415894214, 0.07119477341300708, 0.0035530212161793842, 0.0035530212161793842, 0.9912929193140482, 0.0035530212161793842, 0.0035530212161793842, 0.0035847306725551977, 0.0035847306725551977, 0.9893856656252346, 0.0035847306725551977, 0.0035847306725551977, 0.9918999666528205, 0.002817897632536422, 0.002817897632536422, 0.002817897632536422, 0.002817897632536422, 0.08181766186460906, 0.7358023740477087, 0.027272553954869688, 0.10129805754665884, 0.053431942442193674, 0.00340520065529674, 0.00340520065529674, 0.01362080262118696, 0.00340520065529674, 0.9806977887254612, 0.6807231252407057, 0.1553051660114859, 0.08233044945187204, 0.03368063841212947, 0.04827558172405224, 0.06707502248474462, 0.0026830008993897845, 0.010732003597559138, 0.0026830008993897845, 0.9175863075913063, 0.004690777885217256, 0.9850633558956238, 0.004690777885217256, 0.004690777885217256, 0.004690777885217256, 0.009570353293097045, 0.011962941616371306, 0.9689982709260758, 0.0023925883232742613, 0.0047851766465485225, 0.0024487802032590105, 0.0024487802032590105, 0.0024487802032590105, 0.9917559823198994, 0.0024487802032590105, 0.14613118851115353, 0.20255672709277983, 0.17639828566294824, 0.44606305621445835, 0.02889754524447366, 0.031847037977071384, 0.014050163813413848, 0.0037467103502436924, 0.9497910737867761, 0.0009366775875609231, 0.8408448475739149, 0.10139198810291615, 0.01962425576185474, 0.030254060966192722, 0.00817677323410614, 0.5599772192413768, 0.10979945475321114, 0.1694516958430154, 0.09242819773255384, 0.0683378696001329, 0.012769238880497268, 0.25346939177787076, 0.6550619545695098, 0.013407700824522131, 0.06512311829053606, 0.5908129695517981, 0.07902593860246981, 0.24272252570758585, 0.019890882505383557, 0.06773651880211698, 0.10563735084440612, 0.7485368296947266, 0.03521245028146871, 0.094020872401035, 0.016698687762345985, 0.009226614000175649, 0.002306653500043912, 0.9849410445187505, 0.002306653500043912, 0.002306653500043912, 0.0038758636663803353, 0.9883452349269854, 0.0038758636663803353, 0.0038758636663803353, 0.0038758636663803353, 0.11822060236667949, 0.65216861560041, 0.17627804831265695, 0.009926920809415835, 0.04331747262290546, 0.7064892183755306, 0.12155530431634418, 0.11788417096450828, 0.01468453340734359, 0.03956665945867579, 0.003855146076104883, 0.003855146076104883, 0.9869173954828501, 0.003855146076104883, 0.003855146076104883, 0.9876892274348054, 0.003325552954325944, 0.003325552954325944, 0.003325552954325944, 0.003325552954325944, 0.0021976885299915512, 0.0021976885299915512, 0.0021976885299915512, 0.9933552155561811, 0.0021976885299915512, 0.47895560317404073, 0.19179223276534477, 0.21594125477411993, 0.0468981007126938, 0.06632231406757817, 0.0013820936978406824, 0.0013820936978406824, 0.0013820936978406824, 0.9951074624452912, 0.0013820936978406824, 0.004764210869043302, 0.004764210869043302, 0.004764210869043302, 0.004764210869043302, 0.9861916498919635, 0.11868884880611362, 0.2941198531377168, 0.06930921010496047, 0.4502559857917487, 0.06753205087149994, 0.13408522956249597, 0.5339550600727152, 0.08517513692848942, 0.19993491525510965, 0.04676282027446478, 0.0018128926299269177, 0.0018128926299269177, 0.0018128926299269177, 0.0018128926299269177, 0.9952780538298778, 0.987901335180144, 0.0033716769118776247, 0.0033716769118776247, 0.0033716769118776247, 0.0067433538237552495, 0.07492618422850805, 0.004407422601676945, 0.2438773839594576, 0.0014691408672256481, 0.6743356580565725, 0.9909309466176339, 0.0029145027841695117, 0.0029145027841695117, 0.0029145027841695117, 0.0029145027841695117, 0.6719740214036158, 0.07555329652415933, 0.12158576857861403, 0.021765353634443253, 0.1093271211293299, 0.6718928520034332, 0.041413620412410646, 0.17859623802852093, 0.02351085742162896, 0.08476850428165304, 0.0554834079867109, 0.9333978635640479, 0.005892043326022396, 0.002946021663011198, 0.0019640144420074654, 0.3728331207326543, 0.20108823409886215, 0.14893598209161588, 0.16262132481692163, 0.11441439683859232, 0.9702376678573186, 0.0018271895816522007, 0.02192627497982641, 0.0018271895816522007, 0.0054815687449566025, 0.14185745026958899, 0.26847277024425403, 0.07953071945965255, 0.45681117230430407, 0.05357382430394052, 0.020920482886644286, 0.004378705720460433, 0.022380051460131098, 0.9501791413399139, 0.0019460914313157477, 0.003367854439530657, 0.003367854439530657, 0.003367854439530657, 0.9867813507824824, 0.003367854439530657, 0.00789554633834253, 0.002193207316206258, 0.0050443768272743945, 0.9843114435133687, 0.0006579621948618775, 0.004456662132796672, 0.004456662132796672, 0.004456662132796672, 0.004456662132796672, 0.9849223313480646, 0.005904124532157998, 0.9859887968703857, 0.0019680415107193325, 0.0019680415107193325, 0.005904124532157998, 0.9870019258041199, 0.0024675048145102996, 0.007402514443530899, 0.0024675048145102996, 0.0024675048145102996, 0.0010361513640967143, 0.03212069228699814, 0.9563677090612672, 0.004144605456386857, 0.006216908184580285, 0.24249708796442526, 0.008424216455339835, 0.13418573353862737, 0.02707783860644947, 0.5878899626333585, 0.2590142891875271, 0.032553008141331954, 0.5709592569670624, 0.058185298016396485, 0.0792037757139494, 0.01808280445729414, 0.22839037898582434, 0.0214258439367939, 0.718297619072516, 0.013979983277908076, 0.9992769370914039, 0.00021550074123170235, 0.00021550074123170235, 0.00021550074123170235, 0.00021550074123170235, 0.1559089829370879, 0.0005196966097902931, 0.702369968131581, 0.00012992415244757327, 0.14096770540561698, 0.12207722991316566, 0.3371372144418767, 0.2744047430467338, 0.1854872438837326, 0.08086669914913912, 0.0002026939718657156, 0.9992812812979779, 0.0002026939718657156, 0.0002026939718657156, 0.0002026939718657156, 0.020551571805172707, 0.9399639946681623, 0.023796556827042084, 0.0043266466958258335, 0.0129799400874775, 0.4272853535363007, 0.0798006993008762, 0.21387198912246322, 0.1677037684541402, 0.111292929293176, 0.16607320538529471, 0.6855462377065589, 0.018287823212071144, 0.10231295688915479, 0.027678867564215788, 0.13998944380720796, 0.0020288325189450427, 0.0020288325189450427, 0.0426054828978459, 0.8135618400969622, 0.22905620969972412, 0.07076533307796355, 0.675064032651626, 0.008845666634745444, 0.016294649064004765, 0.0012939461370931598, 0.025878922741863195, 0.9445806800780067, 0.012939461370931597, 0.01682129978221108, 0.4063227020981493, 0.09444789201312914, 0.13724459308157827, 0.007378741563525714, 0.35417959504923424, 0.0016158527397280326, 0.995365287672468, 0.0016158527397280326, 0.0016158527397280326, 0.0016158527397280326, 0.5589890335699407, 0.13105997678865455, 0.2157877850235458, 0.016945561646978247, 0.07722028092293885, 0.003719232079615664, 0.003719232079615664, 0.9893157331777667, 0.003719232079615664, 0.003719232079615664, 0.9960266893454551, 0.0012434790129156744, 0.0012434790129156744, 0.0012434790129156744, 0.0012434790129156744, 0.9878506330283748, 0.003631803797898437, 0.003631803797898437, 0.003631803797898437, 0.003631803797898437, 0.9885035430270999, 0.0006685854197004395, 0.007354439616704835, 0.003008634388651978, 0.0006685854197004395, 0.9784042116772449, 0.0008201208815400209, 0.0008201208815400209, 0.0008201208815400209, 0.019682901156960503, 0.9760605645026609, 0.0005380708734854801, 0.018832480571991803, 0.0032284252409128804, 0.0016142126204564402, 0.0011841688865355474, 0.9804918380514333, 0.002368337773071095, 0.0011841688865355474, 0.015394195524962115, 0.2258244365628949, 0.2242812171786382, 0.09345050715776591, 0.3816895943728201, 0.07476040572621273, 0.9923702706759765, 0.002286567443953863, 0.002286567443953863, 0.002286567443953863, 0.002286567443953863, 0.6930529749659914, 0.06949362710936163, 0.08700828109627391, 0.02580115694846218, 0.12467420364877345, 0.00387418748168507, 0.00387418748168507, 0.00387418748168507, 0.987917807829693, 0.00387418748168507, 0.16091159027295276, 0.082078822704071, 0.6756431902815337, 0.024577274595004313, 0.05657410378472691, 0.43637393152775844, 0.3253483394457499, 0.13986585623913467, 0.028651765698582844, 0.06993292811956733, 0.1865697336411739, 0.44854938956246304, 0.19578650191985467, 0.0918883867783626, 0.0773649943392293, 0.21568549123836295, 0.21516367150149593, 0.22751340527401512, 0.18872480483356757, 0.15289318290203308, 0.5266460731192454, 0.08806614853024616, 0.2563197643106966, 0.027137679964588775, 0.10207269302809843, 0.34840534910073506, 0.20048715718283713, 0.15226872697430668, 0.11903547307118419, 0.1798221156648955, 0.002332773351741635, 0.002332773351741635, 0.002332773351741635, 0.9937614478419365, 0.002332773351741635], \"Term\": [\"absolutely\", \"absolutely\", \"absolutely\", \"absolutely\", \"absolutely\", \"access\", \"access\", \"access\", \"access\", \"access\", \"accountable\", \"accountable\", \"accountable\", \"accountable\", \"accountable\", \"active\", \"active\", \"active\", \"active\", \"active\", \"administered\", \"administered\", \"administered\", \"administered\", \"administered\", \"administering\", \"administering\", \"administering\", \"administering\", \"administering\", \"administration\", \"administration\", \"administration\", \"administration\", \"administration\", \"adverse\", \"adverse\", \"adverse\", \"adverse\", \"adverse\", \"allergic\", \"allergic\", \"allergic\", \"allergic\", \"allergic\", \"amen\", \"amen\", \"amen\", \"amen\", \"amen\", \"america\", \"america\", \"america\", \"america\", \"america\", \"american\", \"american\", \"american\", \"american\", \"american\", \"anniversary\", \"anniversary\", \"anniversary\", \"anniversary\", \"anniversary\", \"antigen\", \"antigen\", \"antigen\", \"antigen\", \"antigen\", \"apple\", \"apple\", \"apple\", \"apple\", \"apple\", \"appointment\", \"appointment\", \"appointment\", \"appointment\", \"appointment\", \"arkansas\", \"arkansas\", \"arkansas\", \"arkansas\", \"arkansas\", \"assistance\", \"assistance\", \"assistance\", \"assistance\", \"assistance\", \"astrazeneca\", \"astrazeneca\", \"astrazeneca\", \"astrazeneca\", \"astrazeneca\", \"auckland\", \"auckland\", \"auckland\", \"auckland\", \"auckland\", \"austria\", \"austria\", \"austria\", \"austria\", \"austria\", \"authorization\", \"authorization\", \"authorization\", \"authorization\", \"authorization\", \"available\", \"available\", \"available\", \"available\", \"available\", \"average\", \"average\", \"average\", \"average\", \"average\", \"awesome\", \"awesome\", \"awesome\", \"awesome\", \"awesome\", \"bat\", \"bat\", \"bat\", \"bat\", \"bat\", \"batch\", \"batch\", \"batch\", \"batch\", \"batch\", \"biden\", \"biden\", \"biden\", \"biden\", \"biden\", \"bill\", \"bill\", \"bill\", \"bill\", \"bill\", \"biontech\", \"biontech\", \"biontech\", \"biontech\", \"biontech\", \"biotech\", \"biotech\", \"biotech\", \"biotech\", \"biotech\", \"bioweapon\", \"bioweapon\", \"bioweapon\", \"bioweapon\", \"bioweapon\", \"booking\", \"booking\", \"booking\", \"booking\", \"booking\", \"bowl\", \"bowl\", \"bowl\", \"bowl\", \"bowl\", \"brazil\", \"brazil\", \"brazil\", \"brazil\", \"brazil\", \"brisbane\", \"brisbane\", \"brisbane\", \"brisbane\", \"brisbane\", \"bubble\", \"bubble\", \"bubble\", \"bubble\", \"bubble\", \"buhari\", \"buhari\", \"buhari\", \"buhari\", \"buhari\", \"bulletin\", \"bulletin\", \"bulletin\", \"bulletin\", \"bulletin\", \"bullshit\", \"bullshit\", \"bullshit\", \"bullshit\", \"bullshit\", \"business\", \"business\", \"business\", \"business\", \"business\", \"capitol\", \"capitol\", \"capitol\", \"capitol\", \"capitol\", \"caput\", \"caput\", \"caput\", \"caput\", \"caput\", \"case\", \"case\", \"case\", \"case\", \"case\", \"catholic\", \"catholic\", \"catholic\", \"catholic\", \"catholic\", \"ccpvirus\", \"ccpvirus\", \"ccpvirus\", \"ccpvirus\", \"ccpvirus\", \"celliottability\", \"celliottability\", \"celliottability\", \"celliottability\", \"celliottability\", \"challenge\", \"challenge\", \"challenge\", \"challenge\", \"challenge\", \"chapter\", \"chapter\", \"chapter\", \"chapter\", \"chapter\", \"check\", \"check\", \"check\", \"check\", \"check\", \"china\", \"china\", \"china\", \"china\", \"china\", \"chinavirus\", \"chinavirus\", \"chinavirus\", \"chinavirus\", \"chinavirus\", \"christ\", \"christ\", \"christ\", \"christ\", \"christ\", \"classroom\", \"classroom\", \"classroom\", \"classroom\", \"classroom\", \"clinic\", \"clinic\", \"clinic\", \"clinic\", \"clinic\", \"clot\", \"clot\", \"clot\", \"clot\", \"clot\", \"color\", \"color\", \"color\", \"color\", \"color\", \"community\", \"community\", \"community\", \"community\", \"community\", \"competition\", \"competition\", \"competition\", \"competition\", \"competition\", \"confirmed\", \"confirmed\", \"confirmed\", \"confirmed\", \"confirmed\", \"confirms\", \"confirms\", \"confirms\", \"confirms\", \"confirms\", \"conspiracy\", \"conspiracy\", \"conspiracy\", \"conspiracy\", \"conspiracy\", \"cool\", \"cool\", \"cool\", \"cool\", \"cool\", \"coronavirus\", \"coronavirus\", \"coronavirus\", \"coronavirus\", \"coronavirus\", \"coronavirusupdate\", \"coronavirusupdate\", \"coronavirusupdate\", \"coronavirusupdate\", \"coronavirusupdate\", \"coronavirusupdates\", \"coronavirusupdates\", \"coronavirusupdates\", \"coronavirusupdates\", \"coronavirusupdates\", \"coronavirusvaccine\", \"coronavirusvaccine\", \"coronavirusvaccine\", \"coronavirusvaccine\", \"coronavirusvaccine\", \"country\", \"country\", \"country\", \"country\", \"country\", \"county\", \"county\", \"county\", \"county\", \"county\", \"covid\", \"covid\", \"covid\", \"covid\", \"covid\", \"covidisairborne\", \"covidisairborne\", \"covidisairborne\", \"covidisairborne\", \"covidisairborne\", \"covidvaccine\", \"covidvaccine\", \"covidvaccine\", \"covidvaccine\", \"covidvaccine\", \"cruise\", \"cruise\", \"cruise\", \"cruise\", \"cruise\", \"ctvnews\", \"ctvnews\", \"ctvnews\", \"ctvnews\", \"ctvnews\", \"cumulative\", \"cumulative\", \"cumulative\", \"cumulative\", \"cumulative\", \"daily\", \"daily\", \"daily\", \"daily\", \"daily\", \"dakota\", \"dakota\", \"dakota\", \"dakota\", \"dakota\", \"damn\", \"damn\", \"damn\", \"damn\", \"damn\", \"deadliest\", \"deadliest\", \"deadliest\", \"deadliest\", \"deadliest\", \"death\", \"death\", \"death\", \"death\", \"death\", \"democrat\", \"democrat\", \"democrat\", \"democrat\", \"democrat\", \"denier\", \"denier\", \"denier\", \"denier\", \"denier\", \"detect\", \"detect\", \"detect\", \"detect\", \"detect\", \"detected\", \"detected\", \"detected\", \"detected\", \"detected\", \"digital\", \"digital\", \"digital\", \"digital\", \"digital\", \"dining\", \"dining\", \"dining\", \"dining\", \"dining\", \"disappear\", \"disappear\", \"disappear\", \"disappear\", \"disappear\", \"discus\", \"discus\", \"discus\", \"discus\", \"discus\", \"disproportionately\", \"disproportionately\", \"disproportionately\", \"disproportionately\", \"disproportionately\", \"distance\", \"distance\", \"distance\", \"distance\", \"distance\", \"distancing\", \"distancing\", \"distancing\", \"distancing\", \"distancing\", \"dos\", \"dos\", \"dos\", \"dos\", \"dos\", \"dose\", \"dose\", \"dose\", \"dose\", \"dose\", \"doug\", \"doug\", \"doug\", \"doug\", \"doug\", \"drericding\", \"drericding\", \"drericding\", \"drericding\", \"drericding\", \"eastern\", \"eastern\", \"eastern\", \"eastern\", \"eastern\", \"education\", \"education\", \"education\", \"education\", \"education\", \"eligibility\", \"eligibility\", \"eligibility\", \"eligibility\", \"eligibility\", \"eligible\", \"eligible\", \"eligible\", \"eligible\", \"eligible\", \"else\", \"else\", \"else\", \"else\", \"else\", \"enviroklenzairpurifiers\", \"enviroklenzairpurifiers\", \"enviroklenzairpurifiers\", \"enviroklenzairpurifiers\", \"enviroklenzairpurifiers\", \"escaped\", \"escaped\", \"escaped\", \"escaped\", \"escaped\", \"even\", \"even\", \"even\", \"even\", \"even\", \"everyone\", \"everyone\", \"everyone\", \"everyone\", \"everyone\", \"exam\", \"exam\", \"exam\", \"exam\", \"exam\", \"exciting\", \"exciting\", \"exciting\", \"exciting\", \"exciting\", \"expanded\", \"expanded\", \"expanded\", \"expanded\", \"expanded\", \"explore\", \"explore\", \"explore\", \"explore\", \"explore\", \"fake\", \"fake\", \"fake\", \"fake\", \"fake\", \"falling\", \"falling\", \"falling\", \"falling\", \"falling\", \"farmer\", \"farmer\", \"farmer\", \"farmer\", \"farmer\", \"fatality\", \"fatality\", \"fatality\", \"fatality\", \"fatality\", \"fauci\", \"fauci\", \"fauci\", \"fauci\", \"fauci\", \"finally\", \"finally\", \"finally\", \"finally\", \"finally\", \"first\", \"first\", \"first\", \"first\", \"first\", \"fitness\", \"fitness\", \"fitness\", \"fitness\", \"fitness\", \"fiverr\", \"fiverr\", \"fiverr\", \"fiverr\", \"fiverr\", \"ford\", \"ford\", \"ford\", \"ford\", \"ford\", \"fordnation\", \"fordnation\", \"fordnation\", \"fordnation\", \"fordnation\", \"free\", \"free\", \"free\", \"free\", \"free\", \"fuck\", \"fuck\", \"fuck\", \"fuck\", \"fuck\", \"fucked\", \"fucked\", \"fucked\", \"fucked\", \"fucked\", \"fucking\", \"fucking\", \"fucking\", \"fucking\", \"fucking\", \"game\", \"game\", \"game\", \"game\", \"game\", \"gate\", \"gate\", \"gate\", \"gate\", \"gate\", \"genocide\", \"genocide\", \"genocide\", \"genocide\", \"genocide\", \"getting\", \"getting\", \"getting\", \"getting\", \"getting\", \"ghana\", \"ghana\", \"ghana\", \"ghana\", \"ghana\", \"going\", \"going\", \"going\", \"going\", \"going\", \"good\", \"good\", \"good\", \"good\", \"good\", \"government\", \"government\", \"government\", \"government\", \"government\", \"grant\", \"grant\", \"grant\", \"grant\", \"grant\", \"gujarat\", \"gujarat\", \"gujarat\", \"gujarat\", \"gujarat\", \"gym\", \"gym\", \"gym\", \"gym\", \"gym\", \"halloween\", \"halloween\", \"halloween\", \"halloween\", \"halloween\", \"hancock\", \"hancock\", \"hancock\", \"hancock\", \"hancock\", \"hand\", \"hand\", \"hand\", \"hand\", \"hand\", \"happy\", \"happy\", \"happy\", \"happy\", \"happy\", \"health\", \"health\", \"health\", \"health\", \"health\", \"heartbreaking\", \"heartbreaking\", \"heartbreaking\", \"heartbreaking\", \"heartbreaking\", \"help\", \"help\", \"help\", \"help\", \"help\", \"hesitancy\", \"hesitancy\", \"hesitancy\", \"hesitancy\", \"hesitancy\", \"highest\", \"highest\", \"highest\", \"highest\", \"highest\", \"holiday\", \"holiday\", \"holiday\", \"holiday\", \"holiday\", \"home\", \"home\", \"home\", \"home\", \"home\", \"honestly\", \"honestly\", \"honestly\", \"honestly\", \"honestly\", \"hong\", \"hong\", \"hong\", \"hong\", \"hong\", \"hope\", \"hope\", \"hope\", \"hope\", \"hope\", \"hopkins\", \"hopkins\", \"hopkins\", \"hopkins\", \"hopkins\", \"hospitalization\", \"hospitalization\", \"hospitalization\", \"hospitalization\", \"hospitalization\", \"house\", \"house\", \"house\", \"house\", \"house\", \"idaho\", \"idaho\", \"idaho\", \"idaho\", \"idaho\", \"immunization\", \"immunization\", \"immunization\", \"immunization\", \"immunization\", \"impact\", \"impact\", \"impact\", \"impact\", \"impact\", \"impacted\", \"impacted\", \"impacted\", \"impacted\", \"impacted\", \"important\", \"important\", \"important\", \"important\", \"important\", \"improving\", \"improving\", \"improving\", \"improving\", \"improving\", \"inauguration\", \"inauguration\", \"inauguration\", \"inauguration\", \"inauguration\", \"indeed\", \"indeed\", \"indeed\", \"indeed\", \"indeed\", \"india\", \"india\", \"india\", \"india\", \"india\", \"indigenous\", \"indigenous\", \"indigenous\", \"indigenous\", \"indigenous\", \"infection\", \"infection\", \"infection\", \"infection\", \"infection\", \"information\", \"information\", \"information\", \"information\", \"information\", \"inquiry\", \"inquiry\", \"inquiry\", \"inquiry\", \"inquiry\", \"interesting\", \"interesting\", \"interesting\", \"interesting\", \"interesting\", \"interior\", \"interior\", \"interior\", \"interior\", \"interior\", \"invest\", \"invest\", \"invest\", \"invest\", \"invest\", \"irish\", \"irish\", \"irish\", \"irish\", \"irish\", \"jamaica\", \"jamaica\", \"jamaica\", \"jamaica\", \"jamaica\", \"jesus\", \"jesus\", \"jesus\", \"jesus\", \"jesus\", \"joebiden\", \"joebiden\", \"joebiden\", \"joebiden\", \"joebiden\", \"john\", \"john\", \"john\", \"john\", \"john\", \"johnson\", \"johnson\", \"johnson\", \"johnson\", \"johnson\", \"join\", \"join\", \"join\", \"join\", \"join\", \"joke\", \"joke\", \"joke\", \"joke\", \"joke\", \"kamala\", \"kamala\", \"kamala\", \"kamala\", \"kamala\", \"kayleighmcenany\", \"kayleighmcenany\", \"kayleighmcenany\", \"kayleighmcenany\", \"kayleighmcenany\", \"keep\", \"keep\", \"keep\", \"keep\", \"keep\", \"kidding\", \"kidding\", \"kidding\", \"kidding\", \"kidding\", \"kindly\", \"kindly\", \"kindly\", \"kindly\", \"kindly\", \"know\", \"know\", \"know\", \"know\", \"know\", \"kong\", \"kong\", \"kong\", \"kong\", \"kong\", \"lakh\", \"lakh\", \"lakh\", \"lakh\", \"lakh\", \"lanka\", \"lanka\", \"lanka\", \"lanka\", \"lanka\", \"last\", \"last\", \"last\", \"last\", \"last\", \"latest\", \"latest\", \"latest\", \"latest\", \"latest\", \"learn\", \"learn\", \"learn\", \"learn\", \"learn\", \"legacy\", \"legacy\", \"legacy\", \"legacy\", \"legacy\", \"lie\", \"lie\", \"lie\", \"lie\", \"lie\", \"lifting\", \"lifting\", \"lifting\", \"lifting\", \"lifting\", \"like\", \"like\", \"like\", \"like\", \"like\", \"link\", \"link\", \"link\", \"link\", \"link\", \"lmao\", \"lmao\", \"lmao\", \"lmao\", \"lmao\", \"longcovid\", \"longcovid\", \"longcovid\", \"longcovid\", \"longcovid\", \"look\", \"look\", \"look\", \"look\", \"look\", \"lord\", \"lord\", \"lord\", \"lord\", \"lord\", \"love\", \"love\", \"love\", \"love\", \"love\", \"loved\", \"loved\", \"loved\", \"loved\", \"loved\", \"lowest\", \"lowest\", \"lowest\", \"lowest\", \"lowest\", \"macron\", \"macron\", \"macron\", \"macron\", \"macron\", \"maharashtra\", \"maharashtra\", \"maharashtra\", \"maharashtra\", \"maharashtra\", \"maine\", \"maine\", \"maine\", \"maine\", \"maine\", \"make\", \"make\", \"make\", \"make\", \"make\", \"market\", \"market\", \"market\", \"market\", \"market\", \"mask\", \"mask\", \"mask\", \"mask\", \"mask\", \"maskup\", \"maskup\", \"maskup\", \"maskup\", \"maskup\", \"match\", \"match\", \"match\", \"match\", \"match\", \"matt\", \"matt\", \"matt\", \"matt\", \"matt\", \"mcconnell\", \"mcconnell\", \"mcconnell\", \"mcconnell\", \"mcconnell\", \"merkel\", \"merkel\", \"merkel\", \"merkel\", \"merkel\", \"million\", \"million\", \"million\", \"million\", \"million\", \"ministry\", \"ministry\", \"ministry\", \"ministry\", \"ministry\", \"mississippi\", \"mississippi\", \"mississippi\", \"mississippi\", \"mississippi\", \"mitigation\", \"mitigation\", \"mitigation\", \"mitigation\", \"mitigation\", \"moderna\", \"moderna\", \"moderna\", \"moderna\", \"moderna\", \"mondaythoughts\", \"mondaythoughts\", \"mondaythoughts\", \"mondaythoughts\", \"mondaythoughts\", \"mutant\", \"mutant\", \"mutant\", \"mutant\", \"mutant\", \"native\", \"native\", \"native\", \"native\", \"native\", \"nears\", \"nears\", \"nears\", \"nears\", \"nears\", \"need\", \"need\", \"need\", \"need\", \"need\", \"needle\", \"needle\", \"needle\", \"needle\", \"needle\", \"never\", \"never\", \"never\", \"never\", \"never\", \"news\", \"news\", \"news\", \"news\", \"news\", \"nigerian\", \"nigerian\", \"nigerian\", \"nigerian\", \"nigerian\", \"nigga\", \"nigga\", \"nigga\", \"nigga\", \"nigga\", \"nightmare\", \"nightmare\", \"nightmare\", \"nightmare\", \"nightmare\", \"nope\", \"nope\", \"nope\", \"nope\", \"nope\", \"novavax\", \"novavax\", \"novavax\", \"novavax\", \"novavax\", \"number\", \"number\", \"number\", \"number\", \"number\", \"okay\", \"okay\", \"okay\", \"okay\", \"okay\", \"one\", \"one\", \"one\", \"one\", \"one\", \"online\", \"online\", \"online\", \"online\", \"online\", \"onpoli\", \"onpoli\", \"onpoli\", \"onpoli\", \"onpoli\", \"ontario\", \"ontario\", \"ontario\", \"ontario\", \"ontario\", \"operationbreathefreshcleanair\", \"operationbreathefreshcleanair\", \"operationbreathefreshcleanair\", \"operationbreathefreshcleanair\", \"operationbreathefreshcleanair\", \"package\", \"package\", \"package\", \"package\", \"package\", \"palestinian\", \"palestinian\", \"palestinian\", \"palestinian\", \"palestinian\", \"pandemic\", \"pandemic\", \"pandemic\", \"pandemic\", \"pandemic\", \"passport\", \"passport\", \"passport\", \"passport\", \"passport\", \"pelosi\", \"pelosi\", \"pelosi\", \"pelosi\", \"pelosi\", \"people\", \"people\", \"people\", \"people\", \"people\", \"pfizer\", \"pfizer\", \"pfizer\", \"pfizer\", \"pfizer\", \"pharmacy\", \"pharmacy\", \"pharmacy\", \"pharmacy\", \"pharmacy\", \"plan\", \"plan\", \"plan\", \"plan\", \"plan\", \"please\", \"please\", \"please\", \"please\", \"please\", \"podcast\", \"podcast\", \"podcast\", \"podcast\", \"podcast\", \"portugal\", \"portugal\", \"portugal\", \"portugal\", \"portugal\", \"positive\", \"positive\", \"positive\", \"positive\", \"positive\", \"posted\", \"posted\", \"posted\", \"posted\", \"posted\", \"praying\", \"praying\", \"praying\", \"praying\", \"praying\", \"presidency\", \"presidency\", \"presidency\", \"presidency\", \"presidency\", \"president\", \"president\", \"president\", \"president\", \"president\", \"probable\", \"probable\", \"probable\", \"probable\", \"probable\", \"program\", \"program\", \"program\", \"program\", \"program\", \"project\", \"project\", \"project\", \"project\", \"project\", \"provincial\", \"provincial\", \"provincial\", \"provincial\", \"provincial\", \"pub\", \"pub\", \"pub\", \"pub\", \"pub\", \"punjab\", \"punjab\", \"punjab\", \"punjab\", \"punjab\", \"quebec\", \"quebec\", \"quebec\", \"quebec\", \"quebec\", \"queensland\", \"queensland\", \"queensland\", \"queensland\", \"queensland\", \"ramaphosa\", \"ramaphosa\", \"ramaphosa\", \"ramaphosa\", \"ramaphosa\", \"rapid\", \"rapid\", \"rapid\", \"rapid\", \"rapid\", \"rate\", \"rate\", \"rate\", \"rate\", \"rate\", \"read\", \"read\", \"read\", \"read\", \"read\", \"realdonaldtrump\", \"realdonaldtrump\", \"realdonaldtrump\", \"realdonaldtrump\", \"realdonaldtrump\", \"really\", \"really\", \"really\", \"really\", \"really\", \"receives\", \"receives\", \"receives\", \"receives\", \"receives\", \"recipient\", \"recipient\", \"recipient\", \"recipient\", \"recipient\", \"recommends\", \"recommends\", \"recommends\", \"recommends\", \"recommends\", \"record\", \"record\", \"record\", \"record\", \"record\", \"recovered\", \"recovered\", \"recovered\", \"recovered\", \"recovered\", \"redfield\", \"redfield\", \"redfield\", \"redfield\", \"redfield\", \"register\", \"register\", \"register\", \"register\", \"register\", \"registration\", \"registration\", \"registration\", \"registration\", \"registration\", \"relief\", \"relief\", \"relief\", \"relief\", \"relief\", \"repeated\", \"repeated\", \"repeated\", \"repeated\", \"repeated\", \"report\", \"report\", \"report\", \"report\", \"report\", \"reported\", \"reported\", \"reported\", \"reported\", \"reported\", \"republican\", \"republican\", \"republican\", \"republican\", \"republican\", \"requiring\", \"requiring\", \"requiring\", \"requiring\", \"requiring\", \"resort\", \"resort\", \"resort\", \"resort\", \"resort\", \"resource\", \"resource\", \"resource\", \"resource\", \"resource\", \"returned\", \"returned\", \"returned\", \"returned\", \"returned\", \"revolution\", \"revolution\", \"revolution\", \"revolution\", \"revolution\", \"right\", \"right\", \"right\", \"right\", \"right\", \"rise\", \"rise\", \"rise\", \"rise\", \"rise\", \"rollout\", \"rollout\", \"rollout\", \"rollout\", \"rollout\", \"roughly\", \"roughly\", \"roughly\", \"roughly\", \"roughly\", \"safe\", \"safe\", \"safe\", \"safe\", \"safe\", \"saudi\", \"saudi\", \"saudi\", \"saudi\", \"saudi\", \"say\", \"say\", \"say\", \"say\", \"say\", \"scheduling\", \"scheduling\", \"scheduling\", \"scheduling\", \"scheduling\", \"school\", \"school\", \"school\", \"school\", \"school\", \"secondary\", \"secondary\", \"secondary\", \"secondary\", \"secondary\", \"secure\", \"secure\", \"secure\", \"secure\", \"secure\", \"senate\", \"senate\", \"senate\", \"senate\", \"senate\", \"senategop\", \"senategop\", \"senategop\", \"senategop\", \"senategop\", \"senatemajldr\", \"senatemajldr\", \"senatemajldr\", \"senatemajldr\", \"senatemajldr\", \"service\", \"service\", \"service\", \"service\", \"service\", \"session\", \"session\", \"session\", \"session\", \"session\", \"shit\", \"shit\", \"shit\", \"shit\", \"shit\", \"shocked\", \"shocked\", \"shocked\", \"shocked\", \"shocked\", \"shot\", \"shot\", \"shot\", \"shot\", \"shot\", \"sick\", \"sick\", \"sick\", \"sick\", \"sick\", \"sigh\", \"sigh\", \"sigh\", \"sigh\", \"sigh\", \"sinopharm\", \"sinopharm\", \"sinopharm\", \"sinopharm\", \"sinopharm\", \"sinovac\", \"sinovac\", \"sinovac\", \"sinovac\", \"sinovac\", \"site\", \"site\", \"site\", \"site\", \"site\", \"slot\", \"slot\", \"slot\", \"slot\", \"slot\", \"soon\", \"soon\", \"soon\", \"soon\", \"soon\", \"sooner\", \"sooner\", \"sooner\", \"sooner\", \"sooner\", \"southafrica\", \"southafrica\", \"southafrica\", \"southafrica\", \"southafrica\", \"speakerpelosi\", \"speakerpelosi\", \"speakerpelosi\", \"speakerpelosi\", \"speakerpelosi\", \"srilanka\", \"srilanka\", \"srilanka\", \"srilanka\", \"srilanka\", \"state\", \"state\", \"state\", \"state\", \"state\", \"stats\", \"stats\", \"stats\", \"stats\", \"stats\", \"stay\", \"stay\", \"stay\", \"stay\", \"stay\", \"still\", \"still\", \"still\", \"still\", \"still\", \"stimulus\", \"stimulus\", \"stimulus\", \"stimulus\", \"stimulus\", \"stop\", \"stop\", \"stop\", \"stop\", \"stop\", \"student\", \"student\", \"student\", \"student\", \"student\", \"summary\", \"summary\", \"summary\", \"summary\", \"summary\", \"superspreader\", \"superspreader\", \"superspreader\", \"superspreader\", \"superspreader\", \"support\", \"support\", \"support\", \"support\", \"support\", \"sure\", \"sure\", \"sure\", \"sure\", \"sure\", \"surpass\", \"surpass\", \"surpass\", \"surpass\", \"surpass\", \"surpassed\", \"surpassed\", \"surpassed\", \"surpassed\", \"surpassed\", \"surpasses\", \"surpasses\", \"surpasses\", \"surpasses\", \"surpasses\", \"take\", \"take\", \"take\", \"take\", \"take\", \"tally\", \"tally\", \"tally\", \"tally\", \"tally\", \"ten\", \"ten\", \"ten\", \"ten\", \"ten\", \"test\", \"test\", \"test\", \"test\", \"test\", \"testing\", \"testing\", \"testing\", \"testing\", \"testing\", \"thanksgiving\", \"thanksgiving\", \"thanksgiving\", \"thanksgiving\", \"thanksgiving\", \"thats\", \"thats\", \"thats\", \"thats\", \"thats\", \"theory\", \"theory\", \"theory\", \"theory\", \"theory\", \"therapeutic\", \"therapeutic\", \"therapeutic\", \"therapeutic\", \"therapeutic\", \"thing\", \"thing\", \"thing\", \"thing\", \"thing\", \"think\", \"think\", \"think\", \"think\", \"think\", \"thread\", \"thread\", \"thread\", \"thread\", \"thread\", \"time\", \"time\", \"time\", \"time\", \"time\", \"tired\", \"tired\", \"tired\", \"tired\", \"tired\", \"today\", \"today\", \"today\", \"today\", \"today\", \"toll\", \"toll\", \"toll\", \"toll\", \"toll\", \"top\", \"top\", \"top\", \"top\", \"top\", \"total\", \"total\", \"total\", \"total\", \"total\", \"tournament\", \"tournament\", \"tournament\", \"tournament\", \"tournament\", \"tracker\", \"tracker\", \"tracker\", \"tracker\", \"tracker\", \"travelling\", \"travelling\", \"travelling\", \"travelling\", \"travelling\", \"trillion\", \"trillion\", \"trillion\", \"trillion\", \"trillion\", \"true\", \"true\", \"true\", \"true\", \"true\", \"trump\", \"trump\", \"trump\", \"trump\", \"trump\", \"update\", \"update\", \"update\", \"update\", \"update\", \"vaccinated\", \"vaccinated\", \"vaccinated\", \"vaccinated\", \"vaccinated\", \"vaccination\", \"vaccination\", \"vaccination\", \"vaccination\", \"vaccination\", \"vaccine\", \"vaccine\", \"vaccine\", \"vaccine\", \"vaccine\", \"variant\", \"variant\", \"variant\", \"variant\", \"variant\", \"virtual\", \"virtual\", \"virtual\", \"virtual\", \"virtual\", \"virus\", \"virus\", \"virus\", \"virus\", \"virus\", \"visit\", \"visit\", \"visit\", \"visit\", \"visit\", \"vitamin\", \"vitamin\", \"vitamin\", \"vitamin\", \"vitamin\", \"vote\", \"vote\", \"vote\", \"vote\", \"vote\", \"voted\", \"voted\", \"voted\", \"voted\", \"voted\", \"wait\", \"wait\", \"wait\", \"wait\", \"wait\", \"wale\", \"wale\", \"wale\", \"wale\", \"wale\", \"want\", \"want\", \"want\", \"want\", \"want\", \"warp\", \"warp\", \"warp\", \"warp\", \"warp\", \"wash\", \"wash\", \"wash\", \"wash\", \"wash\", \"washing\", \"washing\", \"washing\", \"washing\", \"washing\", \"wear\", \"wear\", \"wear\", \"wear\", \"wear\", \"wearamask\", \"wearamask\", \"wearamask\", \"wearamask\", \"wearamask\", \"wearing\", \"wearing\", \"wearing\", \"wearing\", \"wearing\", \"webinar\", \"webinar\", \"webinar\", \"webinar\", \"webinar\", \"week\", \"week\", \"week\", \"week\", \"week\", \"weird\", \"weird\", \"weird\", \"weird\", \"weird\", \"well\", \"well\", \"well\", \"well\", \"well\", \"welp\", \"welp\", \"welp\", \"welp\", \"welp\", \"white\", \"white\", \"white\", \"white\", \"white\", \"work\", \"work\", \"work\", \"work\", \"work\", \"worker\", \"worker\", \"worker\", \"worker\", \"worker\", \"world\", \"world\", \"world\", \"world\", \"world\", \"would\", \"would\", \"would\", \"would\", \"would\", \"year\", \"year\", \"year\", \"year\", \"year\", \"yikes\", \"yikes\", \"yikes\", \"yikes\", \"yikes\"]}, \"R\": 30, \"lambda.step\": 0.01, \"plot.opts\": {\"xlab\": \"PC1\", \"ylab\": \"PC2\"}, \"topic.order\": [2, 1, 3, 4, 5]};\n",
              "\n",
              "function LDAvis_load_lib(url, callback){\n",
              "  var s = document.createElement('script');\n",
              "  s.src = url;\n",
              "  s.async = true;\n",
              "  s.onreadystatechange = s.onload = callback;\n",
              "  s.onerror = function(){console.warn(\"failed to load library \" + url);};\n",
              "  document.getElementsByTagName(\"head\")[0].appendChild(s);\n",
              "}\n",
              "\n",
              "if(typeof(LDAvis) !== \"undefined\"){\n",
              "   // already loaded: just create the visualization\n",
              "   !function(LDAvis){\n",
              "       new LDAvis(\"#\" + \"ldavis_el14621401064952707366857900164\", ldavis_el14621401064952707366857900164_data);\n",
              "   }(LDAvis);\n",
              "}else if(typeof define === \"function\" && define.amd){\n",
              "   // require.js is available: use it to load d3/LDAvis\n",
              "   require.config({paths: {d3: \"https://d3js.org/d3.v5\"}});\n",
              "   require([\"d3\"], function(d3){\n",
              "      window.d3 = d3;\n",
              "      LDAvis_load_lib(\"https://cdn.jsdelivr.net/gh/bmabey/pyLDAvis@3.3.1/pyLDAvis/js/ldavis.v3.0.0.js\", function(){\n",
              "        new LDAvis(\"#\" + \"ldavis_el14621401064952707366857900164\", ldavis_el14621401064952707366857900164_data);\n",
              "      });\n",
              "    });\n",
              "}else{\n",
              "    // require.js not available: dynamically load d3 & LDAvis\n",
              "    LDAvis_load_lib(\"https://d3js.org/d3.v5.js\", function(){\n",
              "         LDAvis_load_lib(\"https://cdn.jsdelivr.net/gh/bmabey/pyLDAvis@3.3.1/pyLDAvis/js/ldavis.v3.0.0.js\", function(){\n",
              "                 new LDAvis(\"#\" + \"ldavis_el14621401064952707366857900164\", ldavis_el14621401064952707366857900164_data);\n",
              "            })\n",
              "         });\n",
              "}\n",
              "</script>"
            ],
            "text/plain": [
              "PreparedData(topic_coordinates=              x         y  topics  cluster       Freq\n",
              "topic                                                \n",
              "1      0.085353  0.116661       1        1  25.790992\n",
              "0      0.001017 -0.168669       2        1  24.813276\n",
              "2      0.071251  0.065405       3        1  20.067046\n",
              "3     -0.254459  0.037429       4        1  17.689803\n",
              "4      0.096837 -0.050827       5        1  11.638882, topic_info=          Term          Freq         Total Category  logprob  loglift\n",
              "103       case  18158.000000  18158.000000  Default  30.0000  30.0000\n",
              "182      death  13630.000000  13630.000000  Default  29.0000  29.0000\n",
              "783      total   4559.000000   4559.000000  Default  28.0000  28.0000\n",
              "4107   variant   4933.000000   4933.000000  Default  27.0000  27.0000\n",
              "184   reported   4000.000000   4000.000000  Default  26.0000  26.0000\n",
              "...        ...           ...           ...      ...      ...      ...\n",
              "179      virus    727.833873   6541.296061   Topic5  -6.3068  -0.0450\n",
              "219       well    661.870597   5309.839410   Topic5  -6.4018   0.0686\n",
              "63        know    656.039829   6641.642266   Topic5  -6.4107  -0.1641\n",
              "36        even    627.586855   4605.806800   Topic5  -6.4550   0.1576\n",
              "654       read    619.446842   4506.200362   Topic5  -6.4681   0.1664\n",
              "\n",
              "[452 rows x 6 columns], token_table=      Topic      Freq        Term\n",
              "term                             \n",
              "2236      1  0.839348  absolutely\n",
              "2236      2  0.015018  absolutely\n",
              "2236      3  0.091778  absolutely\n",
              "2236      4  0.006675  absolutely\n",
              "2236      5  0.046723  absolutely\n",
              "...     ...       ...         ...\n",
              "1160      1  0.002333       yikes\n",
              "1160      2  0.002333       yikes\n",
              "1160      3  0.002333       yikes\n",
              "1160      4  0.993761       yikes\n",
              "1160      5  0.002333       yikes\n",
              "\n",
              "[1920 rows x 3 columns], R=30, lambda_step=0.01, plot_opts={'xlab': 'PC1', 'ylab': 'PC2'}, topic_order=[2, 1, 3, 4, 5])"
            ]
          },
          "metadata": {
            "tags": []
          },
          "execution_count": 23
        }
      ]
    },
    {
      "cell_type": "code",
      "metadata": {
        "id": "IChZW5g4d32q"
      },
      "source": [
        "get_document_topics = loaded_model.get_document_topics(corpus_tfidf)\n",
        "# get_document_topics = lda_model_tfidf.get_document_topics(corpus_tfidf)"
      ],
      "execution_count": null,
      "outputs": []
    },
    {
      "cell_type": "markdown",
      "metadata": {
        "id": "AA9IqXMx9hJS"
      },
      "source": [
        "### Sauvegarde des données et modèles"
      ]
    },
    {
      "cell_type": "code",
      "metadata": {
        "id": "z0Q9h76URg1u"
      },
      "source": [
        "filename = '/content/drive/My Drive/models/lda_model_tfidf.sav'\n",
        "pickle.dump(lda_model_tfidf, open(filename, 'wb'))"
      ],
      "execution_count": null,
      "outputs": []
    },
    {
      "cell_type": "code",
      "metadata": {
        "id": "6oy3OSuwR_2B"
      },
      "source": [
        "filename = '/content/drive/My Drive/models/lda_model.sav'\n",
        "pickle.dump(lda_model, open(filename, 'wb'))"
      ],
      "execution_count": null,
      "outputs": []
    },
    {
      "cell_type": "code",
      "metadata": {
        "id": "t1gDP4CGCI_W"
      },
      "source": [
        "np.save(\"/content/drive/My Drive/models/lda_bow.npy\", bow_corpus)"
      ],
      "execution_count": null,
      "outputs": []
    },
    {
      "cell_type": "code",
      "metadata": {
        "id": "hdhOlwoOR0C7"
      },
      "source": [
        "filename = '/content/drive/My Drive/models/lda_model_tfidf.sav'\n",
        "loaded_model = pickle.load(open(filename, 'rb'))"
      ],
      "execution_count": null,
      "outputs": []
    },
    {
      "cell_type": "code",
      "metadata": {
        "id": "xjZohYF_Pb_0"
      },
      "source": [
        "bow_corpus = np.load('/content/drive/My Drive/models/lda_bow.npy', allow_pickle=True)"
      ],
      "execution_count": null,
      "outputs": []
    },
    {
      "cell_type": "code",
      "metadata": {
        "id": "AeJUqSD0PAql"
      },
      "source": [
        "pyLDAvis.enable_notebook()\n",
        "vis = gensimvis.prepare(loaded_model, bow_corpus, dictionary=loaded_model.id2word)\n",
        "pyLDAvis.save_html(vis,\"lda_topic_vis.html\")\n"
      ],
      "execution_count": null,
      "outputs": []
    },
    {
      "cell_type": "code",
      "metadata": {
        "id": "be7gg7Ouf3su"
      },
      "source": [
        "def get_tweet_by_df_id(id,df):\n",
        "  return df.iloc[id,:]['id']\n",
        "  \n",
        "cpt=0\n",
        "docs = dict(list())\n",
        "topic=4\n",
        "\n",
        "for i in get_document_topics:\n",
        "  tmp = sorted(i, key=lambda tup: tup[1])\n",
        "  if(docs.get(tmp[0][0],None) is None):\n",
        "     docs[tmp[0][0]]=[]\n",
        "  docs[tmp[0][0]].append(get_tweet_by_df_id(cpt,df))\n",
        "  cpt+=1"
      ],
      "execution_count": null,
      "outputs": []
    },
    {
      "cell_type": "code",
      "metadata": {
        "id": "xbmjBjvEgT5A"
      },
      "source": [
        "filename = '/content/drive/My Drive/models/tweetsIdsByTopic.npy'\n",
        "pickle.dump(docs, open(filename, 'wb'))"
      ],
      "execution_count": null,
      "outputs": []
    },
    {
      "cell_type": "code",
      "metadata": {
        "id": "BNFZJEb5naQ7"
      },
      "source": [
        "filename = '/content/drive/My Drive/models/tweetsIdsByTopic.npy'\n",
        "doc = pickle.load(open(filename, 'rb'))"
      ],
      "execution_count": null,
      "outputs": []
    }
  ]
}